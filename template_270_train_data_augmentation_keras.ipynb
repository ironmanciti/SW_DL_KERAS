{
 "cells": [
  {
   "cell_type": "markdown",
   "metadata": {
    "id": "N1Zt_EpuzauW"
   },
   "source": [
    "# Keras에서 데이터 증강을 사용한 Training\n",
    "Cifar10 image 분류기를 처음부터 훈련하고 데이터 증강이 얼마나 많은 이점을 가져올 수 있는지 확인할 것입니다."
   ]
  },
  {
   "cell_type": "markdown",
   "metadata": {
    "id": "WCEA5foh4bpU"
   },
   "source": [
    "그리고 데이터 세트의 처음 몇 개 이미지를 표시하는 도우미 함수를 정의할 것입니다."
   ]
  },
  {
   "cell_type": "markdown",
   "metadata": {
    "id": "oK3dt_at4qKd"
   },
   "source": [
    "## Cifar10 데이터 세트 로드  \n",
    "Cifar10 데이터 세트를 가져오고 해당 클래스와 함께 몇 가지 이미지를 플로팅해 봅니다."
   ]
  },
  {
   "cell_type": "markdown",
   "metadata": {
    "id": "eZ04Lw6J5g4I"
   },
   "source": [
    "## Model Train"
   ]
  },
  {
   "cell_type": "markdown",
   "metadata": {
    "id": "2xyf6INC50C7"
   },
   "source": [
    "## 모델 정의\n",
    "VGG 스타일의 합성곱 신경망 분류기를 생성하는 함수를 만듭니다.\n",
    "\n",
    "- VGG 스타일\n",
    "    - 3 x 3 필터로 두 차례 컨볼루션을 하는 것과 5 x 5 필터로 한 번 컨볼루션을 하는 것이 결과적으로 동일한 사이즈의 특성맵을 산출\n",
    "    - 3x3 필터가 두개면 18개의 가중치이고 5x5 필터 한개는 25개의 가중치인데, CNN에서 가중치는 모두 훈련이 필요한 것들이므로, 가중치가 적다는 것은 그만큼 훈련시켜야할 것의 갯수가 작아진다. 따라서 학습의 속도가 빨라진다. "
   ]
  },
  {
   "cell_type": "markdown",
   "metadata": {
    "id": "l-Oas5QR6EpR"
   },
   "source": [
    "## 데이터 증강 없이 훈련\n",
    "\n",
    "데이터 증강 후의 모델과 비교하기 위해 데이터 증강 없이 Train"
   ]
  },
  {
   "cell_type": "markdown",
   "metadata": {
    "id": "cYziioLF6a3s"
   },
   "source": [
    "## Data Augmentation 정의\n",
    "이제 데이터 증강 파이프라인을 설정하고 몇 가지 증강 이미지를 표시합니다."
   ]
  },
  {
   "cell_type": "markdown",
   "metadata": {
    "id": "wP3RhsIE7mZY"
   },
   "source": [
    "## Data Augmentation을 이용한 Train"
   ]
  },
  {
   "cell_type": "markdown",
   "metadata": {
    "id": "_Zq5M_a88cAk"
   },
   "source": [
    "# Results\n",
    "단일 plot에서 두 개 model을 비교"
   ]
  },
  {
   "cell_type": "markdown",
   "metadata": {
    "id": "lrugz6Ivf7wf"
   },
   "source": [
    "augement된 data에 비해 no augmented data는 overfitting 이 심한 것을 알 수 있다. 즉, data augmentation 에 의해 model의 overfitting이 완화 되었다."
   ]
  }
 ],
 "metadata": {
  "accelerator": "GPU",
  "colab": {
   "collapsed_sections": [],
   "provenance": []
  },
  "kernelspec": {
   "display_name": "Python 3 (ipykernel)",
   "language": "python",
   "name": "python3"
  },
  "language_info": {
   "codemirror_mode": {
    "name": "ipython",
    "version": 3
   },
   "file_extension": ".py",
   "mimetype": "text/x-python",
   "name": "python",
   "nbconvert_exporter": "python",
   "pygments_lexer": "ipython3",
   "version": "3.8.13"
  }
 },
 "nbformat": 4,
 "nbformat_minor": 0
}
