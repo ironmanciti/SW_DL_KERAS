{
 "cells": [
  {
   "cell_type": "markdown",
   "metadata": {
    "id": "JnKRe0p9h35K"
   },
   "source": [
    "# Keras에 내장된 사전 훈련 모델을 이용한 Image 분류\n",
    "\n",
    "- ResNet50 pre-trained model 사용\n",
    "\n",
    "- 1000 개의 class 분류 모델인 ResNet50 을 binary classifier (cat, dog) 으로 변형\n",
    "\n",
    "- google colab 사용  \n",
    "\n",
    "- My Drive 에 training data upload"
   ]
  },
  {
   "cell_type": "markdown",
   "metadata": {
    "id": "fr6pOOh0hHaj"
   },
   "source": [
    "## STEP #1: IMPORT LIBRARIES"
   ]
  },
  {
   "cell_type": "markdown",
   "metadata": {
    "id": "qqOSkGp9R55q"
   },
   "source": [
    "## STEP #2: 사전 훈련된 가중치가 있는 모델 가져 오기"
   ]
  },
  {
   "cell_type": "markdown",
   "metadata": {
    "id": "jWb45OshSDsr"
   },
   "source": [
    "## STEP #3: 사전 훈련된 모델 평가"
   ]
  },
  {
   "cell_type": "markdown",
   "metadata": {
    "id": "AVEinq4IfuZ5"
   },
   "source": [
    "지정한 URL 에서 data 를 가져와 압축해제"
   ]
  },
  {
   "cell_type": "markdown",
   "metadata": {
    "id": "kmM92S_O6ROF"
   },
   "source": [
    "**tf.keras.preprocessing.image.load_img** - image 를 PIL (Python Image Library) format 으로 load  \n",
    "\n",
    "**tf.keras.preprocessing.image.img_to_array** - PIL image 를 numpy array 로 변경"
   ]
  },
  {
   "cell_type": "markdown",
   "metadata": {
    "id": "4aLthYPzorJa"
   },
   "source": [
    "### ResNet50 의 입력 spec 에 맞도록 Sample_Image preprocessing"
   ]
  },
  {
   "cell_type": "markdown",
   "metadata": {
    "id": "uztWKZ8LpQuB"
   },
   "source": [
    "### 확률 분포로 반환된 prediction 을 category name 으로 decode"
   ]
  },
  {
   "cell_type": "markdown",
   "metadata": {
    "id": "3AO4TXdhs4rU"
   },
   "source": [
    "### ImageDataGenerator 생성"
   ]
  },
  {
   "cell_type": "markdown",
   "metadata": {
    "id": "H38yzWMAn7hu"
   },
   "source": [
    "## STEP #4: 전이학습 적용 및 model RETRAIN \n",
    "\n",
    "- ResNet50 의 top layer 제거 (include_top = False)\n",
    "- GlobalAaveragePooling2D + Dense() layer 5 개 추가\n",
    "    - global_average_layer = keras.layers.GlobalAveragePooling2D()(base_model.output)\n",
    "    - prediction_layer = keras.layers.Dense(units=2, activation='softmax')(global_average_layer)"
   ]
  },
  {
   "cell_type": "markdown",
   "metadata": {
    "id": "6mtXPmkA0V9W"
   },
   "source": [
    "### base model 의 top 에 5 개 layer 추가"
   ]
  },
  {
   "cell_type": "markdown",
   "metadata": {
    "id": "3x6JUbE0sHPh"
   },
   "source": [
    "### Fine tuning 하기 전에 새로이 add 한 Top 5 layer 들을 1 차 training 하여 초기화"
   ]
  },
  {
   "cell_type": "markdown",
   "metadata": {
    "id": "JtaefF85r7DY"
   },
   "source": [
    "### Top 50 개 layer 를 fine tuning"
   ]
  },
  {
   "cell_type": "markdown",
   "metadata": {
    "id": "0wR3uKW8g5po"
   },
   "source": [
    "## STEP #5: MODEL 평가"
   ]
  }
 ],
 "metadata": {
  "accelerator": "GPU",
  "colab": {
   "collapsed_sections": [],
   "provenance": []
  },
  "kernelspec": {
   "display_name": "Python 3 (ipykernel)",
   "language": "python",
   "name": "python3"
  },
  "language_info": {
   "codemirror_mode": {
    "name": "ipython",
    "version": 3
   },
   "file_extension": ".py",
   "mimetype": "text/x-python",
   "name": "python",
   "nbconvert_exporter": "python",
   "pygments_lexer": "ipython3",
   "version": "3.8.13"
  }
 },
 "nbformat": 4,
 "nbformat_minor": 0
}
