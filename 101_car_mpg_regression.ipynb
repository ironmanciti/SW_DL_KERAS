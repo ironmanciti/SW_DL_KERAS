{
  "cells": [
    {
      "cell_type": "markdown",
      "metadata": {
        "id": "EIdT9iu_Z4Rb"
      },
      "source": [
        "# 자동차 연비 예측하기: 회귀\n",
        "\n",
        "### Colab 에서 작성"
      ]
    },
    {
      "cell_type": "markdown",
      "metadata": {
        "id": "AHp3M9ZmrIxj"
      },
      "source": [
        "*회귀*(regression)는 가격이나 확률 같이 연속된 출력 값을 예측하는 것입니다. \n",
        "\n",
        "이 노트북은 [Auto MPG](https://archive.ics.uci.edu/ml/datasets/auto+mpg) 데이터셋을 사용하여 1970년대 후반과 1980년대 초반에 생산된 자동차 연비를 예측하는 모델을 만듭니다. 이 기간에 출시된 자동차 정보를 모델에 제공합니다. 이 정보에는 실린더 수, 배기량, 마력(horsepower), 공차 중량 같은 속성이 포함됩니다."
      ]
    },
    {
      "cell_type": "code",
      "execution_count": 1,
      "metadata": {
        "id": "1rRo8oNqZ-Rj"
      },
      "outputs": [],
      "source": [
        "import matplotlib.pyplot as plt\n",
        "import pandas as pd\n",
        "import numpy as np\n",
        "import seaborn as sns\n",
        "from sklearn.model_selection import train_test_split\n",
        "from sklearn.preprocessing import StandardScaler\n",
        "\n",
        "import tensorflow as tf\n",
        "from tensorflow.keras.layers import Dense"
      ]
    },
    {
      "cell_type": "markdown",
      "metadata": {
        "id": "F_72b0LCNbjx"
      },
      "source": [
        "## Auto MPG 데이터셋\n",
        "\n",
        "- 이 데이터셋은 [UCI 머신 러닝 저장소](https://archive.ics.uci.edu/ml/)에서 다운로드할 수 있습니다.  \n",
        "\n",
        "\n",
        "- Attribute Information:  \n",
        "    1. mpg: 연비, 연속형 변수  \n",
        "    2. cylinders: 이산형  \n",
        "    3. displacement: 연속형  \n",
        "    4. horsepower: 연속형  \n",
        "    5. weight: 연속형  \n",
        "    6. acceleration: 연속형  \n",
        "    7. model year: 이산형  \n",
        "    8. origin: 이산형 (1: USA, 2: Europe, 3: Japan)"
      ]
    },
    {
      "cell_type": "markdown",
      "metadata": {
        "id": "gFh9ne3FZ-On"
      },
      "source": [
        "### 데이터 download"
      ]
    },
    {
      "cell_type": "code",
      "execution_count": 2,
      "metadata": {
        "colab": {
          "base_uri": "https://localhost:8080/",
          "height": 36
        },
        "id": "p9kxxgzvzlyz",
        "outputId": "925b6c30-c92d-424d-d18f-d37b729326d9"
      },
      "outputs": [
        {
          "output_type": "execute_result",
          "data": {
            "text/plain": [
              "'/content/auto-mpg.data'"
            ],
            "application/vnd.google.colaboratory.intrinsic+json": {
              "type": "string"
            }
          },
          "metadata": {},
          "execution_count": 2
        }
      ],
      "source": [
        "dataset_path = tf.keras.utils.get_file(\"/content/auto-mpg.data\", \"http://archive.ics.uci.edu/ml/machine-learning-databases/auto-mpg/auto-mpg.data\")\n",
        "dataset_path"
      ]
    },
    {
      "cell_type": "markdown",
      "metadata": {
        "id": "nslsRLh7Zss4"
      },
      "source": [
        "data를 읽어 DataFrame으로 만듭니다."
      ]
    },
    {
      "cell_type": "code",
      "execution_count": 3,
      "metadata": {
        "colab": {
          "base_uri": "https://localhost:8080/",
          "height": 206
        },
        "id": "CiX2FI4gZtTt",
        "outputId": "1d895aeb-8fa1-448f-a83e-c9b80723ce88"
      },
      "outputs": [
        {
          "output_type": "execute_result",
          "data": {
            "text/plain": [
              "    MPG  Cylinders  Displacement  Horsepower  Weight  Acceleration  \\\n",
              "0  18.0          8         307.0       130.0  3504.0          12.0   \n",
              "1  15.0          8         350.0       165.0  3693.0          11.5   \n",
              "2  18.0          8         318.0       150.0  3436.0          11.0   \n",
              "3  16.0          8         304.0       150.0  3433.0          12.0   \n",
              "4  17.0          8         302.0       140.0  3449.0          10.5   \n",
              "\n",
              "   Model Year  Origin  \n",
              "0          70       1  \n",
              "1          70       1  \n",
              "2          70       1  \n",
              "3          70       1  \n",
              "4          70       1  "
            ],
            "text/html": [
              "\n",
              "  <div id=\"df-9b2b43ad-73c0-422a-ab26-8ae8b433c879\">\n",
              "    <div class=\"colab-df-container\">\n",
              "      <div>\n",
              "<style scoped>\n",
              "    .dataframe tbody tr th:only-of-type {\n",
              "        vertical-align: middle;\n",
              "    }\n",
              "\n",
              "    .dataframe tbody tr th {\n",
              "        vertical-align: top;\n",
              "    }\n",
              "\n",
              "    .dataframe thead th {\n",
              "        text-align: right;\n",
              "    }\n",
              "</style>\n",
              "<table border=\"1\" class=\"dataframe\">\n",
              "  <thead>\n",
              "    <tr style=\"text-align: right;\">\n",
              "      <th></th>\n",
              "      <th>MPG</th>\n",
              "      <th>Cylinders</th>\n",
              "      <th>Displacement</th>\n",
              "      <th>Horsepower</th>\n",
              "      <th>Weight</th>\n",
              "      <th>Acceleration</th>\n",
              "      <th>Model Year</th>\n",
              "      <th>Origin</th>\n",
              "    </tr>\n",
              "  </thead>\n",
              "  <tbody>\n",
              "    <tr>\n",
              "      <th>0</th>\n",
              "      <td>18.0</td>\n",
              "      <td>8</td>\n",
              "      <td>307.0</td>\n",
              "      <td>130.0</td>\n",
              "      <td>3504.0</td>\n",
              "      <td>12.0</td>\n",
              "      <td>70</td>\n",
              "      <td>1</td>\n",
              "    </tr>\n",
              "    <tr>\n",
              "      <th>1</th>\n",
              "      <td>15.0</td>\n",
              "      <td>8</td>\n",
              "      <td>350.0</td>\n",
              "      <td>165.0</td>\n",
              "      <td>3693.0</td>\n",
              "      <td>11.5</td>\n",
              "      <td>70</td>\n",
              "      <td>1</td>\n",
              "    </tr>\n",
              "    <tr>\n",
              "      <th>2</th>\n",
              "      <td>18.0</td>\n",
              "      <td>8</td>\n",
              "      <td>318.0</td>\n",
              "      <td>150.0</td>\n",
              "      <td>3436.0</td>\n",
              "      <td>11.0</td>\n",
              "      <td>70</td>\n",
              "      <td>1</td>\n",
              "    </tr>\n",
              "    <tr>\n",
              "      <th>3</th>\n",
              "      <td>16.0</td>\n",
              "      <td>8</td>\n",
              "      <td>304.0</td>\n",
              "      <td>150.0</td>\n",
              "      <td>3433.0</td>\n",
              "      <td>12.0</td>\n",
              "      <td>70</td>\n",
              "      <td>1</td>\n",
              "    </tr>\n",
              "    <tr>\n",
              "      <th>4</th>\n",
              "      <td>17.0</td>\n",
              "      <td>8</td>\n",
              "      <td>302.0</td>\n",
              "      <td>140.0</td>\n",
              "      <td>3449.0</td>\n",
              "      <td>10.5</td>\n",
              "      <td>70</td>\n",
              "      <td>1</td>\n",
              "    </tr>\n",
              "  </tbody>\n",
              "</table>\n",
              "</div>\n",
              "      <button class=\"colab-df-convert\" onclick=\"convertToInteractive('df-9b2b43ad-73c0-422a-ab26-8ae8b433c879')\"\n",
              "              title=\"Convert this dataframe to an interactive table.\"\n",
              "              style=\"display:none;\">\n",
              "        \n",
              "  <svg xmlns=\"http://www.w3.org/2000/svg\" height=\"24px\"viewBox=\"0 0 24 24\"\n",
              "       width=\"24px\">\n",
              "    <path d=\"M0 0h24v24H0V0z\" fill=\"none\"/>\n",
              "    <path d=\"M18.56 5.44l.94 2.06.94-2.06 2.06-.94-2.06-.94-.94-2.06-.94 2.06-2.06.94zm-11 1L8.5 8.5l.94-2.06 2.06-.94-2.06-.94L8.5 2.5l-.94 2.06-2.06.94zm10 10l.94 2.06.94-2.06 2.06-.94-2.06-.94-.94-2.06-.94 2.06-2.06.94z\"/><path d=\"M17.41 7.96l-1.37-1.37c-.4-.4-.92-.59-1.43-.59-.52 0-1.04.2-1.43.59L10.3 9.45l-7.72 7.72c-.78.78-.78 2.05 0 2.83L4 21.41c.39.39.9.59 1.41.59.51 0 1.02-.2 1.41-.59l7.78-7.78 2.81-2.81c.8-.78.8-2.07 0-2.86zM5.41 20L4 18.59l7.72-7.72 1.47 1.35L5.41 20z\"/>\n",
              "  </svg>\n",
              "      </button>\n",
              "      \n",
              "  <style>\n",
              "    .colab-df-container {\n",
              "      display:flex;\n",
              "      flex-wrap:wrap;\n",
              "      gap: 12px;\n",
              "    }\n",
              "\n",
              "    .colab-df-convert {\n",
              "      background-color: #E8F0FE;\n",
              "      border: none;\n",
              "      border-radius: 50%;\n",
              "      cursor: pointer;\n",
              "      display: none;\n",
              "      fill: #1967D2;\n",
              "      height: 32px;\n",
              "      padding: 0 0 0 0;\n",
              "      width: 32px;\n",
              "    }\n",
              "\n",
              "    .colab-df-convert:hover {\n",
              "      background-color: #E2EBFA;\n",
              "      box-shadow: 0px 1px 2px rgba(60, 64, 67, 0.3), 0px 1px 3px 1px rgba(60, 64, 67, 0.15);\n",
              "      fill: #174EA6;\n",
              "    }\n",
              "\n",
              "    [theme=dark] .colab-df-convert {\n",
              "      background-color: #3B4455;\n",
              "      fill: #D2E3FC;\n",
              "    }\n",
              "\n",
              "    [theme=dark] .colab-df-convert:hover {\n",
              "      background-color: #434B5C;\n",
              "      box-shadow: 0px 1px 3px 1px rgba(0, 0, 0, 0.15);\n",
              "      filter: drop-shadow(0px 1px 2px rgba(0, 0, 0, 0.3));\n",
              "      fill: #FFFFFF;\n",
              "    }\n",
              "  </style>\n",
              "\n",
              "      <script>\n",
              "        const buttonEl =\n",
              "          document.querySelector('#df-9b2b43ad-73c0-422a-ab26-8ae8b433c879 button.colab-df-convert');\n",
              "        buttonEl.style.display =\n",
              "          google.colab.kernel.accessAllowed ? 'block' : 'none';\n",
              "\n",
              "        async function convertToInteractive(key) {\n",
              "          const element = document.querySelector('#df-9b2b43ad-73c0-422a-ab26-8ae8b433c879');\n",
              "          const dataTable =\n",
              "            await google.colab.kernel.invokeFunction('convertToInteractive',\n",
              "                                                     [key], {});\n",
              "          if (!dataTable) return;\n",
              "\n",
              "          const docLinkHtml = 'Like what you see? Visit the ' +\n",
              "            '<a target=\"_blank\" href=https://colab.research.google.com/notebooks/data_table.ipynb>data table notebook</a>'\n",
              "            + ' to learn more about interactive tables.';\n",
              "          element.innerHTML = '';\n",
              "          dataTable['output_type'] = 'display_data';\n",
              "          await google.colab.output.renderOutput(dataTable, element);\n",
              "          const docLink = document.createElement('div');\n",
              "          docLink.innerHTML = docLinkHtml;\n",
              "          element.appendChild(docLink);\n",
              "        }\n",
              "      </script>\n",
              "    </div>\n",
              "  </div>\n",
              "  "
            ]
          },
          "metadata": {},
          "execution_count": 3
        }
      ],
      "source": [
        "column_names = ['MPG', 'Cylinders', 'Displacement', 'Horsepower', 'Weight',\n",
        "                             'Acceleration', 'Model Year', 'Origin']\n",
        "raw_dataset = pd.read_csv(dataset_path, names=column_names,\n",
        "                         na_values = \"?\", comment='\\t',\n",
        "                        sep=\" \", skipinitialspace=True)\n",
        "\n",
        "df = raw_dataset.copy()\n",
        "df.head()"
      ]
    },
    {
      "cell_type": "markdown",
      "metadata": {
        "id": "3MWuJTKEDM-f"
      },
      "source": [
        "### 데이터 정제\n",
        "\n",
        "이 데이터셋은 일부 데이터가 누락되어 있습니다."
      ]
    },
    {
      "cell_type": "code",
      "execution_count": 4,
      "metadata": {
        "colab": {
          "base_uri": "https://localhost:8080/"
        },
        "id": "JEJHhN65a2VV",
        "outputId": "74f9fe28-3bdf-4079-e6eb-32217b9a1c86"
      },
      "outputs": [
        {
          "output_type": "execute_result",
          "data": {
            "text/plain": [
              "MPG             0\n",
              "Cylinders       0\n",
              "Displacement    0\n",
              "Horsepower      6\n",
              "Weight          0\n",
              "Acceleration    0\n",
              "Model Year      0\n",
              "Origin          0\n",
              "dtype: int64"
            ]
          },
          "metadata": {},
          "execution_count": 4
        }
      ],
      "source": [
        "df.isna().sum()"
      ]
    },
    {
      "cell_type": "markdown",
      "metadata": {
        "id": "9UPN0KBHa_WI"
      },
      "source": [
        "문제를 간단하게 만들기 위해서 missing value가 있는 행을 삭제합니다."
      ]
    },
    {
      "cell_type": "code",
      "execution_count": 5,
      "metadata": {
        "id": "4ZUDosChC1UN"
      },
      "outputs": [],
      "source": [
        "df = df.dropna()"
      ]
    },
    {
      "cell_type": "markdown",
      "metadata": {
        "id": "8XKitwaH4v8h"
      },
      "source": [
        "`\"Origin\"` 열은 수치형이 아니고 범주형이므로 원-핫 인코딩(one-hot encoding)으로 변환하겠습니다:  \n",
        "1 - `USA`  \n",
        "2 - `Europe`  \n",
        "3 - `Japan`"
      ]
    },
    {
      "cell_type": "code",
      "source": [
        "df = pd.get_dummies(df, columns=[\"Origin\"])\n",
        "df.head()"
      ],
      "metadata": {
        "colab": {
          "base_uri": "https://localhost:8080/",
          "height": 206
        },
        "id": "G2UV3hnzCMTG",
        "outputId": "2683ea67-572f-413f-e7d2-d2334aa128eb"
      },
      "execution_count": 6,
      "outputs": [
        {
          "output_type": "execute_result",
          "data": {
            "text/plain": [
              "    MPG  Cylinders  Displacement  Horsepower  Weight  Acceleration  \\\n",
              "0  18.0          8         307.0       130.0  3504.0          12.0   \n",
              "1  15.0          8         350.0       165.0  3693.0          11.5   \n",
              "2  18.0          8         318.0       150.0  3436.0          11.0   \n",
              "3  16.0          8         304.0       150.0  3433.0          12.0   \n",
              "4  17.0          8         302.0       140.0  3449.0          10.5   \n",
              "\n",
              "   Model Year  Origin_1  Origin_2  Origin_3  \n",
              "0          70         1         0         0  \n",
              "1          70         1         0         0  \n",
              "2          70         1         0         0  \n",
              "3          70         1         0         0  \n",
              "4          70         1         0         0  "
            ],
            "text/html": [
              "\n",
              "  <div id=\"df-f9d2585f-b0e8-43e7-aba8-4ac3f4d0b033\">\n",
              "    <div class=\"colab-df-container\">\n",
              "      <div>\n",
              "<style scoped>\n",
              "    .dataframe tbody tr th:only-of-type {\n",
              "        vertical-align: middle;\n",
              "    }\n",
              "\n",
              "    .dataframe tbody tr th {\n",
              "        vertical-align: top;\n",
              "    }\n",
              "\n",
              "    .dataframe thead th {\n",
              "        text-align: right;\n",
              "    }\n",
              "</style>\n",
              "<table border=\"1\" class=\"dataframe\">\n",
              "  <thead>\n",
              "    <tr style=\"text-align: right;\">\n",
              "      <th></th>\n",
              "      <th>MPG</th>\n",
              "      <th>Cylinders</th>\n",
              "      <th>Displacement</th>\n",
              "      <th>Horsepower</th>\n",
              "      <th>Weight</th>\n",
              "      <th>Acceleration</th>\n",
              "      <th>Model Year</th>\n",
              "      <th>Origin_1</th>\n",
              "      <th>Origin_2</th>\n",
              "      <th>Origin_3</th>\n",
              "    </tr>\n",
              "  </thead>\n",
              "  <tbody>\n",
              "    <tr>\n",
              "      <th>0</th>\n",
              "      <td>18.0</td>\n",
              "      <td>8</td>\n",
              "      <td>307.0</td>\n",
              "      <td>130.0</td>\n",
              "      <td>3504.0</td>\n",
              "      <td>12.0</td>\n",
              "      <td>70</td>\n",
              "      <td>1</td>\n",
              "      <td>0</td>\n",
              "      <td>0</td>\n",
              "    </tr>\n",
              "    <tr>\n",
              "      <th>1</th>\n",
              "      <td>15.0</td>\n",
              "      <td>8</td>\n",
              "      <td>350.0</td>\n",
              "      <td>165.0</td>\n",
              "      <td>3693.0</td>\n",
              "      <td>11.5</td>\n",
              "      <td>70</td>\n",
              "      <td>1</td>\n",
              "      <td>0</td>\n",
              "      <td>0</td>\n",
              "    </tr>\n",
              "    <tr>\n",
              "      <th>2</th>\n",
              "      <td>18.0</td>\n",
              "      <td>8</td>\n",
              "      <td>318.0</td>\n",
              "      <td>150.0</td>\n",
              "      <td>3436.0</td>\n",
              "      <td>11.0</td>\n",
              "      <td>70</td>\n",
              "      <td>1</td>\n",
              "      <td>0</td>\n",
              "      <td>0</td>\n",
              "    </tr>\n",
              "    <tr>\n",
              "      <th>3</th>\n",
              "      <td>16.0</td>\n",
              "      <td>8</td>\n",
              "      <td>304.0</td>\n",
              "      <td>150.0</td>\n",
              "      <td>3433.0</td>\n",
              "      <td>12.0</td>\n",
              "      <td>70</td>\n",
              "      <td>1</td>\n",
              "      <td>0</td>\n",
              "      <td>0</td>\n",
              "    </tr>\n",
              "    <tr>\n",
              "      <th>4</th>\n",
              "      <td>17.0</td>\n",
              "      <td>8</td>\n",
              "      <td>302.0</td>\n",
              "      <td>140.0</td>\n",
              "      <td>3449.0</td>\n",
              "      <td>10.5</td>\n",
              "      <td>70</td>\n",
              "      <td>1</td>\n",
              "      <td>0</td>\n",
              "      <td>0</td>\n",
              "    </tr>\n",
              "  </tbody>\n",
              "</table>\n",
              "</div>\n",
              "      <button class=\"colab-df-convert\" onclick=\"convertToInteractive('df-f9d2585f-b0e8-43e7-aba8-4ac3f4d0b033')\"\n",
              "              title=\"Convert this dataframe to an interactive table.\"\n",
              "              style=\"display:none;\">\n",
              "        \n",
              "  <svg xmlns=\"http://www.w3.org/2000/svg\" height=\"24px\"viewBox=\"0 0 24 24\"\n",
              "       width=\"24px\">\n",
              "    <path d=\"M0 0h24v24H0V0z\" fill=\"none\"/>\n",
              "    <path d=\"M18.56 5.44l.94 2.06.94-2.06 2.06-.94-2.06-.94-.94-2.06-.94 2.06-2.06.94zm-11 1L8.5 8.5l.94-2.06 2.06-.94-2.06-.94L8.5 2.5l-.94 2.06-2.06.94zm10 10l.94 2.06.94-2.06 2.06-.94-2.06-.94-.94-2.06-.94 2.06-2.06.94z\"/><path d=\"M17.41 7.96l-1.37-1.37c-.4-.4-.92-.59-1.43-.59-.52 0-1.04.2-1.43.59L10.3 9.45l-7.72 7.72c-.78.78-.78 2.05 0 2.83L4 21.41c.39.39.9.59 1.41.59.51 0 1.02-.2 1.41-.59l7.78-7.78 2.81-2.81c.8-.78.8-2.07 0-2.86zM5.41 20L4 18.59l7.72-7.72 1.47 1.35L5.41 20z\"/>\n",
              "  </svg>\n",
              "      </button>\n",
              "      \n",
              "  <style>\n",
              "    .colab-df-container {\n",
              "      display:flex;\n",
              "      flex-wrap:wrap;\n",
              "      gap: 12px;\n",
              "    }\n",
              "\n",
              "    .colab-df-convert {\n",
              "      background-color: #E8F0FE;\n",
              "      border: none;\n",
              "      border-radius: 50%;\n",
              "      cursor: pointer;\n",
              "      display: none;\n",
              "      fill: #1967D2;\n",
              "      height: 32px;\n",
              "      padding: 0 0 0 0;\n",
              "      width: 32px;\n",
              "    }\n",
              "\n",
              "    .colab-df-convert:hover {\n",
              "      background-color: #E2EBFA;\n",
              "      box-shadow: 0px 1px 2px rgba(60, 64, 67, 0.3), 0px 1px 3px 1px rgba(60, 64, 67, 0.15);\n",
              "      fill: #174EA6;\n",
              "    }\n",
              "\n",
              "    [theme=dark] .colab-df-convert {\n",
              "      background-color: #3B4455;\n",
              "      fill: #D2E3FC;\n",
              "    }\n",
              "\n",
              "    [theme=dark] .colab-df-convert:hover {\n",
              "      background-color: #434B5C;\n",
              "      box-shadow: 0px 1px 3px 1px rgba(0, 0, 0, 0.15);\n",
              "      filter: drop-shadow(0px 1px 2px rgba(0, 0, 0, 0.3));\n",
              "      fill: #FFFFFF;\n",
              "    }\n",
              "  </style>\n",
              "\n",
              "      <script>\n",
              "        const buttonEl =\n",
              "          document.querySelector('#df-f9d2585f-b0e8-43e7-aba8-4ac3f4d0b033 button.colab-df-convert');\n",
              "        buttonEl.style.display =\n",
              "          google.colab.kernel.accessAllowed ? 'block' : 'none';\n",
              "\n",
              "        async function convertToInteractive(key) {\n",
              "          const element = document.querySelector('#df-f9d2585f-b0e8-43e7-aba8-4ac3f4d0b033');\n",
              "          const dataTable =\n",
              "            await google.colab.kernel.invokeFunction('convertToInteractive',\n",
              "                                                     [key], {});\n",
              "          if (!dataTable) return;\n",
              "\n",
              "          const docLinkHtml = 'Like what you see? Visit the ' +\n",
              "            '<a target=\"_blank\" href=https://colab.research.google.com/notebooks/data_table.ipynb>data table notebook</a>'\n",
              "            + ' to learn more about interactive tables.';\n",
              "          element.innerHTML = '';\n",
              "          dataTable['output_type'] = 'display_data';\n",
              "          await google.colab.output.renderOutput(dataTable, element);\n",
              "          const docLink = document.createElement('div');\n",
              "          docLink.innerHTML = docLinkHtml;\n",
              "          element.appendChild(docLink);\n",
              "        }\n",
              "      </script>\n",
              "    </div>\n",
              "  </div>\n",
              "  "
            ]
          },
          "metadata": {},
          "execution_count": 6
        }
      ]
    },
    {
      "cell_type": "code",
      "execution_count": 7,
      "metadata": {
        "colab": {
          "base_uri": "https://localhost:8080/",
          "height": 382
        },
        "id": "NdUcykp_Cugf",
        "outputId": "619ae4c7-c06c-4754-a032-f6444b56178a"
      },
      "outputs": [
        {
          "output_type": "execute_result",
          "data": {
            "text/plain": [
              "              MPG   Cylinders  Displacement  Horsepower       Weight  \\\n",
              "count  392.000000  392.000000    392.000000  392.000000   392.000000   \n",
              "mean    23.445918    5.471939    194.411990  104.469388  2977.584184   \n",
              "std      7.805007    1.705783    104.644004   38.491160   849.402560   \n",
              "min      9.000000    3.000000     68.000000   46.000000  1613.000000   \n",
              "25%     17.000000    4.000000    105.000000   75.000000  2225.250000   \n",
              "50%     22.750000    4.000000    151.000000   93.500000  2803.500000   \n",
              "75%     29.000000    8.000000    275.750000  126.000000  3614.750000   \n",
              "max     46.600000    8.000000    455.000000  230.000000  5140.000000   \n",
              "\n",
              "       Acceleration  Model Year    Origin_1    Origin_2    Origin_3  \n",
              "count    392.000000  392.000000  392.000000  392.000000  392.000000  \n",
              "mean      15.541327   75.979592    0.625000    0.173469    0.201531  \n",
              "std        2.758864    3.683737    0.484742    0.379136    0.401656  \n",
              "min        8.000000   70.000000    0.000000    0.000000    0.000000  \n",
              "25%       13.775000   73.000000    0.000000    0.000000    0.000000  \n",
              "50%       15.500000   76.000000    1.000000    0.000000    0.000000  \n",
              "75%       17.025000   79.000000    1.000000    0.000000    0.000000  \n",
              "max       24.800000   82.000000    1.000000    1.000000    1.000000  "
            ],
            "text/html": [
              "\n",
              "  <div id=\"df-a96cb775-cdfb-4d97-979f-c0292bcc7a66\">\n",
              "    <div class=\"colab-df-container\">\n",
              "      <div>\n",
              "<style scoped>\n",
              "    .dataframe tbody tr th:only-of-type {\n",
              "        vertical-align: middle;\n",
              "    }\n",
              "\n",
              "    .dataframe tbody tr th {\n",
              "        vertical-align: top;\n",
              "    }\n",
              "\n",
              "    .dataframe thead th {\n",
              "        text-align: right;\n",
              "    }\n",
              "</style>\n",
              "<table border=\"1\" class=\"dataframe\">\n",
              "  <thead>\n",
              "    <tr style=\"text-align: right;\">\n",
              "      <th></th>\n",
              "      <th>MPG</th>\n",
              "      <th>Cylinders</th>\n",
              "      <th>Displacement</th>\n",
              "      <th>Horsepower</th>\n",
              "      <th>Weight</th>\n",
              "      <th>Acceleration</th>\n",
              "      <th>Model Year</th>\n",
              "      <th>Origin_1</th>\n",
              "      <th>Origin_2</th>\n",
              "      <th>Origin_3</th>\n",
              "    </tr>\n",
              "  </thead>\n",
              "  <tbody>\n",
              "    <tr>\n",
              "      <th>count</th>\n",
              "      <td>392.000000</td>\n",
              "      <td>392.000000</td>\n",
              "      <td>392.000000</td>\n",
              "      <td>392.000000</td>\n",
              "      <td>392.000000</td>\n",
              "      <td>392.000000</td>\n",
              "      <td>392.000000</td>\n",
              "      <td>392.000000</td>\n",
              "      <td>392.000000</td>\n",
              "      <td>392.000000</td>\n",
              "    </tr>\n",
              "    <tr>\n",
              "      <th>mean</th>\n",
              "      <td>23.445918</td>\n",
              "      <td>5.471939</td>\n",
              "      <td>194.411990</td>\n",
              "      <td>104.469388</td>\n",
              "      <td>2977.584184</td>\n",
              "      <td>15.541327</td>\n",
              "      <td>75.979592</td>\n",
              "      <td>0.625000</td>\n",
              "      <td>0.173469</td>\n",
              "      <td>0.201531</td>\n",
              "    </tr>\n",
              "    <tr>\n",
              "      <th>std</th>\n",
              "      <td>7.805007</td>\n",
              "      <td>1.705783</td>\n",
              "      <td>104.644004</td>\n",
              "      <td>38.491160</td>\n",
              "      <td>849.402560</td>\n",
              "      <td>2.758864</td>\n",
              "      <td>3.683737</td>\n",
              "      <td>0.484742</td>\n",
              "      <td>0.379136</td>\n",
              "      <td>0.401656</td>\n",
              "    </tr>\n",
              "    <tr>\n",
              "      <th>min</th>\n",
              "      <td>9.000000</td>\n",
              "      <td>3.000000</td>\n",
              "      <td>68.000000</td>\n",
              "      <td>46.000000</td>\n",
              "      <td>1613.000000</td>\n",
              "      <td>8.000000</td>\n",
              "      <td>70.000000</td>\n",
              "      <td>0.000000</td>\n",
              "      <td>0.000000</td>\n",
              "      <td>0.000000</td>\n",
              "    </tr>\n",
              "    <tr>\n",
              "      <th>25%</th>\n",
              "      <td>17.000000</td>\n",
              "      <td>4.000000</td>\n",
              "      <td>105.000000</td>\n",
              "      <td>75.000000</td>\n",
              "      <td>2225.250000</td>\n",
              "      <td>13.775000</td>\n",
              "      <td>73.000000</td>\n",
              "      <td>0.000000</td>\n",
              "      <td>0.000000</td>\n",
              "      <td>0.000000</td>\n",
              "    </tr>\n",
              "    <tr>\n",
              "      <th>50%</th>\n",
              "      <td>22.750000</td>\n",
              "      <td>4.000000</td>\n",
              "      <td>151.000000</td>\n",
              "      <td>93.500000</td>\n",
              "      <td>2803.500000</td>\n",
              "      <td>15.500000</td>\n",
              "      <td>76.000000</td>\n",
              "      <td>1.000000</td>\n",
              "      <td>0.000000</td>\n",
              "      <td>0.000000</td>\n",
              "    </tr>\n",
              "    <tr>\n",
              "      <th>75%</th>\n",
              "      <td>29.000000</td>\n",
              "      <td>8.000000</td>\n",
              "      <td>275.750000</td>\n",
              "      <td>126.000000</td>\n",
              "      <td>3614.750000</td>\n",
              "      <td>17.025000</td>\n",
              "      <td>79.000000</td>\n",
              "      <td>1.000000</td>\n",
              "      <td>0.000000</td>\n",
              "      <td>0.000000</td>\n",
              "    </tr>\n",
              "    <tr>\n",
              "      <th>max</th>\n",
              "      <td>46.600000</td>\n",
              "      <td>8.000000</td>\n",
              "      <td>455.000000</td>\n",
              "      <td>230.000000</td>\n",
              "      <td>5140.000000</td>\n",
              "      <td>24.800000</td>\n",
              "      <td>82.000000</td>\n",
              "      <td>1.000000</td>\n",
              "      <td>1.000000</td>\n",
              "      <td>1.000000</td>\n",
              "    </tr>\n",
              "  </tbody>\n",
              "</table>\n",
              "</div>\n",
              "      <button class=\"colab-df-convert\" onclick=\"convertToInteractive('df-a96cb775-cdfb-4d97-979f-c0292bcc7a66')\"\n",
              "              title=\"Convert this dataframe to an interactive table.\"\n",
              "              style=\"display:none;\">\n",
              "        \n",
              "  <svg xmlns=\"http://www.w3.org/2000/svg\" height=\"24px\"viewBox=\"0 0 24 24\"\n",
              "       width=\"24px\">\n",
              "    <path d=\"M0 0h24v24H0V0z\" fill=\"none\"/>\n",
              "    <path d=\"M18.56 5.44l.94 2.06.94-2.06 2.06-.94-2.06-.94-.94-2.06-.94 2.06-2.06.94zm-11 1L8.5 8.5l.94-2.06 2.06-.94-2.06-.94L8.5 2.5l-.94 2.06-2.06.94zm10 10l.94 2.06.94-2.06 2.06-.94-2.06-.94-.94-2.06-.94 2.06-2.06.94z\"/><path d=\"M17.41 7.96l-1.37-1.37c-.4-.4-.92-.59-1.43-.59-.52 0-1.04.2-1.43.59L10.3 9.45l-7.72 7.72c-.78.78-.78 2.05 0 2.83L4 21.41c.39.39.9.59 1.41.59.51 0 1.02-.2 1.41-.59l7.78-7.78 2.81-2.81c.8-.78.8-2.07 0-2.86zM5.41 20L4 18.59l7.72-7.72 1.47 1.35L5.41 20z\"/>\n",
              "  </svg>\n",
              "      </button>\n",
              "      \n",
              "  <style>\n",
              "    .colab-df-container {\n",
              "      display:flex;\n",
              "      flex-wrap:wrap;\n",
              "      gap: 12px;\n",
              "    }\n",
              "\n",
              "    .colab-df-convert {\n",
              "      background-color: #E8F0FE;\n",
              "      border: none;\n",
              "      border-radius: 50%;\n",
              "      cursor: pointer;\n",
              "      display: none;\n",
              "      fill: #1967D2;\n",
              "      height: 32px;\n",
              "      padding: 0 0 0 0;\n",
              "      width: 32px;\n",
              "    }\n",
              "\n",
              "    .colab-df-convert:hover {\n",
              "      background-color: #E2EBFA;\n",
              "      box-shadow: 0px 1px 2px rgba(60, 64, 67, 0.3), 0px 1px 3px 1px rgba(60, 64, 67, 0.15);\n",
              "      fill: #174EA6;\n",
              "    }\n",
              "\n",
              "    [theme=dark] .colab-df-convert {\n",
              "      background-color: #3B4455;\n",
              "      fill: #D2E3FC;\n",
              "    }\n",
              "\n",
              "    [theme=dark] .colab-df-convert:hover {\n",
              "      background-color: #434B5C;\n",
              "      box-shadow: 0px 1px 3px 1px rgba(0, 0, 0, 0.15);\n",
              "      filter: drop-shadow(0px 1px 2px rgba(0, 0, 0, 0.3));\n",
              "      fill: #FFFFFF;\n",
              "    }\n",
              "  </style>\n",
              "\n",
              "      <script>\n",
              "        const buttonEl =\n",
              "          document.querySelector('#df-a96cb775-cdfb-4d97-979f-c0292bcc7a66 button.colab-df-convert');\n",
              "        buttonEl.style.display =\n",
              "          google.colab.kernel.accessAllowed ? 'block' : 'none';\n",
              "\n",
              "        async function convertToInteractive(key) {\n",
              "          const element = document.querySelector('#df-a96cb775-cdfb-4d97-979f-c0292bcc7a66');\n",
              "          const dataTable =\n",
              "            await google.colab.kernel.invokeFunction('convertToInteractive',\n",
              "                                                     [key], {});\n",
              "          if (!dataTable) return;\n",
              "\n",
              "          const docLinkHtml = 'Like what you see? Visit the ' +\n",
              "            '<a target=\"_blank\" href=https://colab.research.google.com/notebooks/data_table.ipynb>data table notebook</a>'\n",
              "            + ' to learn more about interactive tables.';\n",
              "          element.innerHTML = '';\n",
              "          dataTable['output_type'] = 'display_data';\n",
              "          await google.colab.output.renderOutput(dataTable, element);\n",
              "          const docLink = document.createElement('div');\n",
              "          docLink.innerHTML = docLinkHtml;\n",
              "          element.appendChild(docLink);\n",
              "        }\n",
              "      </script>\n",
              "    </div>\n",
              "  </div>\n",
              "  "
            ]
          },
          "metadata": {},
          "execution_count": 7
        }
      ],
      "source": [
        "df.describe()"
      ]
    },
    {
      "cell_type": "markdown",
      "metadata": {
        "id": "Cuym4yvk76vU"
      },
      "source": [
        "### 데이터셋을 훈련 세트와 테스트 세트로 분할"
      ]
    },
    {
      "cell_type": "code",
      "execution_count": 8,
      "metadata": {
        "colab": {
          "base_uri": "https://localhost:8080/"
        },
        "id": "W78j_xwPCF30",
        "outputId": "be0a4eec-25fa-40a0-ff93-ba3363c79cb2"
      },
      "outputs": [
        {
          "output_type": "execute_result",
          "data": {
            "text/plain": [
              "((392, 9), (392,))"
            ]
          },
          "metadata": {},
          "execution_count": 8
        }
      ],
      "source": [
        "X = df.drop('MPG', axis=1).values\n",
        "y = df['MPG'].values\n",
        "X.shape, y.shape"
      ]
    },
    {
      "cell_type": "code",
      "execution_count": 9,
      "metadata": {
        "colab": {
          "base_uri": "https://localhost:8080/"
        },
        "id": "qn-IGhUE7_1H",
        "outputId": "78d4ce31-50b3-445d-e3c5-6346360a1d36"
      },
      "outputs": [
        {
          "output_type": "execute_result",
          "data": {
            "text/plain": [
              "((313, 9), (79, 9), (313,), (79,))"
            ]
          },
          "metadata": {},
          "execution_count": 9
        }
      ],
      "source": [
        "X_train, X_test, y_train, y_test = train_test_split(X, y, test_size=0.2, random_state=0)\n",
        "X_train.shape, X_test.shape, y_train.shape, y_test.shape"
      ]
    },
    {
      "cell_type": "markdown",
      "metadata": {
        "id": "mRklxK5s388r"
      },
      "source": [
        "### 데이터 정규화\n",
        "Standard Scaing : (X - mu) / sigma"
      ]
    },
    {
      "cell_type": "code",
      "execution_count": 10,
      "metadata": {
        "id": "QIEEw3nODAae"
      },
      "outputs": [],
      "source": [
        "sc = StandardScaler()\n",
        "X_train = sc.fit_transform(X_train)\n",
        "X_test  = sc.transform(X_test)"
      ]
    },
    {
      "cell_type": "markdown",
      "metadata": {
        "id": "SmjdzxKzEu1-"
      },
      "source": [
        "## 모델"
      ]
    },
    {
      "cell_type": "code",
      "execution_count": 11,
      "metadata": {
        "id": "c26juK7ZG8j-"
      },
      "outputs": [],
      "source": [
        "model = tf.keras.Sequential([\n",
        "    Dense(64, activation='relu', input_shape=[X_train.shape[1]]),\n",
        "    Dense(32, activation='relu'),\n",
        "    Dense(1)\n",
        "])\n",
        "\n",
        "optimizer = tf.keras.optimizers.RMSprop(0.001)\n",
        "\n",
        "model.compile(loss='mse', optimizer=optimizer, metrics=['mae', 'mse'])"
      ]
    },
    {
      "cell_type": "code",
      "execution_count": 12,
      "metadata": {
        "colab": {
          "base_uri": "https://localhost:8080/"
        },
        "id": "ReAD0n6MsFK-",
        "outputId": "b895c735-1d30-40a9-f7ab-32d7369e99df"
      },
      "outputs": [
        {
          "output_type": "stream",
          "name": "stdout",
          "text": [
            "Model: \"sequential\"\n",
            "_________________________________________________________________\n",
            " Layer (type)                Output Shape              Param #   \n",
            "=================================================================\n",
            " dense (Dense)               (None, 64)                640       \n",
            "                                                                 \n",
            " dense_1 (Dense)             (None, 32)                2080      \n",
            "                                                                 \n",
            " dense_2 (Dense)             (None, 1)                 33        \n",
            "                                                                 \n",
            "=================================================================\n",
            "Total params: 2,753\n",
            "Trainable params: 2,753\n",
            "Non-trainable params: 0\n",
            "_________________________________________________________________\n"
          ]
        }
      ],
      "source": [
        "model.summary()"
      ]
    },
    {
      "cell_type": "markdown",
      "metadata": {
        "id": "Vt6W50qGsJAL"
      },
      "source": [
        "모델을 한번 실행해 봅니다. 훈련 세트에서 `10` 샘플을 하나의 배치로 만들어 `model.predict` 메서드를 호출하여 결과값이 예상대로 작성하는지 사전  check 합니다."
      ]
    },
    {
      "cell_type": "code",
      "execution_count": 13,
      "metadata": {
        "colab": {
          "base_uri": "https://localhost:8080/"
        },
        "id": "-d-gBaVtGTSC",
        "outputId": "bd968b45-701f-4eb2-c70c-476ff77c9932"
      },
      "outputs": [
        {
          "output_type": "execute_result",
          "data": {
            "text/plain": [
              "array([[ 0.32604858],\n",
              "       [-0.08706263],\n",
              "       [-0.36379924],\n",
              "       [-0.23037924],\n",
              "       [ 0.12351204],\n",
              "       [ 1.0247359 ],\n",
              "       [ 0.10495431],\n",
              "       [ 0.16724642],\n",
              "       [ 0.15143722],\n",
              "       [ 0.37475932]], dtype=float32)"
            ]
          },
          "metadata": {},
          "execution_count": 13
        }
      ],
      "source": [
        "example_batch = X_train[:10]\n",
        "example_result = model.predict(example_batch)\n",
        "example_result"
      ]
    },
    {
      "cell_type": "markdown",
      "metadata": {
        "id": "0-qWCsh6DlyH"
      },
      "source": [
        "### 모델 훈련\n"
      ]
    },
    {
      "cell_type": "code",
      "execution_count": 14,
      "metadata": {
        "colab": {
          "base_uri": "https://localhost:8080/"
        },
        "id": "sD7qHCmNIOY0",
        "outputId": "466a197b-8bbd-43c7-a92d-d4af5cb30016"
      },
      "outputs": [
        {
          "output_type": "stream",
          "name": "stdout",
          "text": [
            "Epoch 1/500\n",
            "8/8 [==============================] - 1s 38ms/step - loss: 581.8035 - mae: 22.8164 - mse: 581.8035 - val_loss: 594.9331 - val_mae: 22.8529 - val_mse: 594.9331\n",
            "Epoch 2/500\n",
            "8/8 [==============================] - 0s 9ms/step - loss: 551.4221 - mae: 22.1250 - mse: 551.4221 - val_loss: 562.0459 - val_mae: 22.1298 - val_mse: 562.0459\n",
            "Epoch 3/500\n",
            "8/8 [==============================] - 0s 10ms/step - loss: 521.3904 - mae: 21.4275 - mse: 521.3904 - val_loss: 527.6730 - val_mae: 21.3494 - val_mse: 527.6730\n",
            "Epoch 4/500\n",
            "8/8 [==============================] - 0s 10ms/step - loss: 488.5605 - mae: 20.6573 - mse: 488.5605 - val_loss: 489.0389 - val_mae: 20.4546 - val_mse: 489.0389\n",
            "Epoch 5/500\n",
            "8/8 [==============================] - 0s 9ms/step - loss: 452.3775 - mae: 19.7628 - mse: 452.3775 - val_loss: 447.5016 - val_mae: 19.4398 - val_mse: 447.5016\n",
            "Epoch 6/500\n",
            "8/8 [==============================] - 0s 9ms/step - loss: 413.4768 - mae: 18.7529 - mse: 413.4768 - val_loss: 403.2548 - val_mae: 18.2898 - val_mse: 403.2548\n",
            "Epoch 7/500\n",
            "8/8 [==============================] - 0s 9ms/step - loss: 371.2846 - mae: 17.6059 - mse: 371.2846 - val_loss: 355.4766 - val_mae: 17.0377 - val_mse: 355.4766\n",
            "Epoch 8/500\n",
            "8/8 [==============================] - 0s 9ms/step - loss: 326.7202 - mae: 16.3186 - mse: 326.7202 - val_loss: 306.0180 - val_mae: 15.7067 - val_mse: 306.0180\n",
            "Epoch 9/500\n",
            "8/8 [==============================] - 0s 9ms/step - loss: 280.9452 - mae: 14.9918 - mse: 280.9452 - val_loss: 255.4856 - val_mae: 14.2347 - val_mse: 255.4856\n",
            "Epoch 10/500\n",
            "8/8 [==============================] - 0s 8ms/step - loss: 235.5808 - mae: 13.5811 - mse: 235.5808 - val_loss: 207.1524 - val_mae: 12.7638 - val_mse: 207.1524\n",
            "Epoch 11/500\n",
            "8/8 [==============================] - 0s 10ms/step - loss: 191.9706 - mae: 12.1157 - mse: 191.9706 - val_loss: 162.2278 - val_mae: 11.2644 - val_mse: 162.2278\n",
            "Epoch 12/500\n",
            "8/8 [==============================] - 0s 9ms/step - loss: 152.1165 - mae: 10.6601 - mse: 152.1165 - val_loss: 122.6596 - val_mae: 9.7456 - val_mse: 122.6596\n",
            "Epoch 13/500\n",
            "8/8 [==============================] - 0s 11ms/step - loss: 117.0347 - mae: 9.1617 - mse: 117.0347 - val_loss: 89.0379 - val_mae: 8.1973 - val_mse: 89.0379\n",
            "Epoch 14/500\n",
            "8/8 [==============================] - 0s 10ms/step - loss: 87.3531 - mae: 7.7885 - mse: 87.3531 - val_loss: 62.4742 - val_mae: 6.6443 - val_mse: 62.4742\n",
            "Epoch 15/500\n",
            "8/8 [==============================] - 0s 10ms/step - loss: 64.7183 - mae: 6.5561 - mse: 64.7183 - val_loss: 44.6923 - val_mae: 5.4549 - val_mse: 44.6923\n",
            "Epoch 16/500\n",
            "8/8 [==============================] - 0s 9ms/step - loss: 49.0914 - mae: 5.6401 - mse: 49.0914 - val_loss: 33.6352 - val_mae: 4.6851 - val_mse: 33.6352\n",
            "Epoch 17/500\n",
            "8/8 [==============================] - 0s 11ms/step - loss: 38.4274 - mae: 4.9699 - mse: 38.4274 - val_loss: 26.3516 - val_mae: 4.2195 - val_mse: 26.3516\n",
            "Epoch 18/500\n",
            "8/8 [==============================] - 0s 9ms/step - loss: 31.0979 - mae: 4.4340 - mse: 31.0979 - val_loss: 21.4850 - val_mae: 3.8926 - val_mse: 21.4850\n",
            "Epoch 19/500\n",
            "8/8 [==============================] - 0s 8ms/step - loss: 25.7763 - mae: 4.0134 - mse: 25.7763 - val_loss: 17.8313 - val_mae: 3.5543 - val_mse: 17.8313\n",
            "Epoch 20/500\n",
            "8/8 [==============================] - 0s 8ms/step - loss: 21.8119 - mae: 3.6709 - mse: 21.8119 - val_loss: 14.7492 - val_mae: 3.1950 - val_mse: 14.7492\n",
            "Epoch 21/500\n",
            "8/8 [==============================] - 0s 10ms/step - loss: 18.8301 - mae: 3.3795 - mse: 18.8301 - val_loss: 12.8317 - val_mae: 2.9691 - val_mse: 12.8317\n",
            "Epoch 22/500\n",
            "8/8 [==============================] - 0s 10ms/step - loss: 16.5015 - mae: 3.1598 - mse: 16.5015 - val_loss: 11.3622 - val_mae: 2.7508 - val_mse: 11.3622\n",
            "Epoch 23/500\n",
            "8/8 [==============================] - 0s 9ms/step - loss: 14.9535 - mae: 2.9645 - mse: 14.9535 - val_loss: 10.1475 - val_mae: 2.5382 - val_mse: 10.1475\n",
            "Epoch 24/500\n",
            "8/8 [==============================] - 0s 9ms/step - loss: 13.5955 - mae: 2.8230 - mse: 13.5955 - val_loss: 9.8773 - val_mae: 2.5271 - val_mse: 9.8773\n",
            "Epoch 25/500\n",
            "8/8 [==============================] - 0s 9ms/step - loss: 12.7785 - mae: 2.7134 - mse: 12.7785 - val_loss: 9.0301 - val_mae: 2.3503 - val_mse: 9.0301\n",
            "Epoch 26/500\n",
            "8/8 [==============================] - 0s 9ms/step - loss: 11.8260 - mae: 2.5659 - mse: 11.8260 - val_loss: 8.6311 - val_mae: 2.2736 - val_mse: 8.6311\n",
            "Epoch 27/500\n",
            "8/8 [==============================] - 0s 10ms/step - loss: 11.1296 - mae: 2.4587 - mse: 11.1296 - val_loss: 8.2916 - val_mae: 2.1886 - val_mse: 8.2916\n",
            "Epoch 28/500\n",
            "8/8 [==============================] - 0s 10ms/step - loss: 10.4817 - mae: 2.3839 - mse: 10.4817 - val_loss: 8.3859 - val_mae: 2.2092 - val_mse: 8.3859\n",
            "Epoch 29/500\n",
            "8/8 [==============================] - 0s 9ms/step - loss: 10.1321 - mae: 2.3122 - mse: 10.1321 - val_loss: 7.8852 - val_mae: 2.1002 - val_mse: 7.8852\n",
            "Epoch 30/500\n",
            "8/8 [==============================] - 0s 9ms/step - loss: 9.6066 - mae: 2.2432 - mse: 9.6066 - val_loss: 7.9781 - val_mae: 2.0975 - val_mse: 7.9781\n",
            "Epoch 31/500\n",
            "8/8 [==============================] - 0s 8ms/step - loss: 9.1803 - mae: 2.1450 - mse: 9.1803 - val_loss: 7.9408 - val_mae: 2.0512 - val_mse: 7.9408\n",
            "Epoch 32/500\n",
            "8/8 [==============================] - 0s 9ms/step - loss: 9.0683 - mae: 2.1219 - mse: 9.0683 - val_loss: 7.7188 - val_mae: 2.0763 - val_mse: 7.7188\n",
            "Epoch 33/500\n",
            "8/8 [==============================] - 0s 9ms/step - loss: 8.9239 - mae: 2.1055 - mse: 8.9239 - val_loss: 7.6705 - val_mae: 2.0486 - val_mse: 7.6705\n",
            "Epoch 34/500\n",
            "8/8 [==============================] - 0s 8ms/step - loss: 8.8380 - mae: 2.0940 - mse: 8.8380 - val_loss: 7.6957 - val_mae: 2.0254 - val_mse: 7.6957\n",
            "Epoch 35/500\n",
            "8/8 [==============================] - 0s 11ms/step - loss: 8.4829 - mae: 2.0412 - mse: 8.4829 - val_loss: 7.7285 - val_mae: 2.0264 - val_mse: 7.7285\n",
            "Epoch 36/500\n",
            "8/8 [==============================] - 0s 10ms/step - loss: 8.3420 - mae: 2.0237 - mse: 8.3420 - val_loss: 7.5300 - val_mae: 2.0121 - val_mse: 7.5300\n",
            "Epoch 37/500\n",
            "8/8 [==============================] - 0s 11ms/step - loss: 8.3415 - mae: 2.0206 - mse: 8.3415 - val_loss: 7.4330 - val_mae: 2.0242 - val_mse: 7.4330\n",
            "Epoch 38/500\n",
            "8/8 [==============================] - 0s 10ms/step - loss: 8.1554 - mae: 1.9887 - mse: 8.1554 - val_loss: 7.5700 - val_mae: 2.0492 - val_mse: 7.5700\n",
            "Epoch 39/500\n",
            "8/8 [==============================] - 0s 11ms/step - loss: 8.0221 - mae: 1.9683 - mse: 8.0221 - val_loss: 7.5266 - val_mae: 2.0436 - val_mse: 7.5266\n",
            "Epoch 40/500\n",
            "8/8 [==============================] - 0s 10ms/step - loss: 8.0931 - mae: 1.9879 - mse: 8.0931 - val_loss: 7.5970 - val_mae: 2.0684 - val_mse: 7.5970\n",
            "Epoch 41/500\n",
            "8/8 [==============================] - 0s 9ms/step - loss: 7.9938 - mae: 1.9670 - mse: 7.9938 - val_loss: 7.5719 - val_mae: 2.0622 - val_mse: 7.5719\n",
            "Epoch 42/500\n",
            "8/8 [==============================] - 0s 9ms/step - loss: 7.7529 - mae: 1.9466 - mse: 7.7529 - val_loss: 7.2694 - val_mae: 1.9905 - val_mse: 7.2694\n",
            "Epoch 43/500\n",
            "8/8 [==============================] - 0s 9ms/step - loss: 7.7552 - mae: 1.9511 - mse: 7.7552 - val_loss: 7.3030 - val_mae: 1.9856 - val_mse: 7.3030\n",
            "Epoch 44/500\n",
            "8/8 [==============================] - 0s 9ms/step - loss: 7.6142 - mae: 1.9377 - mse: 7.6142 - val_loss: 7.5998 - val_mae: 2.0006 - val_mse: 7.5998\n",
            "Epoch 45/500\n",
            "8/8 [==============================] - 0s 9ms/step - loss: 7.6735 - mae: 1.9248 - mse: 7.6735 - val_loss: 7.3148 - val_mae: 2.0022 - val_mse: 7.3148\n",
            "Epoch 46/500\n",
            "8/8 [==============================] - 0s 10ms/step - loss: 7.6537 - mae: 1.9499 - mse: 7.6537 - val_loss: 7.5336 - val_mae: 2.0591 - val_mse: 7.5336\n",
            "Epoch 47/500\n",
            "8/8 [==============================] - 0s 9ms/step - loss: 7.5299 - mae: 1.9035 - mse: 7.5299 - val_loss: 7.1689 - val_mae: 1.9813 - val_mse: 7.1689\n",
            "Epoch 48/500\n",
            "8/8 [==============================] - 0s 9ms/step - loss: 7.3967 - mae: 1.9111 - mse: 7.3967 - val_loss: 7.1837 - val_mae: 2.0174 - val_mse: 7.1837\n",
            "Epoch 49/500\n",
            "8/8 [==============================] - 0s 9ms/step - loss: 7.4635 - mae: 1.9158 - mse: 7.4635 - val_loss: 7.1300 - val_mae: 2.0071 - val_mse: 7.1300\n",
            "Epoch 50/500\n",
            "8/8 [==============================] - 0s 12ms/step - loss: 7.3188 - mae: 1.9112 - mse: 7.3188 - val_loss: 7.2899 - val_mae: 2.0118 - val_mse: 7.2899\n",
            "Epoch 51/500\n",
            "8/8 [==============================] - 0s 10ms/step - loss: 7.2994 - mae: 1.9073 - mse: 7.2994 - val_loss: 7.1993 - val_mae: 1.9766 - val_mse: 7.1993\n",
            "Epoch 52/500\n",
            "8/8 [==============================] - 0s 9ms/step - loss: 7.3463 - mae: 1.9048 - mse: 7.3463 - val_loss: 7.1444 - val_mae: 1.9843 - val_mse: 7.1444\n",
            "Epoch 53/500\n",
            "8/8 [==============================] - 0s 9ms/step - loss: 7.2212 - mae: 1.8957 - mse: 7.2212 - val_loss: 7.2004 - val_mae: 1.9661 - val_mse: 7.2004\n",
            "Epoch 54/500\n",
            "8/8 [==============================] - 0s 9ms/step - loss: 7.2188 - mae: 1.8955 - mse: 7.2188 - val_loss: 7.2696 - val_mae: 1.9920 - val_mse: 7.2696\n",
            "Epoch 55/500\n",
            "8/8 [==============================] - 0s 10ms/step - loss: 7.3394 - mae: 1.9026 - mse: 7.3394 - val_loss: 6.9634 - val_mae: 1.9820 - val_mse: 6.9634\n",
            "Epoch 56/500\n",
            "8/8 [==============================] - 0s 9ms/step - loss: 7.0995 - mae: 1.8760 - mse: 7.0995 - val_loss: 7.2833 - val_mae: 2.0519 - val_mse: 7.2833\n",
            "Epoch 57/500\n",
            "8/8 [==============================] - 0s 10ms/step - loss: 6.9580 - mae: 1.8725 - mse: 6.9580 - val_loss: 7.2633 - val_mae: 1.9820 - val_mse: 7.2633\n",
            "Epoch 58/500\n",
            "8/8 [==============================] - 0s 9ms/step - loss: 7.1596 - mae: 1.8809 - mse: 7.1596 - val_loss: 7.0707 - val_mae: 1.9814 - val_mse: 7.0707\n",
            "Epoch 59/500\n",
            "8/8 [==============================] - 0s 10ms/step - loss: 7.0435 - mae: 1.8780 - mse: 7.0435 - val_loss: 6.9826 - val_mae: 1.9968 - val_mse: 6.9826\n",
            "Epoch 60/500\n",
            "8/8 [==============================] - 0s 9ms/step - loss: 7.0039 - mae: 1.8653 - mse: 7.0039 - val_loss: 7.2442 - val_mae: 2.0338 - val_mse: 7.2442\n",
            "Epoch 61/500\n",
            "8/8 [==============================] - 0s 9ms/step - loss: 7.1044 - mae: 1.8827 - mse: 7.1044 - val_loss: 7.0084 - val_mae: 1.9928 - val_mse: 7.0084\n",
            "Epoch 62/500\n",
            "8/8 [==============================] - 0s 11ms/step - loss: 7.0730 - mae: 1.8795 - mse: 7.0730 - val_loss: 6.8991 - val_mae: 1.9715 - val_mse: 6.8991\n",
            "Epoch 63/500\n",
            "8/8 [==============================] - 0s 8ms/step - loss: 7.0616 - mae: 1.8800 - mse: 7.0616 - val_loss: 6.7411 - val_mae: 1.9587 - val_mse: 6.7411\n",
            "Epoch 64/500\n",
            "8/8 [==============================] - 0s 10ms/step - loss: 6.8516 - mae: 1.8551 - mse: 6.8516 - val_loss: 6.9139 - val_mae: 1.9798 - val_mse: 6.9139\n",
            "Epoch 65/500\n",
            "8/8 [==============================] - 0s 9ms/step - loss: 6.8736 - mae: 1.8699 - mse: 6.8736 - val_loss: 7.0976 - val_mae: 2.0047 - val_mse: 7.0976\n",
            "Epoch 66/500\n",
            "8/8 [==============================] - 0s 9ms/step - loss: 6.9535 - mae: 1.8853 - mse: 6.9535 - val_loss: 6.8322 - val_mae: 1.9649 - val_mse: 6.8322\n",
            "Epoch 67/500\n",
            "8/8 [==============================] - 0s 9ms/step - loss: 6.9723 - mae: 1.8781 - mse: 6.9723 - val_loss: 6.7546 - val_mae: 1.9558 - val_mse: 6.7546\n",
            "Epoch 68/500\n",
            "8/8 [==============================] - 0s 10ms/step - loss: 6.8434 - mae: 1.8611 - mse: 6.8434 - val_loss: 6.7740 - val_mae: 1.9873 - val_mse: 6.7740\n",
            "Epoch 69/500\n",
            "8/8 [==============================] - 0s 8ms/step - loss: 6.7906 - mae: 1.8608 - mse: 6.7906 - val_loss: 6.7640 - val_mae: 1.9442 - val_mse: 6.7640\n",
            "Epoch 70/500\n",
            "8/8 [==============================] - 0s 9ms/step - loss: 6.8862 - mae: 1.8473 - mse: 6.8862 - val_loss: 6.7881 - val_mae: 1.9508 - val_mse: 6.7881\n",
            "Epoch 71/500\n",
            "8/8 [==============================] - 0s 8ms/step - loss: 6.7063 - mae: 1.8340 - mse: 6.7063 - val_loss: 6.7412 - val_mae: 1.9610 - val_mse: 6.7412\n",
            "Epoch 72/500\n",
            "8/8 [==============================] - 0s 9ms/step - loss: 6.9691 - mae: 1.8761 - mse: 6.9691 - val_loss: 6.8263 - val_mae: 2.0095 - val_mse: 6.8263\n",
            "Epoch 73/500\n",
            "8/8 [==============================] - 0s 8ms/step - loss: 6.6940 - mae: 1.8578 - mse: 6.6940 - val_loss: 6.7124 - val_mae: 1.9586 - val_mse: 6.7124\n",
            "Epoch 74/500\n",
            "8/8 [==============================] - 0s 11ms/step - loss: 6.7638 - mae: 1.8505 - mse: 6.7638 - val_loss: 6.6738 - val_mae: 1.9631 - val_mse: 6.6738\n",
            "Epoch 75/500\n",
            "8/8 [==============================] - 0s 9ms/step - loss: 6.6799 - mae: 1.8250 - mse: 6.6799 - val_loss: 6.6482 - val_mae: 1.9515 - val_mse: 6.6482\n",
            "Epoch 76/500\n",
            "8/8 [==============================] - 0s 9ms/step - loss: 6.7070 - mae: 1.8423 - mse: 6.7070 - val_loss: 6.7324 - val_mae: 1.9592 - val_mse: 6.7324\n",
            "Epoch 77/500\n",
            "8/8 [==============================] - 0s 8ms/step - loss: 6.5603 - mae: 1.8022 - mse: 6.5603 - val_loss: 6.6973 - val_mae: 2.0011 - val_mse: 6.6973\n",
            "Epoch 78/500\n",
            "8/8 [==============================] - 0s 8ms/step - loss: 6.7039 - mae: 1.8488 - mse: 6.7039 - val_loss: 6.6448 - val_mae: 1.9406 - val_mse: 6.6448\n",
            "Epoch 79/500\n",
            "8/8 [==============================] - 0s 9ms/step - loss: 6.7141 - mae: 1.8333 - mse: 6.7141 - val_loss: 6.6749 - val_mae: 1.9568 - val_mse: 6.6749\n",
            "Epoch 80/500\n",
            "8/8 [==============================] - 0s 9ms/step - loss: 6.5850 - mae: 1.8047 - mse: 6.5850 - val_loss: 6.6758 - val_mae: 1.9572 - val_mse: 6.6758\n",
            "Epoch 81/500\n",
            "8/8 [==============================] - 0s 10ms/step - loss: 6.6155 - mae: 1.8306 - mse: 6.6155 - val_loss: 6.7347 - val_mae: 1.9591 - val_mse: 6.7347\n",
            "Epoch 82/500\n",
            "8/8 [==============================] - 0s 9ms/step - loss: 6.6494 - mae: 1.8116 - mse: 6.6494 - val_loss: 6.5904 - val_mae: 1.9611 - val_mse: 6.5904\n",
            "Epoch 83/500\n",
            "8/8 [==============================] - 0s 9ms/step - loss: 6.5395 - mae: 1.7992 - mse: 6.5395 - val_loss: 6.5756 - val_mae: 1.9809 - val_mse: 6.5756\n",
            "Epoch 84/500\n",
            "8/8 [==============================] - 0s 10ms/step - loss: 6.5487 - mae: 1.8257 - mse: 6.5487 - val_loss: 6.8026 - val_mae: 2.0118 - val_mse: 6.8026\n",
            "Epoch 85/500\n",
            "8/8 [==============================] - 0s 9ms/step - loss: 6.4890 - mae: 1.8133 - mse: 6.4890 - val_loss: 6.6462 - val_mae: 1.9502 - val_mse: 6.6462\n",
            "Epoch 86/500\n",
            "8/8 [==============================] - 0s 12ms/step - loss: 6.4517 - mae: 1.8042 - mse: 6.4517 - val_loss: 6.6303 - val_mae: 1.9464 - val_mse: 6.6303\n",
            "Epoch 87/500\n",
            "8/8 [==============================] - 0s 9ms/step - loss: 6.5255 - mae: 1.8166 - mse: 6.5255 - val_loss: 6.6212 - val_mae: 1.9775 - val_mse: 6.6212\n",
            "Epoch 88/500\n",
            "8/8 [==============================] - 0s 8ms/step - loss: 6.4749 - mae: 1.8079 - mse: 6.4749 - val_loss: 6.6601 - val_mae: 1.9674 - val_mse: 6.6601\n",
            "Epoch 89/500\n",
            "8/8 [==============================] - 0s 9ms/step - loss: 6.4695 - mae: 1.8017 - mse: 6.4695 - val_loss: 6.5739 - val_mae: 1.9670 - val_mse: 6.5739\n",
            "Epoch 90/500\n",
            "8/8 [==============================] - 0s 19ms/step - loss: 6.5117 - mae: 1.8085 - mse: 6.5117 - val_loss: 6.5999 - val_mae: 1.9952 - val_mse: 6.5999\n",
            "Epoch 91/500\n",
            "8/8 [==============================] - 0s 16ms/step - loss: 6.4447 - mae: 1.8062 - mse: 6.4447 - val_loss: 6.7013 - val_mae: 1.9716 - val_mse: 6.7013\n",
            "Epoch 92/500\n",
            "8/8 [==============================] - 0s 19ms/step - loss: 6.4726 - mae: 1.8276 - mse: 6.4726 - val_loss: 6.6129 - val_mae: 1.9568 - val_mse: 6.6129\n",
            "Epoch 93/500\n",
            "8/8 [==============================] - 0s 18ms/step - loss: 6.3886 - mae: 1.7976 - mse: 6.3886 - val_loss: 6.5679 - val_mae: 1.9653 - val_mse: 6.5679\n",
            "Epoch 94/500\n",
            "8/8 [==============================] - 0s 25ms/step - loss: 6.3833 - mae: 1.7922 - mse: 6.3833 - val_loss: 6.8587 - val_mae: 1.9996 - val_mse: 6.8587\n",
            "Epoch 95/500\n",
            "8/8 [==============================] - 0s 18ms/step - loss: 6.4885 - mae: 1.7978 - mse: 6.4885 - val_loss: 6.6346 - val_mae: 1.9774 - val_mse: 6.6346\n",
            "Epoch 96/500\n",
            "8/8 [==============================] - 0s 16ms/step - loss: 6.3316 - mae: 1.7795 - mse: 6.3316 - val_loss: 6.7571 - val_mae: 1.9911 - val_mse: 6.7571\n",
            "Epoch 97/500\n",
            "8/8 [==============================] - 0s 20ms/step - loss: 6.3446 - mae: 1.7744 - mse: 6.3446 - val_loss: 6.5062 - val_mae: 1.9422 - val_mse: 6.5062\n",
            "Epoch 98/500\n",
            "8/8 [==============================] - 0s 18ms/step - loss: 6.4772 - mae: 1.7946 - mse: 6.4772 - val_loss: 6.5096 - val_mae: 1.9427 - val_mse: 6.5096\n",
            "Epoch 99/500\n",
            "8/8 [==============================] - 0s 25ms/step - loss: 6.3811 - mae: 1.8061 - mse: 6.3811 - val_loss: 6.4166 - val_mae: 1.9321 - val_mse: 6.4166\n",
            "Epoch 100/500\n",
            "8/8 [==============================] - 0s 21ms/step - loss: 6.2674 - mae: 1.7845 - mse: 6.2674 - val_loss: 6.4009 - val_mae: 1.9408 - val_mse: 6.4009\n",
            "Epoch 101/500\n",
            "8/8 [==============================] - 0s 19ms/step - loss: 6.3674 - mae: 1.7948 - mse: 6.3674 - val_loss: 6.2919 - val_mae: 1.9232 - val_mse: 6.2919\n",
            "Epoch 102/500\n",
            "8/8 [==============================] - 0s 15ms/step - loss: 6.3269 - mae: 1.7796 - mse: 6.3269 - val_loss: 6.2690 - val_mae: 1.9354 - val_mse: 6.2690\n",
            "Epoch 103/500\n",
            "8/8 [==============================] - 0s 18ms/step - loss: 6.3541 - mae: 1.8225 - mse: 6.3541 - val_loss: 6.3803 - val_mae: 1.9516 - val_mse: 6.3803\n",
            "Epoch 104/500\n",
            "8/8 [==============================] - 0s 18ms/step - loss: 6.2998 - mae: 1.7916 - mse: 6.2998 - val_loss: 6.3329 - val_mae: 1.9313 - val_mse: 6.3329\n",
            "Epoch 105/500\n",
            "8/8 [==============================] - 0s 21ms/step - loss: 6.2557 - mae: 1.7883 - mse: 6.2557 - val_loss: 6.3707 - val_mae: 1.9343 - val_mse: 6.3707\n",
            "Epoch 106/500\n",
            "8/8 [==============================] - 0s 28ms/step - loss: 6.2456 - mae: 1.7675 - mse: 6.2456 - val_loss: 6.3838 - val_mae: 1.9262 - val_mse: 6.3838\n",
            "Epoch 107/500\n",
            "8/8 [==============================] - 0s 19ms/step - loss: 6.2960 - mae: 1.7803 - mse: 6.2960 - val_loss: 6.3657 - val_mae: 1.9233 - val_mse: 6.3657\n",
            "Epoch 108/500\n",
            "8/8 [==============================] - 0s 19ms/step - loss: 6.2514 - mae: 1.7550 - mse: 6.2514 - val_loss: 6.3137 - val_mae: 1.9322 - val_mse: 6.3137\n",
            "Epoch 109/500\n",
            "8/8 [==============================] - 0s 16ms/step - loss: 6.2480 - mae: 1.7701 - mse: 6.2480 - val_loss: 6.4121 - val_mae: 1.9750 - val_mse: 6.4121\n",
            "Epoch 110/500\n",
            "8/8 [==============================] - 0s 16ms/step - loss: 6.1786 - mae: 1.7540 - mse: 6.1786 - val_loss: 6.4316 - val_mae: 1.9616 - val_mse: 6.4316\n",
            "Epoch 111/500\n",
            "8/8 [==============================] - 0s 19ms/step - loss: 6.1675 - mae: 1.7725 - mse: 6.1675 - val_loss: 6.6941 - val_mae: 1.9960 - val_mse: 6.6941\n",
            "Epoch 112/500\n",
            "8/8 [==============================] - 0s 31ms/step - loss: 6.2180 - mae: 1.7619 - mse: 6.2180 - val_loss: 6.2994 - val_mae: 1.9415 - val_mse: 6.2994\n"
          ]
        }
      ],
      "source": [
        "EPOCHS = 1000  # early stop 할 것이므로 충분히 준다.\n",
        "\n",
        "# patience 매개변수는 성능 향상을 체크할 에포크 횟수입니다\n",
        "early_stop = tf.keras.callbacks.EarlyStopping(monitor='val_loss', patience=10)\n",
        "\n",
        "history = model.fit(X_train, y_train, epochs=EPOCHS,\n",
        "                     validation_split = 0.2, verbose=1, callbacks=[early_stop])"
      ]
    },
    {
      "cell_type": "markdown",
      "metadata": {
        "id": "tQm3pc0FYPQB"
      },
      "source": [
        "`history` 객체에 저장된 통계치를 사용해 모델의 훈련 과정을 시각화"
      ]
    },
    {
      "cell_type": "code",
      "execution_count": 15,
      "metadata": {
        "colab": {
          "base_uri": "https://localhost:8080/",
          "height": 279
        },
        "id": "B6XriGbVPh2t",
        "outputId": "7fb257f0-e192-49a8-f24d-52ec904777bd"
      },
      "outputs": [
        {
          "output_type": "display_data",
          "data": {
            "text/plain": [
              "<Figure size 864x288 with 2 Axes>"
            ],
            "image/png": "[encoded data removed]"
          },
          "metadata": {
            "needs_background": "light"
          }
        }
      ],
      "source": [
        "plt.figure(figsize=(12, 4))\n",
        "\n",
        "plt.subplot(1, 2, 1)\n",
        "plt.plot(history.history['mae'], label='Train Error')\n",
        "plt.plot(history.history['val_mae'], label = 'Val Error')\n",
        "plt.legend()\n",
        "plt.xlabel('Epoch')\n",
        "plt.ylabel('Mean Abs Error [MPG]')\n",
        "\n",
        "plt.subplot(1, 2, 2)\n",
        "plt.plot(history.history['mse'], label='Train Error')\n",
        "plt.plot(history.history['val_mse'], label = 'Val Error')\n",
        "plt.legend()\n",
        "plt.xlabel('Epoch')\n",
        "plt.ylabel('Mean Square Error [$MPG^2$]')\n",
        "plt.show()"
      ]
    },
    {
      "cell_type": "code",
      "execution_count": 16,
      "metadata": {
        "colab": {
          "base_uri": "https://localhost:8080/"
        },
        "id": "jl_yNr5n1kms",
        "outputId": "23fd851d-4185-428c-ac23-494c28c9dd29"
      },
      "outputs": [
        {
          "output_type": "stream",
          "name": "stdout",
          "text": [
            "3/3 - 0s - loss: 5.6921 - mae: 1.6863 - mse: 5.6921 - 29ms/epoch - 10ms/step\n",
            "테스트 세트의 평균 절대 오차:  1.69 MPG\n"
          ]
        }
      ],
      "source": [
        "loss, mae, mse = model.evaluate(X_test, y_test, verbose=2)\n",
        "\n",
        "print(\"테스트 세트의 평균 절대 오차: {:5.2f} MPG\".format(mae))"
      ]
    },
    {
      "cell_type": "markdown",
      "metadata": {
        "id": "ft603OzXuEZC"
      },
      "source": [
        "## 예측\n",
        "\n",
        "마지막으로 테스트 세트에 있는 샘플을 사용해 MPG 값을 예측해 보겠습니다:"
      ]
    },
    {
      "cell_type": "code",
      "execution_count": 17,
      "metadata": {
        "colab": {
          "base_uri": "https://localhost:8080/",
          "height": 298
        },
        "id": "Xe7RXH3N3CWU",
        "outputId": "24e93453-abcf-4335-e48b-442e36b888a7"
      },
      "outputs": [
        {
          "output_type": "execute_result",
          "data": {
            "text/plain": [
              "(8.27, 46.33, 8.27, 46.33)"
            ]
          },
          "metadata": {},
          "execution_count": 17
        },
        {
          "output_type": "display_data",
          "data": {
            "text/plain": [
              "<Figure size 432x288 with 1 Axes>"
            ],
            "image/png": "[encoded data removed]"
          },
          "metadata": {
            "needs_background": "light"
          }
        }
      ],
      "source": [
        "y_pred = model.predict(X_test).flatten()\n",
        "\n",
        "plt.scatter(y_test, y_pred)\n",
        "plt.plot(y_test, y_test, c='r')\n",
        "plt.xlabel('True Values [MPG]')\n",
        "plt.ylabel('Predictions [MPG]')\n",
        "plt.axis('equal')\n",
        "plt.axis('square')"
      ]
    },
    {
      "cell_type": "code",
      "execution_count": null,
      "metadata": {
        "id": "_fQ3Ne9tsTCD"
      },
      "outputs": [],
      "source": []
    }
  ],
  "metadata": {
    "accelerator": "GPU",
    "colab": {
      "collapsed_sections": [],
      "provenance": []
    },
    "gpuClass": "standard",
    "kernelspec": {
      "display_name": "Python 3 (ipykernel)",
      "language": "python",
      "name": "python3"
    },
    "language_info": {
      "codemirror_mode": {
        "name": "ipython",
        "version": 3
      },
      "file_extension": ".py",
      "mimetype": "text/x-python",
      "name": "python",
      "nbconvert_exporter": "python",
      "pygments_lexer": "ipython3",
      "version": "3.8.13"
    }
  },
  "nbformat": 4,
  "nbformat_minor": 0
}