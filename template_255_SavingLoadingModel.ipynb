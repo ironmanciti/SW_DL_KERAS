{
 "cells": [
  {
   "cell_type": "markdown",
   "metadata": {
    "colab_type": "text",
    "id": "4OiBsAAhhsgA"
   },
   "source": [
    "# model save / load\n",
    "\n",
    "### 생성한 모델을 disk 에 저장하고 복원\n",
    "\n",
    "- model 의 architecture 저장 : json, yaml format  \n",
    "\n",
    "- model 의 weigth 저장 : h5 file format  \n",
    "\n",
    "- hdf5(Hierarchical Data Format version 5)는 대용량 데이터를 저장하기 위한 파일 포맷"
   ]
  },
  {
   "cell_type": "markdown",
   "metadata": {
    "colab_type": "text",
    "id": "RQbRc3lohsgG"
   },
   "source": [
    "### Model Architecture Save"
   ]
  },
  {
   "cell_type": "markdown",
   "metadata": {
    "colab_type": "text",
    "id": "tGoITI0thsgM"
   },
   "source": [
    "### weight 만 save"
   ]
  },
  {
   "cell_type": "markdown",
   "metadata": {
    "colab_type": "text",
    "id": "CtWZhoNDhsgS"
   },
   "source": [
    "### 전체 model save"
   ]
  },
  {
   "cell_type": "markdown",
   "metadata": {
    "colab_type": "text",
    "id": "JEEBkAb-hsgV"
   },
   "source": [
    "## Model Load\n",
    "\n",
    "- model architecture 와 weight 별도 저장한 경우,  architecture load + weight load + compile"
   ]
  },
  {
   "cell_type": "markdown",
   "metadata": {
    "colab_type": "text",
    "id": "RXFaq58PijW7"
   },
   "source": [
    "- model 전체 저장한 경우 load"
   ]
  }
 ],
 "metadata": {
  "accelerator": "GPU",
  "colab": {
   "name": "140.SavingLoadingModel.ipynb",
   "provenance": []
  },
  "kernelspec": {
   "display_name": "Python 3 (ipykernel)",
   "language": "python",
   "name": "python3"
  },
  "language_info": {
   "codemirror_mode": {
    "name": "ipython",
    "version": 3
   },
   "file_extension": ".py",
   "mimetype": "text/x-python",
   "name": "python",
   "nbconvert_exporter": "python",
   "pygments_lexer": "ipython3",
   "version": "3.8.13"
  }
 },
 "nbformat": 4,
 "nbformat_minor": 1
}
