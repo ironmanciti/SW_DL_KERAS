{
 "cells": [
  {
   "cell_type": "markdown",
   "id": "diverse-links",
   "metadata": {},
   "source": [
    "# 110. Malware Detection - binary classification"
   ]
  },
  {
   "cell_type": "code",
   "execution_count": 1,
   "id": "respected-property",
   "metadata": {},
   "outputs": [
    {
     "data": {
      "text/html": [
       "<div>\n",
       "<style scoped>\n",
       "    .dataframe tbody tr th:only-of-type {\n",
       "        vertical-align: middle;\n",
       "    }\n",
       "\n",
       "    .dataframe tbody tr th {\n",
       "        vertical-align: top;\n",
       "    }\n",
       "\n",
       "    .dataframe thead th {\n",
       "        text-align: right;\n",
       "    }\n",
       "</style>\n",
       "<table border=\"1\" class=\"dataframe\">\n",
       "  <thead>\n",
       "    <tr style=\"text-align: right;\">\n",
       "      <th></th>\n",
       "      <th>Name</th>\n",
       "      <th>md5</th>\n",
       "      <th>Machine</th>\n",
       "      <th>SizeOfOptionalHeader</th>\n",
       "      <th>Characteristics</th>\n",
       "      <th>MajorLinkerVersion</th>\n",
       "      <th>MinorLinkerVersion</th>\n",
       "      <th>SizeOfCode</th>\n",
       "      <th>SizeOfInitializedData</th>\n",
       "      <th>SizeOfUninitializedData</th>\n",
       "      <th>...</th>\n",
       "      <th>ResourcesNb</th>\n",
       "      <th>ResourcesMeanEntropy</th>\n",
       "      <th>ResourcesMinEntropy</th>\n",
       "      <th>ResourcesMaxEntropy</th>\n",
       "      <th>ResourcesMeanSize</th>\n",
       "      <th>ResourcesMinSize</th>\n",
       "      <th>ResourcesMaxSize</th>\n",
       "      <th>LoadConfigurationSize</th>\n",
       "      <th>VersionInformationSize</th>\n",
       "      <th>legitimate</th>\n",
       "    </tr>\n",
       "  </thead>\n",
       "  <tbody>\n",
       "    <tr>\n",
       "      <th>65416</th>\n",
       "      <td>VirusShare_3ede9b62781398a2e39a0f6af9356a54</td>\n",
       "      <td>3ede9b62781398a2e39a0f6af9356a54</td>\n",
       "      <td>332</td>\n",
       "      <td>224</td>\n",
       "      <td>258</td>\n",
       "      <td>10</td>\n",
       "      <td>0</td>\n",
       "      <td>117760</td>\n",
       "      <td>392192</td>\n",
       "      <td>0</td>\n",
       "      <td>...</td>\n",
       "      <td>5</td>\n",
       "      <td>3.425849</td>\n",
       "      <td>2.458492</td>\n",
       "      <td>4.035538</td>\n",
       "      <td>3146.400000</td>\n",
       "      <td>48</td>\n",
       "      <td>9640</td>\n",
       "      <td>72</td>\n",
       "      <td>15</td>\n",
       "      <td>0</td>\n",
       "    </tr>\n",
       "    <tr>\n",
       "      <th>23220</th>\n",
       "      <td>fxsocm.dll</td>\n",
       "      <td>9a0959a682d8eba06d0bd181c49ee2a8</td>\n",
       "      <td>332</td>\n",
       "      <td>224</td>\n",
       "      <td>8462</td>\n",
       "      <td>7</td>\n",
       "      <td>10</td>\n",
       "      <td>112640</td>\n",
       "      <td>29696</td>\n",
       "      <td>0</td>\n",
       "      <td>...</td>\n",
       "      <td>8</td>\n",
       "      <td>3.911994</td>\n",
       "      <td>2.669737</td>\n",
       "      <td>5.335373</td>\n",
       "      <td>1222.750000</td>\n",
       "      <td>164</td>\n",
       "      <td>4889</td>\n",
       "      <td>72</td>\n",
       "      <td>16</td>\n",
       "      <td>1</td>\n",
       "    </tr>\n",
       "    <tr>\n",
       "      <th>118017</th>\n",
       "      <td>VirusShare_abe7101746242c922a539ba461db4e38</td>\n",
       "      <td>abe7101746242c922a539ba461db4e38</td>\n",
       "      <td>332</td>\n",
       "      <td>224</td>\n",
       "      <td>258</td>\n",
       "      <td>10</td>\n",
       "      <td>0</td>\n",
       "      <td>119808</td>\n",
       "      <td>385024</td>\n",
       "      <td>0</td>\n",
       "      <td>...</td>\n",
       "      <td>6</td>\n",
       "      <td>3.776760</td>\n",
       "      <td>2.458492</td>\n",
       "      <td>5.317552</td>\n",
       "      <td>2740.166667</td>\n",
       "      <td>48</td>\n",
       "      <td>9640</td>\n",
       "      <td>72</td>\n",
       "      <td>15</td>\n",
       "      <td>0</td>\n",
       "    </tr>\n",
       "    <tr>\n",
       "      <th>69842</th>\n",
       "      <td>VirusShare_64a1247fc96d5bc2994ef89ca09adee8</td>\n",
       "      <td>64a1247fc96d5bc2994ef89ca09adee8</td>\n",
       "      <td>332</td>\n",
       "      <td>224</td>\n",
       "      <td>258</td>\n",
       "      <td>10</td>\n",
       "      <td>0</td>\n",
       "      <td>120320</td>\n",
       "      <td>385024</td>\n",
       "      <td>0</td>\n",
       "      <td>...</td>\n",
       "      <td>6</td>\n",
       "      <td>3.756068</td>\n",
       "      <td>2.458492</td>\n",
       "      <td>5.317552</td>\n",
       "      <td>2739.500000</td>\n",
       "      <td>48</td>\n",
       "      <td>9640</td>\n",
       "      <td>72</td>\n",
       "      <td>15</td>\n",
       "      <td>0</td>\n",
       "    </tr>\n",
       "    <tr>\n",
       "      <th>22165</th>\n",
       "      <td>asferror.dll</td>\n",
       "      <td>ebc23440aa9cc4f08241d35147c1d5b5</td>\n",
       "      <td>332</td>\n",
       "      <td>224</td>\n",
       "      <td>8462</td>\n",
       "      <td>7</td>\n",
       "      <td>10</td>\n",
       "      <td>0</td>\n",
       "      <td>7168</td>\n",
       "      <td>0</td>\n",
       "      <td>...</td>\n",
       "      <td>2</td>\n",
       "      <td>3.488703</td>\n",
       "      <td>3.471506</td>\n",
       "      <td>3.505901</td>\n",
       "      <td>3050.000000</td>\n",
       "      <td>888</td>\n",
       "      <td>5212</td>\n",
       "      <td>0</td>\n",
       "      <td>16</td>\n",
       "      <td>1</td>\n",
       "    </tr>\n",
       "  </tbody>\n",
       "</table>\n",
       "<p>5 rows × 57 columns</p>\n",
       "</div>"
      ],
      "text/plain": [
       "                                               Name  \\\n",
       "65416   VirusShare_3ede9b62781398a2e39a0f6af9356a54   \n",
       "23220                                    fxsocm.dll   \n",
       "118017  VirusShare_abe7101746242c922a539ba461db4e38   \n",
       "69842   VirusShare_64a1247fc96d5bc2994ef89ca09adee8   \n",
       "22165                                  asferror.dll   \n",
       "\n",
       "                                     md5  Machine  SizeOfOptionalHeader  \\\n",
       "65416   3ede9b62781398a2e39a0f6af9356a54      332                   224   \n",
       "23220   9a0959a682d8eba06d0bd181c49ee2a8      332                   224   \n",
       "118017  abe7101746242c922a539ba461db4e38      332                   224   \n",
       "69842   64a1247fc96d5bc2994ef89ca09adee8      332                   224   \n",
       "22165   ebc23440aa9cc4f08241d35147c1d5b5      332                   224   \n",
       "\n",
       "        Characteristics  MajorLinkerVersion  MinorLinkerVersion  SizeOfCode  \\\n",
       "65416               258                  10                   0      117760   \n",
       "23220              8462                   7                  10      112640   \n",
       "118017              258                  10                   0      119808   \n",
       "69842               258                  10                   0      120320   \n",
       "22165              8462                   7                  10           0   \n",
       "\n",
       "        SizeOfInitializedData  SizeOfUninitializedData  ...  ResourcesNb  \\\n",
       "65416                  392192                        0  ...            5   \n",
       "23220                   29696                        0  ...            8   \n",
       "118017                 385024                        0  ...            6   \n",
       "69842                  385024                        0  ...            6   \n",
       "22165                    7168                        0  ...            2   \n",
       "\n",
       "        ResourcesMeanEntropy  ResourcesMinEntropy  ResourcesMaxEntropy  \\\n",
       "65416               3.425849             2.458492             4.035538   \n",
       "23220               3.911994             2.669737             5.335373   \n",
       "118017              3.776760             2.458492             5.317552   \n",
       "69842               3.756068             2.458492             5.317552   \n",
       "22165               3.488703             3.471506             3.505901   \n",
       "\n",
       "        ResourcesMeanSize  ResourcesMinSize  ResourcesMaxSize  \\\n",
       "65416         3146.400000                48              9640   \n",
       "23220         1222.750000               164              4889   \n",
       "118017        2740.166667                48              9640   \n",
       "69842         2739.500000                48              9640   \n",
       "22165         3050.000000               888              5212   \n",
       "\n",
       "        LoadConfigurationSize  VersionInformationSize  legitimate  \n",
       "65416                      72                      15           0  \n",
       "23220                      72                      16           1  \n",
       "118017                     72                      15           0  \n",
       "69842                      72                      15           0  \n",
       "22165                       0                      16           1  \n",
       "\n",
       "[5 rows x 57 columns]"
      ]
     },
     "execution_count": 1,
     "metadata": {},
     "output_type": "execute_result"
    }
   ],
   "source": [
    "import pandas as pd\n",
    "import numpy as np\n",
    "from sklearn.model_selection import train_test_split\n",
    "from sklearn.preprocessing import StandardScaler\n",
    "from sklearn.metrics import accuracy_score\n",
    "\n",
    "import tensorflow as tf\n",
    "from tensorflow.keras.layers import Dense\n",
    "import matplotlib.pyplot as plt\n",
    "\n",
    "df = pd.read_csv('datasets/malware.csv', index_col=0)\n",
    "df.head()"
   ]
  },
  {
   "cell_type": "code",
   "execution_count": 2,
   "id": "d1ebda95",
   "metadata": {},
   "outputs": [
    {
     "data": {
      "text/plain": [
       "(10000, 57)"
      ]
     },
     "execution_count": 2,
     "metadata": {},
     "output_type": "execute_result"
    }
   ],
   "source": [
    "df.shape"
   ]
  },
  {
   "cell_type": "code",
   "execution_count": 4,
   "id": "differential-south",
   "metadata": {},
   "outputs": [
    {
     "data": {
      "text/plain": [
       "legitimate\n",
       "0    7071\n",
       "1    2929\n",
       "Name: count, dtype: int64"
      ]
     },
     "execution_count": 4,
     "metadata": {},
     "output_type": "execute_result"
    }
   ],
   "source": [
    "df['legitimate'].value_counts()"
   ]
  },
  {
   "cell_type": "code",
   "execution_count": 5,
   "id": "civilian-johnson",
   "metadata": {},
   "outputs": [
    {
     "data": {
      "text/plain": [
       "Index(['Name', 'md5', 'Machine', 'SizeOfOptionalHeader', 'Characteristics',\n",
       "       'MajorLinkerVersion', 'MinorLinkerVersion', 'SizeOfCode',\n",
       "       'SizeOfInitializedData', 'SizeOfUninitializedData',\n",
       "       'AddressOfEntryPoint', 'BaseOfCode', 'BaseOfData', 'ImageBase',\n",
       "       'SectionAlignment', 'FileAlignment', 'MajorOperatingSystemVersion',\n",
       "       'MinorOperatingSystemVersion', 'MajorImageVersion', 'MinorImageVersion',\n",
       "       'MajorSubsystemVersion', 'MinorSubsystemVersion', 'SizeOfImage',\n",
       "       'SizeOfHeaders', 'CheckSum', 'Subsystem', 'DllCharacteristics',\n",
       "       'SizeOfStackReserve', 'SizeOfStackCommit', 'SizeOfHeapReserve',\n",
       "       'SizeOfHeapCommit', 'LoaderFlags', 'NumberOfRvaAndSizes', 'SectionsNb',\n",
       "       'SectionsMeanEntropy', 'SectionsMinEntropy', 'SectionsMaxEntropy',\n",
       "       'SectionsMeanRawsize', 'SectionsMinRawsize', 'SectionMaxRawsize',\n",
       "       'SectionsMeanVirtualsize', 'SectionsMinVirtualsize',\n",
       "       'SectionMaxVirtualsize', 'ImportsNbDLL', 'ImportsNb',\n",
       "       'ImportsNbOrdinal', 'ExportNb', 'ResourcesNb', 'ResourcesMeanEntropy',\n",
       "       'ResourcesMinEntropy', 'ResourcesMaxEntropy', 'ResourcesMeanSize',\n",
       "       'ResourcesMinSize', 'ResourcesMaxSize', 'LoadConfigurationSize',\n",
       "       'VersionInformationSize', 'legitimate'],\n",
       "      dtype='object')"
      ]
     },
     "execution_count": 5,
     "metadata": {},
     "output_type": "execute_result"
    }
   ],
   "source": [
    "df.columns"
   ]
  },
  {
   "cell_type": "markdown",
   "id": "casual-snapshot",
   "metadata": {},
   "source": [
    "- Name : 제외\n",
    "- md5 : hash value 제외"
   ]
  },
  {
   "cell_type": "code",
   "execution_count": 6,
   "id": "authentic-nurse",
   "metadata": {},
   "outputs": [],
   "source": [
    "df = df.iloc[:, 2:]"
   ]
  },
  {
   "cell_type": "code",
   "execution_count": 7,
   "id": "single-walker",
   "metadata": {},
   "outputs": [
    {
     "data": {
      "text/plain": [
       "(10000, 55)"
      ]
     },
     "execution_count": 7,
     "metadata": {},
     "output_type": "execute_result"
    }
   ],
   "source": [
    "df.shape"
   ]
  },
  {
   "cell_type": "code",
   "execution_count": 8,
   "id": "unlike-avenue",
   "metadata": {},
   "outputs": [],
   "source": [
    "y = df.pop('legitimate').values\n",
    "X = df.values"
   ]
  },
  {
   "cell_type": "code",
   "execution_count": 9,
   "id": "amino-globe",
   "metadata": {},
   "outputs": [
    {
     "data": {
      "text/plain": [
       "((10000, 54), (10000,))"
      ]
     },
     "execution_count": 9,
     "metadata": {},
     "output_type": "execute_result"
    }
   ],
   "source": [
    "X.shape, y.shape"
   ]
  },
  {
   "cell_type": "code",
   "execution_count": 10,
   "id": "retired-organization",
   "metadata": {},
   "outputs": [
    {
     "data": {
      "text/plain": [
       "((8000, 54), (2000, 54), (8000,), (2000,))"
      ]
     },
     "execution_count": 10,
     "metadata": {},
     "output_type": "execute_result"
    }
   ],
   "source": [
    "X_train, X_test, y_train, y_test = train_test_split(X, y, test_size=0.2, random_state=0)\n",
    "\n",
    "X_train.shape, X_test.shape, y_train.shape, y_test.shape"
   ]
  },
  {
   "cell_type": "code",
   "execution_count": 11,
   "id": "hispanic-platinum",
   "metadata": {},
   "outputs": [],
   "source": [
    "sc = StandardScaler()\n",
    "X_train = sc.fit_transform(X_train)\n",
    "X_test  = sc.transform(X_test)"
   ]
  },
  {
   "cell_type": "code",
   "execution_count": 12,
   "id": "commercial-gilbert",
   "metadata": {},
   "outputs": [
    {
     "name": "stdout",
     "output_type": "stream",
     "text": [
      "Model: \"sequential\"\n",
      "_________________________________________________________________\n",
      " Layer (type)                Output Shape              Param #   \n",
      "=================================================================\n",
      " dense (Dense)               (None, 64)                3520      \n",
      "                                                                 \n",
      " dense_1 (Dense)             (None, 32)                2080      \n",
      "                                                                 \n",
      " dense_2 (Dense)             (None, 1)                 33        \n",
      "                                                                 \n",
      "=================================================================\n",
      "Total params: 5633 (22.00 KB)\n",
      "Trainable params: 5633 (22.00 KB)\n",
      "Non-trainable params: 0 (0.00 Byte)\n",
      "_________________________________________________________________\n"
     ]
    }
   ],
   "source": [
    "model = tf.keras.Sequential()\n",
    "\n",
    "model.add(Dense(64, input_shape=(54,), activation=\"relu\"))\n",
    "model.add(Dense(32, activation=\"relu\"))\n",
    "model.add(Dense(1, activation=\"sigmoid\"))\n",
    "\n",
    "model.summary()"
   ]
  },
  {
   "cell_type": "code",
   "execution_count": 13,
   "id": "employed-paste",
   "metadata": {},
   "outputs": [],
   "source": [
    "model.compile(loss='binary_crossentropy', optimizer='adam', metrics=[\"accuracy\"])"
   ]
  },
  {
   "cell_type": "code",
   "execution_count": 14,
   "id": "universal-behavior",
   "metadata": {
    "scrolled": true
   },
   "outputs": [
    {
     "name": "stdout",
     "output_type": "stream",
     "text": [
      "Epoch 1/20\n",
      "250/250 [==============================] - 1s 2ms/step - loss: 0.1229 - accuracy: 0.9654 - val_loss: 0.0515 - val_accuracy: 0.9830\n",
      "Epoch 2/20\n",
      "250/250 [==============================] - 0s 1ms/step - loss: 0.0458 - accuracy: 0.9836 - val_loss: 0.0463 - val_accuracy: 0.9850\n",
      "Epoch 3/20\n",
      "250/250 [==============================] - 0s 1ms/step - loss: 0.0396 - accuracy: 0.9860 - val_loss: 0.0455 - val_accuracy: 0.9850\n",
      "Epoch 4/20\n",
      "250/250 [==============================] - 0s 1ms/step - loss: 0.0359 - accuracy: 0.9864 - val_loss: 0.0417 - val_accuracy: 0.9850\n",
      "Epoch 5/20\n",
      "250/250 [==============================] - 0s 1ms/step - loss: 0.0325 - accuracy: 0.9880 - val_loss: 0.0459 - val_accuracy: 0.9885\n",
      "Epoch 6/20\n",
      "250/250 [==============================] - 0s 1ms/step - loss: 0.0299 - accuracy: 0.9874 - val_loss: 0.0409 - val_accuracy: 0.9895\n",
      "Epoch 7/20\n",
      "250/250 [==============================] - 0s 1ms/step - loss: 0.0280 - accuracy: 0.9889 - val_loss: 0.0412 - val_accuracy: 0.9890\n",
      "Epoch 8/20\n",
      "250/250 [==============================] - 0s 1ms/step - loss: 0.0269 - accuracy: 0.9901 - val_loss: 0.0412 - val_accuracy: 0.9900\n",
      "Epoch 9/20\n",
      "250/250 [==============================] - 0s 1ms/step - loss: 0.0247 - accuracy: 0.9908 - val_loss: 0.0441 - val_accuracy: 0.9890\n",
      "Epoch 10/20\n",
      "250/250 [==============================] - 0s 1ms/step - loss: 0.0236 - accuracy: 0.9905 - val_loss: 0.0435 - val_accuracy: 0.9880\n",
      "Epoch 11/20\n",
      "250/250 [==============================] - 0s 1ms/step - loss: 0.0255 - accuracy: 0.9901 - val_loss: 0.0472 - val_accuracy: 0.9875\n",
      "Epoch 12/20\n",
      "250/250 [==============================] - 0s 1ms/step - loss: 0.0234 - accuracy: 0.9912 - val_loss: 0.0440 - val_accuracy: 0.9905\n",
      "Epoch 13/20\n",
      "250/250 [==============================] - 0s 1ms/step - loss: 0.0195 - accuracy: 0.9930 - val_loss: 0.0446 - val_accuracy: 0.9910\n",
      "Epoch 14/20\n",
      "250/250 [==============================] - 0s 1ms/step - loss: 0.0183 - accuracy: 0.9937 - val_loss: 0.0483 - val_accuracy: 0.9885\n",
      "Epoch 15/20\n",
      "250/250 [==============================] - 0s 1ms/step - loss: 0.0180 - accuracy: 0.9934 - val_loss: 0.0446 - val_accuracy: 0.9910\n",
      "Epoch 16/20\n",
      "250/250 [==============================] - 0s 1ms/step - loss: 0.0164 - accuracy: 0.9936 - val_loss: 0.0459 - val_accuracy: 0.9910\n",
      "Epoch 17/20\n",
      "250/250 [==============================] - 0s 1ms/step - loss: 0.0155 - accuracy: 0.9946 - val_loss: 0.0493 - val_accuracy: 0.9910\n",
      "Epoch 18/20\n",
      "250/250 [==============================] - 0s 1ms/step - loss: 0.0152 - accuracy: 0.9939 - val_loss: 0.0522 - val_accuracy: 0.9885\n",
      "Epoch 19/20\n",
      "250/250 [==============================] - 0s 1ms/step - loss: 0.0142 - accuracy: 0.9955 - val_loss: 0.0539 - val_accuracy: 0.9895\n",
      "Epoch 20/20\n",
      "250/250 [==============================] - 0s 1ms/step - loss: 0.0148 - accuracy: 0.9952 - val_loss: 0.0542 - val_accuracy: 0.9895\n"
     ]
    }
   ],
   "source": [
    "history = model.fit(X_train, y_train, epochs=20, batch_size=32,\n",
    "                    validation_data=(X_test, y_test))"
   ]
  },
  {
   "cell_type": "code",
   "execution_count": 15,
   "id": "illegal-boundary",
   "metadata": {},
   "outputs": [
    {
     "name": "stdout",
     "output_type": "stream",
     "text": [
      "['loss', 'accuracy']\n",
      "Test score : 0.05\n",
      "Test accuracy : 0.99\n"
     ]
    }
   ],
   "source": [
    "score = model.evaluate(X_test, y_test, verbose=0)\n",
    "\n",
    "print(model.metrics_names)\n",
    "print(\"Test score : {:.2f}\".format(score[0]))\n",
    "print(\"Test accuracy : {:.2f}\".format(score[1]))"
   ]
  },
  {
   "cell_type": "code",
   "execution_count": 16,
   "id": "adolescent-source",
   "metadata": {},
   "outputs": [
    {
     "data": {
      "text/plain": [
       "<matplotlib.legend.Legend at 0x242f20ae040>"
      ]
     },
     "execution_count": 16,
     "metadata": {},
     "output_type": "execute_result"
    },
    {
     "data": {
      "image/png": "[encoded data removed]",
      "text/plain": [
       "<Figure size 1200x400 with 2 Axes>"
      ]
     },
     "metadata": {},
     "output_type": "display_data"
    }
   ],
   "source": [
    "plt.figure(figsize=(12,4))\n",
    "plt.subplot(1, 2, 1)\n",
    "plt.plot(history.history['accuracy'])\n",
    "plt.plot(history.history['val_accuracy'])\n",
    "plt.title('model accuracy')\n",
    "plt.xlabel('epoch')\n",
    "plt.ylabel('accuracy')\n",
    "plt.legend(['train', 'test'])\n",
    "\n",
    "plt.subplot(1, 2, 2)\n",
    "plt.plot(history.history['loss'])\n",
    "plt.plot(history.history['val_loss'])\n",
    "plt.title('model loss')\n",
    "plt.xlabel('epoch')\n",
    "plt.ylabel('loss')\n",
    "plt.legend(['train', 'test'])"
   ]
  },
  {
   "cell_type": "code",
   "execution_count": 17,
   "id": "d69960cc",
   "metadata": {},
   "outputs": [
    {
     "name": "stdout",
     "output_type": "stream",
     "text": [
      "63/63 [==============================] - 0s 767us/step\n"
     ]
    },
    {
     "data": {
      "text/plain": [
       "0.9895"
      ]
     },
     "execution_count": 17,
     "metadata": {},
     "output_type": "execute_result"
    }
   ],
   "source": [
    "y_pred = model.predict(X_test) > 0.5\n",
    "\n",
    "accuracy_score(y_test, y_pred)"
   ]
  },
  {
   "cell_type": "code",
   "execution_count": null,
   "id": "254333ee-8014-4b77-8c78-9eb1ac34f01d",
   "metadata": {},
   "outputs": [],
   "source": []
  }
 ],
 "metadata": {
  "kernelspec": {
   "display_name": "Python 3 (ipykernel)",
   "language": "python",
   "name": "python3"
  },
  "language_info": {
   "codemirror_mode": {
    "name": "ipython",
    "version": 3
   },
   "file_extension": ".py",
   "mimetype": "text/x-python",
   "name": "python",
   "nbconvert_exporter": "python",
   "pygments_lexer": "ipython3",
   "version": "3.9.16"
  }
 },
 "nbformat": 4,
 "nbformat_minor": 5
}
