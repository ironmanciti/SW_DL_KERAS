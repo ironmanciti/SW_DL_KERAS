{
 "cells": [
  {
   "cell_type": "markdown",
   "metadata": {
    "id": "rV5lDT88OjeA"
   },
   "source": [
    "# Keras Function API \n",
    "\n",
    "- Functional API 로 구성 가능한 다양한 Neural Network Models"
   ]
  },
  {
   "cell_type": "markdown",
   "metadata": {
    "id": "a_WeZig_OjeB"
   },
   "source": [
    "**conda install pydot**  \n",
    "**conda install graphviz**"
   ]
  },
  {
   "cell_type": "markdown",
   "metadata": {
    "id": "a1QPA-49OjeC"
   },
   "source": [
    "# Standard Neural Network Models \n",
    "\n",
    "## 1. Simple Multi-layer Perceptron"
   ]
  },
  {
   "cell_type": "markdown",
   "metadata": {
    "id": "VDWk-sbbOjeD"
   },
   "source": [
    "## 2. Convolutional Neural Network"
   ]
  },
  {
   "cell_type": "markdown",
   "metadata": {
    "id": "tKallpw_OjeF"
   },
   "source": [
    "## 3. Recurrent Neural Network"
   ]
  },
  {
   "cell_type": "markdown",
   "metadata": {
    "id": "vVAZ-e8VOjeG"
   },
   "source": [
    "# Shared Layers Models\n",
    "\n",
    "-한 layer 의 output 을 여러 layer 가 share하는 모델\n",
    "\n",
    "## 1. Shared Input Layer\n",
    "\n",
    "- 하나의 image input 을 interpret 하는 kernel size 가 다른 여러개의 convolutional layer 구성"
   ]
  },
  {
   "cell_type": "markdown",
   "metadata": {
    "id": "vCGy9MhmOjeH"
   },
   "source": [
    "## 2. Shared Feature Extraction Layer\n",
    "\n",
    "- sequence classificaion 의 feature extractor 인 LSTM 의 output 을 interpret 하는 두개의 병렬 submodels  \n",
    "\n",
    "- timestep 100, 1 feature input"
   ]
  },
  {
   "cell_type": "markdown",
   "metadata": {
    "id": "GirGbq6qOjeI"
   },
   "source": [
    "# Multiple Input and Output Models\n",
    "\n",
    "## 1. Multiple Input Model\n",
    "\n",
    "- 다른 크기의 두가지 version 의 image 를 input 으로 받아서 image 분류를 하는 model (64x64 흑백, 32x32 컬러) \n",
    "- 각 이미지에 대해 서로 다른 CNN model 이 feature extraction 을 하고, 두 module 의 결과가 concatenate 된다."
   ]
  },
  {
   "cell_type": "markdown",
   "metadata": {
    "id": "FaxqhaPwOjeJ"
   },
   "source": [
    "## 2. Multiple Output Model\n",
    "\n",
    "- 2개의 서로 다른 type 의 prediction 을 출력하는 model  \n",
    "- 100 timestep 1 feature 의 경우 가정  \n",
    "- 이 model 은 sequence 를 분류하면서 동시에 같은 길이의 새로운 sequence 를 출력한다.  \n",
    "- LSTM layer 가 input sequence 를 interpret 하고 각 timestep 별로 hidden state 반환  \n",
    "- 첫번째 output model 은 stacked LSTM 으로 feature 를 interpret 하고 binary prediction 수행  \n",
    "- 두번째 output model 은 같은 output layer 를 이용하여 각 timestep 에 대해 real value prediction"
   ]
  }
 ],
 "metadata": {
  "accelerator": "GPU",
  "colab": {
   "provenance": []
  },
  "kernelspec": {
   "display_name": "Python 3 (ipykernel)",
   "language": "python",
   "name": "python3"
  },
  "language_info": {
   "codemirror_mode": {
    "name": "ipython",
    "version": 3
   },
   "file_extension": ".py",
   "mimetype": "text/x-python",
   "name": "python",
   "nbconvert_exporter": "python",
   "pygments_lexer": "ipython3",
   "version": "3.8.13"
  }
 },
 "nbformat": 4,
 "nbformat_minor": 0
}
