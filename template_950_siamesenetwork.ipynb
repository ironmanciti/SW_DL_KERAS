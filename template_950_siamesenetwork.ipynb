{
 "cells": [
  {
   "cell_type": "markdown",
   "metadata": {
    "id": "yPpfGxerlTxe"
   },
   "source": [
    "# 삼중항 손실(triplet loss)이 있는 샴 네트워크(Siamese Network)를 사용한 이미지 유사도 추정"
   ]
  },
  {
   "cell_type": "markdown",
   "metadata": {
    "id": "BgH1MLhWlTxg"
   },
   "source": [
    "Siamese Networks는 중복 감지, anomaly detection, 얼굴 인식과 같은 다양한 사용 사례에 적용될 수 있습니다.\n",
    "\n",
    "이 예에서는 3개의 동일한 subnetwork가 있는 샴 네트워크를 사용합니다. 모델에 3개의 이미지를 제공합니다. 여기서\n",
    "그 중 두 개는 비슷할 것이고(_anchor_ 및 _positive_ sample), 세 번째는 관련이 없을 것입니다(_negative_ sample).\n",
    "우리의 목표는 모델이 이미지 간의 유사성을 추정하는 방법을 배우도록 하는  것입니다.\n",
    "\n",
    "네트워크가 학습하기 위해 삼중항 손실 함수(triple loss function)를 사용합니다.\n",
    "\n",
    "`L(A, P, N) = max(‖f(A) - f(P)‖² - ‖f(A) - f(N)‖² + margin, 0)`\n",
    "\n",
    "이 예시는 [Totally Looks Like dataset](https://sites.google.com/view/totally-looks-like-dataset)를 사용합니다.\n",
    "[Rosenfeld et al., 2018](https://arxiv.org/pdf/1803.01485v3.pdf).  \n",
    "\n",
    "- 데이터 세트에는 6016개의 이미지 쌍이 포함되어 있습니다."
   ]
  },
  {
   "cell_type": "markdown",
   "metadata": {
    "id": "qmzjhVM3lTxi"
   },
   "source": [
    "## dataset load\n",
    "\n",
    "*Totally Looking Like* 데이터세트를 로드하고 압축을 풉니다.\n",
    "\n",
    "데이터세트는 두 개의 개별 파일로 구성됩니다.\n",
    "\n",
    "* `left.zip`에는 anchor로 사용할 이미지가 포함되어 있습니다.\n",
    "* `right.zip`에는 positive 샘플(앵커처럼 보이는 이미지)로 사용할 이미지가 포함되어 있습니다."
   ]
  },
  {
   "cell_type": "markdown",
   "metadata": {
    "id": "-GoOZF0ilTxj"
   },
   "source": [
    "## 데이터 준비\n",
    "\n",
    "우리는 `tf.data` 파이프라인을 사용하여 데이터를 로드하고 Siamese 네트워크를 훈련하는 데 필요한 삼중항을 생성할 것입니다.\n",
    "\n",
    "anchor, positive, 및 negative 파일 이름이 소스로 포함된 압축 목록을 사용하여 파이프라인을 설정합니다. 파이프라인은 해당 이미지를 로드하고 사전 처리합니다."
   ]
  },
  {
   "cell_type": "markdown",
   "metadata": {
    "id": "B9y6JZW3lTxk"
   },
   "source": [
    "anchor,  positive 및 negative 이미지 파일 이름이 소스로 포함된 압축 목록을 사용하여 데이터 파이프라인을 설정해 보겠습니다. 파이프라인의 출력에는 모든 이미지가 load 되고 사전 처리된 동일한 triplet이 포함됩니다."
   ]
  },
  {
   "cell_type": "markdown",
   "metadata": {
    "id": "NvqDMrf0CZaQ"
   },
   "source": [
    "앵커 이미지와 포지티브 이미지가 모두 정렬된 순서로 load 되었는지 확인하여 함께 일치시킬 수 있도록 해야 합니다."
   ]
  },
  {
   "cell_type": "markdown",
   "metadata": {
    "id": "ioTvj6re4zRm"
   },
   "source": [
    "anchor image와 positive image가 정렬되어 있는지 확인"
   ]
  },
  {
   "cell_type": "markdown",
   "metadata": {
    "id": "_fg3i7q_5A2u"
   },
   "source": [
    "Anchor / Positive Data generator 생성"
   ]
  },
  {
   "cell_type": "markdown",
   "metadata": {
    "id": "OfWUB4xjDZWI"
   },
   "source": [
    "negative 이미지 목록을 생성하기 위해 사용 가능한 이미지 목록을 무작위로 만들고 함께 연결합니다."
   ]
  },
  {
   "cell_type": "markdown",
   "metadata": {
    "id": "er1EVn0U5bXB"
   },
   "source": [
    "Anchor와 Negative Image 가 불일치 하는지 확인"
   ]
  },
  {
   "cell_type": "markdown",
   "metadata": {
    "id": "Rim-szxw5z-v"
   },
   "source": [
    "Triple Data의 generator 생성"
   ]
  },
  {
   "cell_type": "markdown",
   "metadata": {
    "id": "7L3vvW6ylTxl"
   },
   "source": [
    "Triplelet의 몇 가지 예를 살펴봅니다. 세 번째 이미지는 항상 다른 반면 처음 두 이미지는 유사한 것을 확인합니다."
   ]
  },
  {
   "cell_type": "markdown",
   "metadata": {
    "id": "y5Bt7JHlG89i"
   },
   "source": [
    "as_numpy_iterator 메소드는 Dataset의 모든 요소를 numpy로 변환하는 iterator를 리턴"
   ]
  },
  {
   "cell_type": "markdown",
   "metadata": {
    "id": "TlF2oRtMlTxl"
   },
   "source": [
    "## 임베딩 생성기 모델 설정\n",
    "\n",
    "Siamese 네트워크는 삼중항의 각 이미지에 대한 임베딩을 생성합니다. 이를 위해 ImageNet에서 사전 훈련된 ResNet50 모델을 사용하고 몇 개의 'Dense' 레이어를 연결하여 이러한 임베딩을 분리하는 방법을 배울 것입니다.\n",
    "\n",
    "모델의 모든 레이어의 가중치를 `conv5_block1_out` 레이어까지 고정합니다.\n",
    "이는 모델이 이미 학습한 가중치에 영향을 미치지 않도록 하는 데 중요합니다.\n",
    "우리는 훈련 중에 가중치를 미세 조정할 수 있도록 맨 아래 몇 개의 레이어를 훈련 가능한 상태로 둘 것입니다."
   ]
  },
  {
   "cell_type": "markdown",
   "metadata": {
    "id": "ZWg4rUWYlTxm"
   },
   "source": [
    "## 샴 네트워크 모델 설정\n",
    "\n",
    "샴 네트워크는 각각의 삼중항 이미지를 입력으로 받아 임베딩을 생성하고 앵커와 포지티브 임베딩 사이의 거리와 앵커와 네거티브 임베딩 사이의 거리를 출력합니다.\n",
    "\n",
    "거리를 계산하기 위해 두 값을 튜플로 반환하는 사용자 지정 레이어 'DistanceLayer'를 사용할 수 있습니다."
   ]
  },
  {
   "cell_type": "markdown",
   "metadata": {
    "id": "P3-kFdv6lTxm"
   },
   "source": [
    "## Putting everything together\n",
    "\n",
    "이제 Siamese 네트워크에서 생성된 3개의 임베딩을 사용하여 삼중항 손실을 계산할 수 있도록 사용자 지정 훈련 루프가 있는 모델을 구현해야 합니다.\n",
    "\n",
    "훈련 과정의 손실을 추적하기 위해 'Mean' 메트릭 인스턴스를 생성해 보겠습니다."
   ]
  },
  {
   "cell_type": "markdown",
   "metadata": {
    "id": "qObBAt3nlTxn"
   },
   "source": [
    "## Training"
   ]
  },
  {
   "cell_type": "markdown",
   "metadata": {
    "id": "MXlIHyeMlTxn"
   },
   "source": [
    "## 네트워크가 학습한 내용 검사\n",
    "\n",
    "이제 네트워크가 유사한 이미지에 속하는지 여부에 따라 임베딩을 분리하는 방법을 학습한 것을 확인할 수 있습니다.\n",
    "\n",
    "[코사인 유사도](https://en.wikipedia.org/wiki/Cosine_similarity)를 사용하여 임베딩 간의 유사도를 측정할 수 있습니다.\n",
    "\n",
    "데이터 세트에서 샘플을 선택하여 각 이미지에 대해 생성된 임베딩 간의 유사성을 확인하겠습니다."
   ]
  },
  {
   "cell_type": "markdown",
   "metadata": {
    "id": "tqWl-iNRlTxn"
   },
   "source": [
    "마지막으로 앵커와 포지티브 이미지 간의 코사인 유사도를 계산하고 앵커와 네거티브 이미지 간의 유사도와 비교할 수 있습니다.\n",
    "\n",
    "앵커와 포지티브 이미지 사이의 유사도가 앵커와 네거티브 이미지 간의 유사도보다 클 것으로 예상 합니다."
   ]
  },
  {
   "cell_type": "markdown",
   "metadata": {
    "id": "0GC3zkAbV2iF"
   },
   "source": [
    "전체 Train set 에 대한 유사도 계산"
   ]
  },
  {
   "cell_type": "markdown",
   "metadata": {
    "id": "yzBvm5HUWZG9"
   },
   "source": [
    " 위 plot 에서 threshold를 정하여 이진 분류 모델 작성"
   ]
  }
 ],
 "metadata": {
  "accelerator": "GPU",
  "colab": {
   "collapsed_sections": [],
   "provenance": []
  },
  "gpuClass": "standard",
  "kernelspec": {
   "display_name": "Python 3 (ipykernel)",
   "language": "python",
   "name": "python3"
  },
  "language_info": {
   "codemirror_mode": {
    "name": "ipython",
    "version": 3
   },
   "file_extension": ".py",
   "mimetype": "text/x-python",
   "name": "python",
   "nbconvert_exporter": "python",
   "pygments_lexer": "ipython3",
   "version": "3.8.13"
  }
 },
 "nbformat": 4,
 "nbformat_minor": 0
}
