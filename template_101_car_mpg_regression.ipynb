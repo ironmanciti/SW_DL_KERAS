{
 "cells": [
  {
   "cell_type": "markdown",
   "metadata": {
    "id": "EIdT9iu_Z4Rb"
   },
   "source": [
    "# 자동차 연비 예측하기: 회귀\n",
    "\n",
    "### Colab 에서 작성"
   ]
  },
  {
   "cell_type": "markdown",
   "metadata": {
    "id": "AHp3M9ZmrIxj"
   },
   "source": [
    "*회귀*(regression)는 가격이나 확률 같이 연속된 출력 값을 예측하는 것입니다. \n",
    "\n",
    "이 노트북은 [Auto MPG](https://archive.ics.uci.edu/ml/datasets/auto+mpg) 데이터셋을 사용하여 1970년대 후반과 1980년대 초반에 생산된 자동차 연비를 예측하는 모델을 만듭니다. 이 기간에 출시된 자동차 정보를 모델에 제공합니다. 이 정보에는 실린더 수, 배기량, 마력(horsepower), 공차 중량 같은 속성이 포함됩니다."
   ]
  },
  {
   "cell_type": "markdown",
   "metadata": {
    "id": "F_72b0LCNbjx"
   },
   "source": [
    "## Auto MPG 데이터셋\n",
    "\n",
    "- 이 데이터셋은 [UCI 머신 러닝 저장소](https://archive.ics.uci.edu/ml/)에서 다운로드할 수 있습니다.  \n",
    "\n",
    "\n",
    "- Attribute Information:  \n",
    "    1. mpg: 연비, 연속형 변수  \n",
    "    2. cylinders: 이산형  \n",
    "    3. displacement: 연속형  \n",
    "    4. horsepower: 연속형  \n",
    "    5. weight: 연속형  \n",
    "    6. acceleration: 연속형  \n",
    "    7. model year: 이산형  \n",
    "    8. origin: 이산형 (1: USA, 2: Europe, 3: Japan)"
   ]
  },
  {
   "cell_type": "markdown",
   "metadata": {
    "id": "gFh9ne3FZ-On"
   },
   "source": [
    "### 데이터 download"
   ]
  },
  {
   "cell_type": "markdown",
   "metadata": {
    "id": "nslsRLh7Zss4"
   },
   "source": [
    "data를 읽어 DataFrame으로 만듭니다."
   ]
  },
  {
   "cell_type": "markdown",
   "metadata": {
    "id": "3MWuJTKEDM-f"
   },
   "source": [
    "### 데이터 정제\n",
    "\n",
    "이 데이터셋은 일부 데이터가 누락되어 있습니다."
   ]
  },
  {
   "cell_type": "markdown",
   "metadata": {
    "id": "9UPN0KBHa_WI"
   },
   "source": [
    "문제를 간단하게 만들기 위해서 missing value가 있는 행을 삭제합니다."
   ]
  },
  {
   "cell_type": "markdown",
   "metadata": {
    "id": "8XKitwaH4v8h"
   },
   "source": [
    "`\"Origin\"` 열은 수치형이 아니고 범주형이므로 원-핫 인코딩(one-hot encoding)으로 변환하겠습니다:  \n",
    "1 - `USA`  \n",
    "2 - `Europe`  \n",
    "3 - `Japan`"
   ]
  },
  {
   "cell_type": "markdown",
   "metadata": {
    "id": "Cuym4yvk76vU"
   },
   "source": [
    "### 데이터셋을 훈련 세트와 테스트 세트로 분할"
   ]
  },
  {
   "cell_type": "markdown",
   "metadata": {
    "id": "mRklxK5s388r"
   },
   "source": [
    "### 데이터 정규화\n",
    "Standard Scaing : (X - mu) / sigma"
   ]
  },
  {
   "cell_type": "markdown",
   "metadata": {
    "id": "SmjdzxKzEu1-"
   },
   "source": [
    "## 모델"
   ]
  },
  {
   "cell_type": "markdown",
   "metadata": {
    "id": "Vt6W50qGsJAL"
   },
   "source": [
    "모델을 한번 실행해 봅니다. 훈련 세트에서 `10` 샘플을 하나의 배치로 만들어 `model.predict` 메서드를 호출하여 결과값이 예상대로 작성하는지 사전  check 합니다."
   ]
  },
  {
   "cell_type": "markdown",
   "metadata": {
    "id": "0-qWCsh6DlyH"
   },
   "source": [
    "### 모델 훈련\n"
   ]
  },
  {
   "cell_type": "markdown",
   "metadata": {
    "id": "tQm3pc0FYPQB"
   },
   "source": [
    "`history` 객체에 저장된 통계치를 사용해 모델의 훈련 과정을 시각화"
   ]
  },
  {
   "cell_type": "markdown",
   "metadata": {
    "id": "ft603OzXuEZC"
   },
   "source": [
    "## 예측\n",
    "\n",
    "마지막으로 테스트 세트에 있는 샘플을 사용해 MPG 값을 예측해 보겠습니다:"
   ]
  }
 ],
 "metadata": {
  "accelerator": "GPU",
  "colab": {
   "collapsed_sections": [],
   "provenance": []
  },
  "gpuClass": "standard",
  "kernelspec": {
   "display_name": "Python 3 (ipykernel)",
   "language": "python",
   "name": "python3"
  },
  "language_info": {
   "codemirror_mode": {
    "name": "ipython",
    "version": 3
   },
   "file_extension": ".py",
   "mimetype": "text/x-python",
   "name": "python",
   "nbconvert_exporter": "python",
   "pygments_lexer": "ipython3",
   "version": "3.8.13"
  }
 },
 "nbformat": 4,
 "nbformat_minor": 0
}
