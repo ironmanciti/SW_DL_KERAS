{
 "cells": [
  {
   "cell_type": "markdown",
   "metadata": {
    "id": "EIdT9iu_Z4Rb"
   },
   "source": [
    "# 자동차 연비 예측하기: 회귀"
   ]
  },
  {
   "cell_type": "markdown",
   "metadata": {
    "id": "AHp3M9ZmrIxj"
   },
   "source": [
    "*회귀*(regression)는 가격이나 확률 같이 연속된 출력 값을 예측하는 것입니다. \n",
    "\n",
    "이 노트북은 [Auto MPG](https://archive.ics.uci.edu/ml/datasets/auto+mpg) 데이터셋을 사용하여 1970년대 후반과 1980년대 초반의 자동차 연비를 예측하는 모델을 만듭니다. 이 기간에 출시된 자동차 정보를 모델에 제공하겠습니다. 이 정보에는 실린더 수, 배기량, 마력(horsepower), 공차 중량 같은 속성이 포함됩니다."
   ]
  },
  {
   "cell_type": "code",
   "execution_count": 1,
   "metadata": {
    "id": "1rRo8oNqZ-Rj"
   },
   "outputs": [],
   "source": [
    "import matplotlib.pyplot as plt\n",
    "import pandas as pd\n",
    "\n",
    "import tensorflow as tf\n",
    "from tensorflow.keras.layers import Dense"
   ]
  },
  {
   "cell_type": "markdown",
   "metadata": {
    "id": "F_72b0LCNbjx"
   },
   "source": [
    "## Auto MPG 데이터셋\n",
    "\n",
    "이 데이터셋은 [UCI 머신 러닝 저장소](https://archive.ics.uci.edu/ml/)에서 다운로드할 수 있습니다."
   ]
  },
  {
   "cell_type": "markdown",
   "metadata": {
    "id": "gFh9ne3FZ-On"
   },
   "source": [
    "### 데이터 구하기\n",
    "먼저 데이터셋을 다운로드합니다."
   ]
  },
  {
   "cell_type": "code",
   "execution_count": 2,
   "metadata": {
    "colab": {
     "base_uri": "https://localhost:8080/",
     "height": 36
    },
    "id": "p9kxxgzvzlyz",
    "outputId": "f9e584a4-b6e4-4ad6-8720-c6646928a222"
   },
   "outputs": [
    {
     "data": {
      "text/plain": [
       "'C:\\\\Users\\\\trimu\\\\.keras\\\\datasets\\\\auto-mpg.data'"
      ]
     },
     "execution_count": 2,
     "metadata": {},
     "output_type": "execute_result"
    }
   ],
   "source": [
    "dataset_path = tf.keras.utils.get_file(\"auto-mpg.data\", \"http://archive.ics.uci.edu/ml/machine-learning-databases/auto-mpg/auto-mpg.data\")\n",
    "dataset_path"
   ]
  },
  {
   "cell_type": "markdown",
   "metadata": {
    "id": "nslsRLh7Zss4"
   },
   "source": [
    "판다스를 사용하여 데이터를 읽습니다."
   ]
  },
  {
   "cell_type": "code",
   "execution_count": 18,
   "metadata": {
    "colab": {
     "base_uri": "https://localhost:8080/",
     "height": 206
    },
    "id": "CiX2FI4gZtTt",
    "outputId": "fa1681b7-68c1-4e43-db65-7f1ca9759713"
   },
   "outputs": [
    {
     "data": {
      "text/html": [
       "<div>\n",
       "<style scoped>\n",
       "    .dataframe tbody tr th:only-of-type {\n",
       "        vertical-align: middle;\n",
       "    }\n",
       "\n",
       "    .dataframe tbody tr th {\n",
       "        vertical-align: top;\n",
       "    }\n",
       "\n",
       "    .dataframe thead th {\n",
       "        text-align: right;\n",
       "    }\n",
       "</style>\n",
       "<table border=\"1\" class=\"dataframe\">\n",
       "  <thead>\n",
       "    <tr style=\"text-align: right;\">\n",
       "      <th></th>\n",
       "      <th>MPG</th>\n",
       "      <th>Cylinders</th>\n",
       "      <th>Displacement</th>\n",
       "      <th>Horsepower</th>\n",
       "      <th>Weight</th>\n",
       "      <th>Acceleration</th>\n",
       "      <th>Model Year</th>\n",
       "      <th>Origin</th>\n",
       "    </tr>\n",
       "  </thead>\n",
       "  <tbody>\n",
       "    <tr>\n",
       "      <th>393</th>\n",
       "      <td>27.0</td>\n",
       "      <td>4</td>\n",
       "      <td>140.0</td>\n",
       "      <td>86.0</td>\n",
       "      <td>2790.0</td>\n",
       "      <td>15.6</td>\n",
       "      <td>82</td>\n",
       "      <td>1</td>\n",
       "    </tr>\n",
       "    <tr>\n",
       "      <th>394</th>\n",
       "      <td>44.0</td>\n",
       "      <td>4</td>\n",
       "      <td>97.0</td>\n",
       "      <td>52.0</td>\n",
       "      <td>2130.0</td>\n",
       "      <td>24.6</td>\n",
       "      <td>82</td>\n",
       "      <td>2</td>\n",
       "    </tr>\n",
       "    <tr>\n",
       "      <th>395</th>\n",
       "      <td>32.0</td>\n",
       "      <td>4</td>\n",
       "      <td>135.0</td>\n",
       "      <td>84.0</td>\n",
       "      <td>2295.0</td>\n",
       "      <td>11.6</td>\n",
       "      <td>82</td>\n",
       "      <td>1</td>\n",
       "    </tr>\n",
       "    <tr>\n",
       "      <th>396</th>\n",
       "      <td>28.0</td>\n",
       "      <td>4</td>\n",
       "      <td>120.0</td>\n",
       "      <td>79.0</td>\n",
       "      <td>2625.0</td>\n",
       "      <td>18.6</td>\n",
       "      <td>82</td>\n",
       "      <td>1</td>\n",
       "    </tr>\n",
       "    <tr>\n",
       "      <th>397</th>\n",
       "      <td>31.0</td>\n",
       "      <td>4</td>\n",
       "      <td>119.0</td>\n",
       "      <td>82.0</td>\n",
       "      <td>2720.0</td>\n",
       "      <td>19.4</td>\n",
       "      <td>82</td>\n",
       "      <td>1</td>\n",
       "    </tr>\n",
       "  </tbody>\n",
       "</table>\n",
       "</div>"
      ],
      "text/plain": [
       "      MPG  Cylinders  Displacement  Horsepower  Weight  Acceleration  \\\n",
       "393  27.0          4         140.0        86.0  2790.0          15.6   \n",
       "394  44.0          4          97.0        52.0  2130.0          24.6   \n",
       "395  32.0          4         135.0        84.0  2295.0          11.6   \n",
       "396  28.0          4         120.0        79.0  2625.0          18.6   \n",
       "397  31.0          4         119.0        82.0  2720.0          19.4   \n",
       "\n",
       "     Model Year  Origin  \n",
       "393          82       1  \n",
       "394          82       2  \n",
       "395          82       1  \n",
       "396          82       1  \n",
       "397          82       1  "
      ]
     },
     "execution_count": 18,
     "metadata": {},
     "output_type": "execute_result"
    }
   ],
   "source": [
    "column_names = ['MPG','Cylinders','Displacement','Horsepower','Weight',\n",
    "                             'Acceleration', 'Model Year', 'Origin']\n",
    "raw_dataset = pd.read_csv(dataset_path, names=column_names,\n",
    "                         na_values = \"?\", comment='\\t',\n",
    "                        sep=\" \", skipinitialspace=True)\n",
    "\n",
    "dataset = raw_dataset.copy()\n",
    "dataset.tail()"
   ]
  },
  {
   "cell_type": "markdown",
   "metadata": {
    "id": "3MWuJTKEDM-f"
   },
   "source": [
    "### 데이터 정제하기\n",
    "\n",
    "이 데이터셋은 일부 데이터가 누락되어 있습니다."
   ]
  },
  {
   "cell_type": "code",
   "execution_count": 19,
   "metadata": {
    "colab": {
     "base_uri": "https://localhost:8080/"
    },
    "id": "JEJHhN65a2VV",
    "outputId": "6f2fc132-a9ef-4fd0-f569-747d8bff68f4"
   },
   "outputs": [
    {
     "data": {
      "text/plain": [
       "MPG             0\n",
       "Cylinders       0\n",
       "Displacement    0\n",
       "Horsepower      6\n",
       "Weight          0\n",
       "Acceleration    0\n",
       "Model Year      0\n",
       "Origin          0\n",
       "dtype: int64"
      ]
     },
     "execution_count": 19,
     "metadata": {},
     "output_type": "execute_result"
    }
   ],
   "source": [
    "dataset.isna().sum()"
   ]
  },
  {
   "cell_type": "markdown",
   "metadata": {
    "id": "9UPN0KBHa_WI"
   },
   "source": [
    "문제를 간단하게 만들기 위해서 누락된 행을 삭제하겠습니다."
   ]
  },
  {
   "cell_type": "code",
   "execution_count": 20,
   "metadata": {
    "id": "4ZUDosChC1UN"
   },
   "outputs": [],
   "source": [
    "dataset = dataset.dropna()"
   ]
  },
  {
   "cell_type": "markdown",
   "metadata": {
    "id": "8XKitwaH4v8h"
   },
   "source": [
    "`\"Origin\"` 열은 수치형이 아니고 범주형이므로 원-핫 인코딩(one-hot encoding)으로 변환하겠습니다:  \n",
    "1 - `USA`  \n",
    "2 - `Europe`  \n",
    "3 - `Japan`"
   ]
  },
  {
   "cell_type": "code",
   "execution_count": 21,
   "metadata": {
    "id": "gWNTD2QjBWFJ"
   },
   "outputs": [],
   "source": [
    "# dataset에서 Origin column 제거 & value 저장\n",
    "origin = dataset.pop('Origin')"
   ]
  },
  {
   "cell_type": "code",
   "execution_count": 22,
   "metadata": {
    "colab": {
     "base_uri": "https://localhost:8080/",
     "height": 206
    },
    "id": "ulXz4J7PAUzk",
    "outputId": "049db17e-294c-4fe9-e70c-07a9703c96e2"
   },
   "outputs": [
    {
     "data": {
      "text/html": [
       "<div>\n",
       "<style scoped>\n",
       "    .dataframe tbody tr th:only-of-type {\n",
       "        vertical-align: middle;\n",
       "    }\n",
       "\n",
       "    .dataframe tbody tr th {\n",
       "        vertical-align: top;\n",
       "    }\n",
       "\n",
       "    .dataframe thead th {\n",
       "        text-align: right;\n",
       "    }\n",
       "</style>\n",
       "<table border=\"1\" class=\"dataframe\">\n",
       "  <thead>\n",
       "    <tr style=\"text-align: right;\">\n",
       "      <th></th>\n",
       "      <th>MPG</th>\n",
       "      <th>Cylinders</th>\n",
       "      <th>Displacement</th>\n",
       "      <th>Horsepower</th>\n",
       "      <th>Weight</th>\n",
       "      <th>Acceleration</th>\n",
       "      <th>Model Year</th>\n",
       "      <th>USA</th>\n",
       "      <th>Europe</th>\n",
       "      <th>Japan</th>\n",
       "    </tr>\n",
       "  </thead>\n",
       "  <tbody>\n",
       "    <tr>\n",
       "      <th>393</th>\n",
       "      <td>27.0</td>\n",
       "      <td>4</td>\n",
       "      <td>140.0</td>\n",
       "      <td>86.0</td>\n",
       "      <td>2790.0</td>\n",
       "      <td>15.6</td>\n",
       "      <td>82</td>\n",
       "      <td>1.0</td>\n",
       "      <td>0.0</td>\n",
       "      <td>0.0</td>\n",
       "    </tr>\n",
       "    <tr>\n",
       "      <th>394</th>\n",
       "      <td>44.0</td>\n",
       "      <td>4</td>\n",
       "      <td>97.0</td>\n",
       "      <td>52.0</td>\n",
       "      <td>2130.0</td>\n",
       "      <td>24.6</td>\n",
       "      <td>82</td>\n",
       "      <td>0.0</td>\n",
       "      <td>1.0</td>\n",
       "      <td>0.0</td>\n",
       "    </tr>\n",
       "    <tr>\n",
       "      <th>395</th>\n",
       "      <td>32.0</td>\n",
       "      <td>4</td>\n",
       "      <td>135.0</td>\n",
       "      <td>84.0</td>\n",
       "      <td>2295.0</td>\n",
       "      <td>11.6</td>\n",
       "      <td>82</td>\n",
       "      <td>1.0</td>\n",
       "      <td>0.0</td>\n",
       "      <td>0.0</td>\n",
       "    </tr>\n",
       "    <tr>\n",
       "      <th>396</th>\n",
       "      <td>28.0</td>\n",
       "      <td>4</td>\n",
       "      <td>120.0</td>\n",
       "      <td>79.0</td>\n",
       "      <td>2625.0</td>\n",
       "      <td>18.6</td>\n",
       "      <td>82</td>\n",
       "      <td>1.0</td>\n",
       "      <td>0.0</td>\n",
       "      <td>0.0</td>\n",
       "    </tr>\n",
       "    <tr>\n",
       "      <th>397</th>\n",
       "      <td>31.0</td>\n",
       "      <td>4</td>\n",
       "      <td>119.0</td>\n",
       "      <td>82.0</td>\n",
       "      <td>2720.0</td>\n",
       "      <td>19.4</td>\n",
       "      <td>82</td>\n",
       "      <td>1.0</td>\n",
       "      <td>0.0</td>\n",
       "      <td>0.0</td>\n",
       "    </tr>\n",
       "  </tbody>\n",
       "</table>\n",
       "</div>"
      ],
      "text/plain": [
       "      MPG  Cylinders  Displacement  Horsepower  Weight  Acceleration  \\\n",
       "393  27.0          4         140.0        86.0  2790.0          15.6   \n",
       "394  44.0          4          97.0        52.0  2130.0          24.6   \n",
       "395  32.0          4         135.0        84.0  2295.0          11.6   \n",
       "396  28.0          4         120.0        79.0  2625.0          18.6   \n",
       "397  31.0          4         119.0        82.0  2720.0          19.4   \n",
       "\n",
       "     Model Year  USA  Europe  Japan  \n",
       "393          82  1.0     0.0    0.0  \n",
       "394          82  0.0     1.0    0.0  \n",
       "395          82  1.0     0.0    0.0  \n",
       "396          82  1.0     0.0    0.0  \n",
       "397          82  1.0     0.0    0.0  "
      ]
     },
     "execution_count": 22,
     "metadata": {},
     "output_type": "execute_result"
    }
   ],
   "source": [
    "# origin column 값을 one-hot-encoding 변환\n",
    "dataset['USA'] = (origin == 1) * 1.0\n",
    "dataset['Europe'] = (origin == 2) * 1.0\n",
    "dataset['Japan'] = (origin == 3) * 1.0\n",
    "dataset.tail()"
   ]
  },
  {
   "cell_type": "markdown",
   "metadata": {
    "id": "gavKO_6DWRMP"
   },
   "source": [
    "전반적인 통계 확인"
   ]
  },
  {
   "cell_type": "code",
   "execution_count": 17,
   "metadata": {},
   "outputs": [
    {
     "data": {
      "text/html": [
       "<div>\n",
       "<style scoped>\n",
       "    .dataframe tbody tr th:only-of-type {\n",
       "        vertical-align: middle;\n",
       "    }\n",
       "\n",
       "    .dataframe tbody tr th {\n",
       "        vertical-align: top;\n",
       "    }\n",
       "\n",
       "    .dataframe thead th {\n",
       "        text-align: right;\n",
       "    }\n",
       "</style>\n",
       "<table border=\"1\" class=\"dataframe\">\n",
       "  <thead>\n",
       "    <tr style=\"text-align: right;\">\n",
       "      <th></th>\n",
       "      <th>MPG</th>\n",
       "      <th>Cylinders</th>\n",
       "      <th>Displacement</th>\n",
       "      <th>Horsepower</th>\n",
       "      <th>Weight</th>\n",
       "      <th>Acceleration</th>\n",
       "      <th>Model Year</th>\n",
       "      <th>USA</th>\n",
       "      <th>Europe</th>\n",
       "      <th>Japan</th>\n",
       "    </tr>\n",
       "  </thead>\n",
       "  <tbody>\n",
       "    <tr>\n",
       "      <th>count</th>\n",
       "      <td>392.000000</td>\n",
       "      <td>392.000000</td>\n",
       "      <td>392.000000</td>\n",
       "      <td>392.000000</td>\n",
       "      <td>392.000000</td>\n",
       "      <td>392.000000</td>\n",
       "      <td>392.000000</td>\n",
       "      <td>392.000000</td>\n",
       "      <td>392.000000</td>\n",
       "      <td>392.000000</td>\n",
       "    </tr>\n",
       "    <tr>\n",
       "      <th>mean</th>\n",
       "      <td>23.445918</td>\n",
       "      <td>5.471939</td>\n",
       "      <td>194.411990</td>\n",
       "      <td>104.469388</td>\n",
       "      <td>2977.584184</td>\n",
       "      <td>15.541327</td>\n",
       "      <td>75.979592</td>\n",
       "      <td>0.625000</td>\n",
       "      <td>0.173469</td>\n",
       "      <td>0.201531</td>\n",
       "    </tr>\n",
       "    <tr>\n",
       "      <th>std</th>\n",
       "      <td>7.805007</td>\n",
       "      <td>1.705783</td>\n",
       "      <td>104.644004</td>\n",
       "      <td>38.491160</td>\n",
       "      <td>849.402560</td>\n",
       "      <td>2.758864</td>\n",
       "      <td>3.683737</td>\n",
       "      <td>0.484742</td>\n",
       "      <td>0.379136</td>\n",
       "      <td>0.401656</td>\n",
       "    </tr>\n",
       "    <tr>\n",
       "      <th>min</th>\n",
       "      <td>9.000000</td>\n",
       "      <td>3.000000</td>\n",
       "      <td>68.000000</td>\n",
       "      <td>46.000000</td>\n",
       "      <td>1613.000000</td>\n",
       "      <td>8.000000</td>\n",
       "      <td>70.000000</td>\n",
       "      <td>0.000000</td>\n",
       "      <td>0.000000</td>\n",
       "      <td>0.000000</td>\n",
       "    </tr>\n",
       "    <tr>\n",
       "      <th>25%</th>\n",
       "      <td>17.000000</td>\n",
       "      <td>4.000000</td>\n",
       "      <td>105.000000</td>\n",
       "      <td>75.000000</td>\n",
       "      <td>2225.250000</td>\n",
       "      <td>13.775000</td>\n",
       "      <td>73.000000</td>\n",
       "      <td>0.000000</td>\n",
       "      <td>0.000000</td>\n",
       "      <td>0.000000</td>\n",
       "    </tr>\n",
       "    <tr>\n",
       "      <th>50%</th>\n",
       "      <td>22.750000</td>\n",
       "      <td>4.000000</td>\n",
       "      <td>151.000000</td>\n",
       "      <td>93.500000</td>\n",
       "      <td>2803.500000</td>\n",
       "      <td>15.500000</td>\n",
       "      <td>76.000000</td>\n",
       "      <td>1.000000</td>\n",
       "      <td>0.000000</td>\n",
       "      <td>0.000000</td>\n",
       "    </tr>\n",
       "    <tr>\n",
       "      <th>75%</th>\n",
       "      <td>29.000000</td>\n",
       "      <td>8.000000</td>\n",
       "      <td>275.750000</td>\n",
       "      <td>126.000000</td>\n",
       "      <td>3614.750000</td>\n",
       "      <td>17.025000</td>\n",
       "      <td>79.000000</td>\n",
       "      <td>1.000000</td>\n",
       "      <td>0.000000</td>\n",
       "      <td>0.000000</td>\n",
       "    </tr>\n",
       "    <tr>\n",
       "      <th>max</th>\n",
       "      <td>46.600000</td>\n",
       "      <td>8.000000</td>\n",
       "      <td>455.000000</td>\n",
       "      <td>230.000000</td>\n",
       "      <td>5140.000000</td>\n",
       "      <td>24.800000</td>\n",
       "      <td>82.000000</td>\n",
       "      <td>1.000000</td>\n",
       "      <td>1.000000</td>\n",
       "      <td>1.000000</td>\n",
       "    </tr>\n",
       "  </tbody>\n",
       "</table>\n",
       "</div>"
      ],
      "text/plain": [
       "              MPG   Cylinders  Displacement  Horsepower       Weight  \\\n",
       "count  392.000000  392.000000    392.000000  392.000000   392.000000   \n",
       "mean    23.445918    5.471939    194.411990  104.469388  2977.584184   \n",
       "std      7.805007    1.705783    104.644004   38.491160   849.402560   \n",
       "min      9.000000    3.000000     68.000000   46.000000  1613.000000   \n",
       "25%     17.000000    4.000000    105.000000   75.000000  2225.250000   \n",
       "50%     22.750000    4.000000    151.000000   93.500000  2803.500000   \n",
       "75%     29.000000    8.000000    275.750000  126.000000  3614.750000   \n",
       "max     46.600000    8.000000    455.000000  230.000000  5140.000000   \n",
       "\n",
       "       Acceleration  Model Year         USA      Europe       Japan  \n",
       "count    392.000000  392.000000  392.000000  392.000000  392.000000  \n",
       "mean      15.541327   75.979592    0.625000    0.173469    0.201531  \n",
       "std        2.758864    3.683737    0.484742    0.379136    0.401656  \n",
       "min        8.000000   70.000000    0.000000    0.000000    0.000000  \n",
       "25%       13.775000   73.000000    0.000000    0.000000    0.000000  \n",
       "50%       15.500000   76.000000    1.000000    0.000000    0.000000  \n",
       "75%       17.025000   79.000000    1.000000    0.000000    0.000000  \n",
       "max       24.800000   82.000000    1.000000    1.000000    1.000000  "
      ]
     },
     "execution_count": 17,
     "metadata": {},
     "output_type": "execute_result"
    }
   ],
   "source": [
    "dataset.describe()"
   ]
  },
  {
   "cell_type": "markdown",
   "metadata": {
    "id": "Cuym4yvk76vU"
   },
   "source": [
    "### 데이터셋을 훈련 세트와 테스트 세트로 분할하기"
   ]
  },
  {
   "cell_type": "code",
   "execution_count": 23,
   "metadata": {
    "id": "qn-IGhUE7_1H"
   },
   "outputs": [
    {
     "data": {
      "text/plain": [
       "((313, 9), (79, 9), (313,), (79,))"
      ]
     },
     "execution_count": 23,
     "metadata": {},
     "output_type": "execute_result"
    }
   ],
   "source": [
    "from sklearn.model_selection import train_test_split\n",
    "\n",
    "# 특성과 label 분리\n",
    "X = dataset.drop('MPG', axis=1).values\n",
    "y = dataset['MPG'].values\n",
    "\n",
    "X_train, X_test, y_train, y_test = train_test_split(X, y, test_size=0.2, random_state=0)\n",
    "X_train.shape, X_test.shape, y_train.shape, y_test.shape"
   ]
  },
  {
   "cell_type": "markdown",
   "metadata": {
    "id": "mRklxK5s388r"
   },
   "source": [
    "### 데이터 정규화\n",
    "MinMAX scaling : (X - min) / (max - min)"
   ]
  },
  {
   "cell_type": "code",
   "execution_count": 25,
   "metadata": {},
   "outputs": [],
   "source": [
    "from sklearn.preprocessing import MinMaxScaler\n",
    "\n",
    "sc = MinMaxScaler()\n",
    "X_train = sc.fit_transform(X_train)\n",
    "X_test  = sc.transform(X_test)"
   ]
  },
  {
   "cell_type": "markdown",
   "metadata": {
    "id": "SmjdzxKzEu1-"
   },
   "source": [
    "## 모델"
   ]
  },
  {
   "cell_type": "code",
   "execution_count": 31,
   "metadata": {
    "id": "c26juK7ZG8j-"
   },
   "outputs": [],
   "source": [
    "model = tf.keras.Sequential([\n",
    "    Dense(64, activation='relu', input_shape=[9]),\n",
    "    Dense(32, activation='relu'),\n",
    "    Dense(1)\n",
    "])\n",
    "\n",
    "model.compile(loss='mse', optimizer='adam', metrics=['mae', 'mse'])"
   ]
  },
  {
   "cell_type": "code",
   "execution_count": 32,
   "metadata": {
    "colab": {
     "base_uri": "https://localhost:8080/"
    },
    "id": "ReAD0n6MsFK-",
    "outputId": "51efe3ed-edee-44a2-efec-6acf09116a70"
   },
   "outputs": [
    {
     "name": "stdout",
     "output_type": "stream",
     "text": [
      "Model: \"sequential_2\"\n",
      "_________________________________________________________________\n",
      " Layer (type)                Output Shape              Param #   \n",
      "=================================================================\n",
      " dense_6 (Dense)             (None, 64)                640       \n",
      "                                                                 \n",
      " dense_7 (Dense)             (None, 32)                2080      \n",
      "                                                                 \n",
      " dense_8 (Dense)             (None, 1)                 33        \n",
      "                                                                 \n",
      "=================================================================\n",
      "Total params: 2753 (10.75 KB)\n",
      "Trainable params: 2753 (10.75 KB)\n",
      "Non-trainable params: 0 (0.00 Byte)\n",
      "_________________________________________________________________\n"
     ]
    }
   ],
   "source": [
    "model.summary()"
   ]
  },
  {
   "cell_type": "markdown",
   "metadata": {
    "id": "0-qWCsh6DlyH"
   },
   "source": [
    "### 모델 훈련\n"
   ]
  },
  {
   "cell_type": "code",
   "execution_count": 33,
   "metadata": {
    "colab": {
     "base_uri": "https://localhost:8080/"
    },
    "id": "sD7qHCmNIOY0",
    "outputId": "fe152058-d559-45c7-e59a-c3fb870514bb",
    "scrolled": true
   },
   "outputs": [
    {
     "name": "stdout",
     "output_type": "stream",
     "text": [
      "Epoch 1/500\n",
      "10/10 [==============================] - 1s 18ms/step - loss: 607.2944 - mae: 23.3655 - mse: 607.2944 - val_loss: 592.7438 - val_mae: 22.9971 - val_mse: 592.7438\n",
      "Epoch 2/500\n",
      "10/10 [==============================] - 0s 5ms/step - loss: 593.2205 - mae: 23.0430 - mse: 593.2205 - val_loss: 578.9488 - val_mae: 22.6739 - val_mse: 578.9488\n",
      "Epoch 3/500\n",
      "10/10 [==============================] - 0s 4ms/step - loss: 578.5253 - mae: 22.7025 - mse: 578.5253 - val_loss: 562.2047 - val_mae: 22.2797 - val_mse: 562.2047\n",
      "Epoch 4/500\n",
      "10/10 [==============================] - 0s 5ms/step - loss: 559.4105 - mae: 22.2580 - mse: 559.4105 - val_loss: 540.0298 - val_mae: 21.7448 - val_mse: 540.0298\n",
      "Epoch 5/500\n",
      "10/10 [==============================] - 0s 4ms/step - loss: 534.2214 - mae: 21.6497 - mse: 534.2214 - val_loss: 511.2078 - val_mae: 21.0259 - val_mse: 511.2078\n",
      "Epoch 6/500\n",
      "10/10 [==============================] - 0s 4ms/step - loss: 501.4768 - mae: 20.8223 - mse: 501.4768 - val_loss: 473.4842 - val_mae: 20.0434 - val_mse: 473.4842\n",
      "Epoch 7/500\n",
      "10/10 [==============================] - 0s 4ms/step - loss: 458.7260 - mae: 19.6970 - mse: 458.7260 - val_loss: 424.8847 - val_mae: 18.6948 - val_mse: 424.8847\n",
      "Epoch 8/500\n",
      "10/10 [==============================] - 0s 4ms/step - loss: 404.2823 - mae: 18.1711 - mse: 404.2823 - val_loss: 365.8116 - val_mae: 16.8948 - val_mse: 365.8116\n",
      "Epoch 9/500\n",
      "10/10 [==============================] - 0s 4ms/step - loss: 340.5161 - mae: 16.1695 - mse: 340.5161 - val_loss: 299.1926 - val_mae: 14.6289 - val_mse: 299.1926\n",
      "Epoch 10/500\n",
      "10/10 [==============================] - 0s 5ms/step - loss: 272.1237 - mae: 13.7816 - mse: 272.1237 - val_loss: 232.5782 - val_mae: 12.2388 - val_mse: 232.5782\n",
      "Epoch 11/500\n",
      "10/10 [==============================] - 0s 4ms/step - loss: 207.0120 - mae: 11.7330 - mse: 207.0120 - val_loss: 176.5192 - val_mae: 10.8516 - val_mse: 176.5192\n",
      "Epoch 12/500\n",
      "10/10 [==============================] - 0s 4ms/step - loss: 157.4203 - mae: 10.2736 - mse: 157.4203 - val_loss: 138.4120 - val_mae: 10.0656 - val_mse: 138.4120\n",
      "Epoch 13/500\n",
      "10/10 [==============================] - 0s 4ms/step - loss: 126.2958 - mae: 9.4914 - mse: 126.2958 - val_loss: 117.4775 - val_mae: 9.4111 - val_mse: 117.4775\n",
      "Epoch 14/500\n",
      "10/10 [==============================] - 0s 4ms/step - loss: 108.4451 - mae: 9.0035 - mse: 108.4451 - val_loss: 103.3130 - val_mae: 8.8212 - val_mse: 103.3130\n",
      "Epoch 15/500\n",
      "10/10 [==============================] - 0s 4ms/step - loss: 94.8295 - mae: 8.4571 - mse: 94.8295 - val_loss: 90.1025 - val_mae: 8.2175 - val_mse: 90.1025\n",
      "Epoch 16/500\n",
      "10/10 [==============================] - 0s 4ms/step - loss: 83.0672 - mae: 7.8735 - mse: 83.0672 - val_loss: 77.1945 - val_mae: 7.5794 - val_mse: 77.1945\n",
      "Epoch 17/500\n",
      "10/10 [==============================] - 0s 4ms/step - loss: 72.1407 - mae: 7.2873 - mse: 72.1407 - val_loss: 65.9748 - val_mae: 6.9735 - val_mse: 65.9748\n",
      "Epoch 18/500\n",
      "10/10 [==============================] - 0s 4ms/step - loss: 62.9947 - mae: 6.7597 - mse: 62.9947 - val_loss: 56.2625 - val_mae: 6.3897 - val_mse: 56.2625\n",
      "Epoch 19/500\n",
      "10/10 [==============================] - 0s 5ms/step - loss: 54.8099 - mae: 6.2879 - mse: 54.8099 - val_loss: 47.9644 - val_mae: 5.8298 - val_mse: 47.9644\n",
      "Epoch 20/500\n",
      "10/10 [==============================] - 0s 4ms/step - loss: 47.8820 - mae: 5.8626 - mse: 47.8820 - val_loss: 41.1105 - val_mae: 5.3472 - val_mse: 41.1105\n",
      "Epoch 21/500\n",
      "10/10 [==============================] - 0s 5ms/step - loss: 42.2904 - mae: 5.4735 - mse: 42.2904 - val_loss: 35.2822 - val_mae: 4.8829 - val_mse: 35.2822\n",
      "Epoch 22/500\n",
      "10/10 [==============================] - 0s 4ms/step - loss: 37.5200 - mae: 5.1032 - mse: 37.5200 - val_loss: 30.7217 - val_mae: 4.4864 - val_mse: 30.7217\n",
      "Epoch 23/500\n",
      "10/10 [==============================] - 0s 5ms/step - loss: 33.9652 - mae: 4.7925 - mse: 33.9652 - val_loss: 27.0657 - val_mae: 4.1680 - val_mse: 27.0657\n",
      "Epoch 24/500\n",
      "10/10 [==============================] - 0s 4ms/step - loss: 30.9360 - mae: 4.5207 - mse: 30.9360 - val_loss: 24.3396 - val_mae: 3.9134 - val_mse: 24.3396\n",
      "Epoch 25/500\n",
      "10/10 [==============================] - 0s 4ms/step - loss: 28.6835 - mae: 4.2998 - mse: 28.6835 - val_loss: 22.2703 - val_mae: 3.6974 - val_mse: 22.2703\n",
      "Epoch 26/500\n",
      "10/10 [==============================] - 0s 5ms/step - loss: 26.8795 - mae: 4.1234 - mse: 26.8795 - val_loss: 20.5663 - val_mae: 3.5199 - val_mse: 20.5663\n",
      "Epoch 27/500\n",
      "10/10 [==============================] - 0s 4ms/step - loss: 25.4207 - mae: 3.9808 - mse: 25.4207 - val_loss: 19.1268 - val_mae: 3.3685 - val_mse: 19.1268\n",
      "Epoch 28/500\n",
      "10/10 [==============================] - 0s 4ms/step - loss: 24.0479 - mae: 3.8418 - mse: 24.0479 - val_loss: 18.1307 - val_mae: 3.2719 - val_mse: 18.1307\n",
      "Epoch 29/500\n",
      "10/10 [==============================] - 0s 5ms/step - loss: 22.8837 - mae: 3.7128 - mse: 22.8837 - val_loss: 17.2422 - val_mae: 3.1794 - val_mse: 17.2422\n",
      "Epoch 30/500\n",
      "10/10 [==============================] - 0s 4ms/step - loss: 21.9011 - mae: 3.6073 - mse: 21.9011 - val_loss: 16.4838 - val_mae: 3.1027 - val_mse: 16.4838\n",
      "Epoch 31/500\n",
      "10/10 [==============================] - 0s 4ms/step - loss: 21.0565 - mae: 3.5341 - mse: 21.0565 - val_loss: 15.7562 - val_mae: 3.0354 - val_mse: 15.7562\n",
      "Epoch 32/500\n",
      "10/10 [==============================] - 0s 3ms/step - loss: 20.2711 - mae: 3.4687 - mse: 20.2711 - val_loss: 15.2671 - val_mae: 2.9782 - val_mse: 15.2671\n",
      "Epoch 33/500\n",
      "10/10 [==============================] - 0s 4ms/step - loss: 19.6320 - mae: 3.4136 - mse: 19.6320 - val_loss: 14.7543 - val_mae: 2.9275 - val_mse: 14.7543\n",
      "Epoch 34/500\n",
      "10/10 [==============================] - 0s 5ms/step - loss: 18.9378 - mae: 3.3559 - mse: 18.9378 - val_loss: 14.4503 - val_mae: 2.8986 - val_mse: 14.4503\n",
      "Epoch 35/500\n",
      "10/10 [==============================] - 0s 5ms/step - loss: 18.4186 - mae: 3.3124 - mse: 18.4186 - val_loss: 14.0702 - val_mae: 2.8609 - val_mse: 14.0702\n",
      "Epoch 36/500\n",
      "10/10 [==============================] - 0s 4ms/step - loss: 17.8911 - mae: 3.2788 - mse: 17.8911 - val_loss: 13.7184 - val_mae: 2.8221 - val_mse: 13.7184\n",
      "Epoch 37/500\n",
      "10/10 [==============================] - 0s 4ms/step - loss: 17.4214 - mae: 3.2425 - mse: 17.4214 - val_loss: 13.5281 - val_mae: 2.8038 - val_mse: 13.5281\n",
      "Epoch 38/500\n",
      "10/10 [==============================] - 0s 4ms/step - loss: 17.0111 - mae: 3.2089 - mse: 17.0111 - val_loss: 13.2246 - val_mae: 2.7724 - val_mse: 13.2246\n",
      "Epoch 39/500\n",
      "10/10 [==============================] - 0s 4ms/step - loss: 16.8236 - mae: 3.2121 - mse: 16.8236 - val_loss: 12.8694 - val_mae: 2.7210 - val_mse: 12.8694\n",
      "Epoch 40/500\n",
      "10/10 [==============================] - 0s 4ms/step - loss: 16.2465 - mae: 3.1532 - mse: 16.2465 - val_loss: 12.9831 - val_mae: 2.7462 - val_mse: 12.9831\n",
      "Epoch 41/500\n",
      "10/10 [==============================] - 0s 4ms/step - loss: 15.9991 - mae: 3.1116 - mse: 15.9991 - val_loss: 12.7574 - val_mae: 2.7180 - val_mse: 12.7574\n",
      "Epoch 42/500\n",
      "10/10 [==============================] - 0s 4ms/step - loss: 15.6269 - mae: 3.0915 - mse: 15.6269 - val_loss: 12.4629 - val_mae: 2.6799 - val_mse: 12.4629\n",
      "Epoch 43/500\n",
      "10/10 [==============================] - 0s 4ms/step - loss: 15.3883 - mae: 3.0839 - mse: 15.3883 - val_loss: 12.1904 - val_mae: 2.6416 - val_mse: 12.1904\n",
      "Epoch 44/500\n",
      "10/10 [==============================] - 0s 4ms/step - loss: 15.1122 - mae: 3.0525 - mse: 15.1122 - val_loss: 12.1290 - val_mae: 2.6359 - val_mse: 12.1290\n",
      "Epoch 45/500\n",
      "10/10 [==============================] - 0s 4ms/step - loss: 14.8250 - mae: 3.0250 - mse: 14.8250 - val_loss: 11.9889 - val_mae: 2.6156 - val_mse: 11.9889\n",
      "Epoch 46/500\n",
      "10/10 [==============================] - 0s 4ms/step - loss: 14.5667 - mae: 2.9982 - mse: 14.5667 - val_loss: 11.8581 - val_mae: 2.5976 - val_mse: 11.8581\n",
      "Epoch 47/500\n",
      "10/10 [==============================] - 0s 4ms/step - loss: 14.3772 - mae: 2.9808 - mse: 14.3772 - val_loss: 11.7298 - val_mae: 2.5758 - val_mse: 11.7298\n",
      "Epoch 48/500\n",
      "10/10 [==============================] - 0s 4ms/step - loss: 14.1656 - mae: 2.9615 - mse: 14.1656 - val_loss: 11.5238 - val_mae: 2.5455 - val_mse: 11.5238\n",
      "Epoch 49/500\n",
      "10/10 [==============================] - 0s 4ms/step - loss: 14.0202 - mae: 2.9415 - mse: 14.0202 - val_loss: 11.5247 - val_mae: 2.5431 - val_mse: 11.5247\n",
      "Epoch 50/500\n",
      "10/10 [==============================] - 0s 4ms/step - loss: 13.7833 - mae: 2.9260 - mse: 13.7833 - val_loss: 11.2136 - val_mae: 2.5025 - val_mse: 11.2136\n",
      "Epoch 51/500\n",
      "10/10 [==============================] - 0s 4ms/step - loss: 13.5996 - mae: 2.8997 - mse: 13.5996 - val_loss: 11.2486 - val_mae: 2.5000 - val_mse: 11.2486\n",
      "Epoch 52/500\n",
      "10/10 [==============================] - 0s 4ms/step - loss: 13.4500 - mae: 2.8880 - mse: 13.4500 - val_loss: 11.0188 - val_mae: 2.4729 - val_mse: 11.0188\n",
      "Epoch 53/500\n",
      "10/10 [==============================] - 0s 5ms/step - loss: 13.1797 - mae: 2.8592 - mse: 13.1797 - val_loss: 10.9708 - val_mae: 2.4611 - val_mse: 10.9708\n",
      "Epoch 54/500\n",
      "10/10 [==============================] - 0s 4ms/step - loss: 13.0513 - mae: 2.8351 - mse: 13.0513 - val_loss: 10.8671 - val_mae: 2.4420 - val_mse: 10.8671\n",
      "Epoch 55/500\n",
      "10/10 [==============================] - 0s 4ms/step - loss: 12.8585 - mae: 2.8168 - mse: 12.8585 - val_loss: 10.7259 - val_mae: 2.4216 - val_mse: 10.7259\n",
      "Epoch 56/500\n",
      "10/10 [==============================] - 0s 4ms/step - loss: 12.6958 - mae: 2.8014 - mse: 12.6958 - val_loss: 10.5846 - val_mae: 2.4043 - val_mse: 10.5846\n",
      "Epoch 57/500\n",
      "10/10 [==============================] - 0s 4ms/step - loss: 12.5839 - mae: 2.7851 - mse: 12.5839 - val_loss: 10.5324 - val_mae: 2.3903 - val_mse: 10.5324\n",
      "Epoch 58/500\n",
      "10/10 [==============================] - 0s 4ms/step - loss: 12.3899 - mae: 2.7645 - mse: 12.3899 - val_loss: 10.3269 - val_mae: 2.3701 - val_mse: 10.3269\n",
      "Epoch 59/500\n",
      "10/10 [==============================] - 0s 4ms/step - loss: 12.2250 - mae: 2.7462 - mse: 12.2250 - val_loss: 10.2542 - val_mae: 2.3519 - val_mse: 10.2542\n",
      "Epoch 60/500\n",
      "10/10 [==============================] - 0s 4ms/step - loss: 12.0647 - mae: 2.7230 - mse: 12.0647 - val_loss: 10.1380 - val_mae: 2.3355 - val_mse: 10.1380\n",
      "Epoch 61/500\n",
      "10/10 [==============================] - 0s 4ms/step - loss: 11.9341 - mae: 2.7031 - mse: 11.9341 - val_loss: 10.1023 - val_mae: 2.3181 - val_mse: 10.1023\n",
      "Epoch 62/500\n",
      "10/10 [==============================] - 0s 4ms/step - loss: 11.7664 - mae: 2.6778 - mse: 11.7664 - val_loss: 9.8722 - val_mae: 2.2953 - val_mse: 9.8722\n",
      "Epoch 63/500\n",
      "10/10 [==============================] - 0s 4ms/step - loss: 11.6183 - mae: 2.6631 - mse: 11.6183 - val_loss: 9.7815 - val_mae: 2.2817 - val_mse: 9.7815\n",
      "Epoch 64/500\n",
      "10/10 [==============================] - 0s 4ms/step - loss: 11.4811 - mae: 2.6484 - mse: 11.4811 - val_loss: 9.6610 - val_mae: 2.2609 - val_mse: 9.6610\n",
      "Epoch 65/500\n",
      "10/10 [==============================] - 0s 4ms/step - loss: 11.3667 - mae: 2.6239 - mse: 11.3667 - val_loss: 9.6764 - val_mae: 2.2592 - val_mse: 9.6764\n",
      "Epoch 66/500\n",
      "10/10 [==============================] - 0s 4ms/step - loss: 11.2453 - mae: 2.6170 - mse: 11.2453 - val_loss: 9.4443 - val_mae: 2.2330 - val_mse: 9.4443\n",
      "Epoch 67/500\n",
      "10/10 [==============================] - 0s 4ms/step - loss: 11.2418 - mae: 2.6021 - mse: 11.2418 - val_loss: 9.4839 - val_mae: 2.2283 - val_mse: 9.4839\n",
      "Epoch 68/500\n",
      "10/10 [==============================] - 0s 4ms/step - loss: 10.9431 - mae: 2.5693 - mse: 10.9431 - val_loss: 9.2690 - val_mae: 2.2096 - val_mse: 9.2690\n",
      "Epoch 69/500\n",
      "10/10 [==============================] - 0s 5ms/step - loss: 10.8496 - mae: 2.5589 - mse: 10.8496 - val_loss: 9.2158 - val_mae: 2.1949 - val_mse: 9.2158\n",
      "Epoch 70/500\n",
      "10/10 [==============================] - 0s 4ms/step - loss: 10.7258 - mae: 2.5343 - mse: 10.7258 - val_loss: 9.2286 - val_mae: 2.1868 - val_mse: 9.2286\n",
      "Epoch 71/500\n",
      "10/10 [==============================] - 0s 4ms/step - loss: 10.7373 - mae: 2.5329 - mse: 10.7373 - val_loss: 9.0396 - val_mae: 2.1738 - val_mse: 9.0396\n",
      "Epoch 72/500\n",
      "10/10 [==============================] - 0s 4ms/step - loss: 10.5232 - mae: 2.5023 - mse: 10.5232 - val_loss: 9.0377 - val_mae: 2.1575 - val_mse: 9.0377\n",
      "Epoch 73/500\n",
      "10/10 [==============================] - 0s 4ms/step - loss: 10.4373 - mae: 2.4837 - mse: 10.4373 - val_loss: 8.9575 - val_mae: 2.1442 - val_mse: 8.9575\n",
      "Epoch 74/500\n",
      "10/10 [==============================] - 0s 4ms/step - loss: 10.3049 - mae: 2.4672 - mse: 10.3049 - val_loss: 8.7930 - val_mae: 2.1401 - val_mse: 8.7930\n",
      "Epoch 75/500\n",
      "10/10 [==============================] - 0s 4ms/step - loss: 10.2059 - mae: 2.4564 - mse: 10.2059 - val_loss: 8.7971 - val_mae: 2.1226 - val_mse: 8.7971\n",
      "Epoch 76/500\n",
      "10/10 [==============================] - 0s 4ms/step - loss: 10.0964 - mae: 2.4334 - mse: 10.0964 - val_loss: 8.7019 - val_mae: 2.1127 - val_mse: 8.7019\n",
      "Epoch 77/500\n",
      "10/10 [==============================] - 0s 4ms/step - loss: 10.0494 - mae: 2.4225 - mse: 10.0494 - val_loss: 8.6467 - val_mae: 2.1036 - val_mse: 8.6467\n",
      "Epoch 78/500\n",
      "10/10 [==============================] - 0s 4ms/step - loss: 9.9923 - mae: 2.4196 - mse: 9.9923 - val_loss: 8.5053 - val_mae: 2.0960 - val_mse: 8.5053\n",
      "Epoch 79/500\n",
      "10/10 [==============================] - 0s 4ms/step - loss: 9.8140 - mae: 2.3902 - mse: 9.8140 - val_loss: 8.5354 - val_mae: 2.0799 - val_mse: 8.5354\n",
      "Epoch 80/500\n",
      "10/10 [==============================] - 0s 4ms/step - loss: 9.8052 - mae: 2.3797 - mse: 9.8052 - val_loss: 8.4773 - val_mae: 2.0706 - val_mse: 8.4773\n",
      "Epoch 81/500\n",
      "10/10 [==============================] - 0s 4ms/step - loss: 9.6551 - mae: 2.3572 - mse: 9.6551 - val_loss: 8.3337 - val_mae: 2.0603 - val_mse: 8.3337\n",
      "Epoch 82/500\n",
      "10/10 [==============================] - 0s 4ms/step - loss: 9.6185 - mae: 2.3571 - mse: 9.6185 - val_loss: 8.2549 - val_mae: 2.0584 - val_mse: 8.2549\n",
      "Epoch 83/500\n",
      "10/10 [==============================] - 0s 4ms/step - loss: 9.4876 - mae: 2.3284 - mse: 9.4876 - val_loss: 8.3234 - val_mae: 2.0498 - val_mse: 8.3234\n",
      "Epoch 84/500\n",
      "10/10 [==============================] - 0s 4ms/step - loss: 9.5829 - mae: 2.3350 - mse: 9.5829 - val_loss: 8.2427 - val_mae: 2.0323 - val_mse: 8.2427\n",
      "Epoch 85/500\n",
      "10/10 [==============================] - 0s 4ms/step - loss: 9.5502 - mae: 2.3528 - mse: 9.5502 - val_loss: 8.1071 - val_mae: 2.0541 - val_mse: 8.1071\n",
      "Epoch 86/500\n",
      "10/10 [==============================] - 0s 4ms/step - loss: 9.3044 - mae: 2.2987 - mse: 9.3044 - val_loss: 8.1623 - val_mae: 2.0254 - val_mse: 8.1623\n",
      "Epoch 87/500\n",
      "10/10 [==============================] - 0s 4ms/step - loss: 9.2866 - mae: 2.2827 - mse: 9.2866 - val_loss: 8.0312 - val_mae: 2.0108 - val_mse: 8.0312\n",
      "Epoch 88/500\n",
      "10/10 [==============================] - 0s 4ms/step - loss: 9.1970 - mae: 2.2805 - mse: 9.1970 - val_loss: 7.9201 - val_mae: 2.0051 - val_mse: 7.9201\n",
      "Epoch 89/500\n",
      "10/10 [==============================] - 0s 4ms/step - loss: 9.1149 - mae: 2.2640 - mse: 9.1149 - val_loss: 7.8960 - val_mae: 2.0013 - val_mse: 7.8960\n",
      "Epoch 90/500\n",
      "10/10 [==============================] - 0s 5ms/step - loss: 9.0401 - mae: 2.2511 - mse: 9.0401 - val_loss: 7.8570 - val_mae: 1.9942 - val_mse: 7.8570\n",
      "Epoch 91/500\n",
      "10/10 [==============================] - 0s 4ms/step - loss: 8.9874 - mae: 2.2379 - mse: 8.9874 - val_loss: 7.8131 - val_mae: 1.9926 - val_mse: 7.8131\n",
      "Epoch 92/500\n",
      "10/10 [==============================] - 0s 4ms/step - loss: 8.9362 - mae: 2.2343 - mse: 8.9362 - val_loss: 7.7596 - val_mae: 1.9901 - val_mse: 7.7596\n",
      "Epoch 93/500\n",
      "10/10 [==============================] - 0s 4ms/step - loss: 8.8698 - mae: 2.2225 - mse: 8.8698 - val_loss: 7.7739 - val_mae: 1.9841 - val_mse: 7.7739\n",
      "Epoch 94/500\n",
      "10/10 [==============================] - 0s 4ms/step - loss: 8.8502 - mae: 2.2144 - mse: 8.8502 - val_loss: 7.6976 - val_mae: 1.9735 - val_mse: 7.6976\n",
      "Epoch 95/500\n",
      "10/10 [==============================] - 0s 4ms/step - loss: 8.8591 - mae: 2.2157 - mse: 8.8591 - val_loss: 7.6428 - val_mae: 1.9677 - val_mse: 7.6428\n",
      "Epoch 96/500\n",
      "10/10 [==============================] - 0s 5ms/step - loss: 8.8307 - mae: 2.2023 - mse: 8.8307 - val_loss: 7.6125 - val_mae: 1.9659 - val_mse: 7.6125\n",
      "Epoch 97/500\n",
      "10/10 [==============================] - 0s 4ms/step - loss: 8.7797 - mae: 2.2111 - mse: 8.7797 - val_loss: 7.5500 - val_mae: 1.9794 - val_mse: 7.5500\n",
      "Epoch 98/500\n",
      "10/10 [==============================] - 0s 4ms/step - loss: 8.7591 - mae: 2.2036 - mse: 8.7591 - val_loss: 7.6320 - val_mae: 1.9670 - val_mse: 7.6320\n",
      "Epoch 99/500\n",
      "10/10 [==============================] - 0s 4ms/step - loss: 8.6091 - mae: 2.1753 - mse: 8.6091 - val_loss: 7.4815 - val_mae: 1.9595 - val_mse: 7.4815\n",
      "Epoch 100/500\n",
      "10/10 [==============================] - 0s 4ms/step - loss: 8.5912 - mae: 2.1749 - mse: 8.5912 - val_loss: 7.4648 - val_mae: 1.9579 - val_mse: 7.4648\n",
      "Epoch 101/500\n",
      "10/10 [==============================] - 0s 4ms/step - loss: 8.5478 - mae: 2.1683 - mse: 8.5478 - val_loss: 7.4516 - val_mae: 1.9527 - val_mse: 7.4516\n",
      "Epoch 102/500\n",
      "10/10 [==============================] - 0s 4ms/step - loss: 8.5118 - mae: 2.1564 - mse: 8.5118 - val_loss: 7.4316 - val_mae: 1.9491 - val_mse: 7.4316\n",
      "Epoch 103/500\n",
      "10/10 [==============================] - 0s 4ms/step - loss: 8.4929 - mae: 2.1508 - mse: 8.4929 - val_loss: 7.3637 - val_mae: 1.9467 - val_mse: 7.3637\n",
      "Epoch 104/500\n",
      "10/10 [==============================] - 0s 4ms/step - loss: 8.4953 - mae: 2.1698 - mse: 8.4953 - val_loss: 7.3592 - val_mae: 1.9505 - val_mse: 7.3592\n",
      "Epoch 105/500\n",
      "10/10 [==============================] - 0s 4ms/step - loss: 8.4411 - mae: 2.1426 - mse: 8.4411 - val_loss: 7.4050 - val_mae: 1.9384 - val_mse: 7.4050\n",
      "Epoch 106/500\n",
      "10/10 [==============================] - 0s 4ms/step - loss: 8.4231 - mae: 2.1389 - mse: 8.4231 - val_loss: 7.3132 - val_mae: 1.9391 - val_mse: 7.3132\n",
      "Epoch 107/500\n",
      "10/10 [==============================] - 0s 4ms/step - loss: 8.3316 - mae: 2.1255 - mse: 8.3316 - val_loss: 7.3209 - val_mae: 1.9380 - val_mse: 7.3209\n",
      "Epoch 108/500\n",
      "10/10 [==============================] - 0s 5ms/step - loss: 8.3202 - mae: 2.1163 - mse: 8.3202 - val_loss: 7.2898 - val_mae: 1.9380 - val_mse: 7.2898\n",
      "Epoch 109/500\n",
      "10/10 [==============================] - 0s 4ms/step - loss: 8.2698 - mae: 2.1103 - mse: 8.2698 - val_loss: 7.2770 - val_mae: 1.9361 - val_mse: 7.2770\n",
      "Epoch 110/500\n",
      "10/10 [==============================] - 0s 4ms/step - loss: 8.2540 - mae: 2.1112 - mse: 8.2540 - val_loss: 7.2513 - val_mae: 1.9268 - val_mse: 7.2513\n",
      "Epoch 111/500\n",
      "10/10 [==============================] - 0s 4ms/step - loss: 8.3018 - mae: 2.1200 - mse: 8.3018 - val_loss: 7.2125 - val_mae: 1.9289 - val_mse: 7.2125\n",
      "Epoch 112/500\n",
      "10/10 [==============================] - 0s 4ms/step - loss: 8.2772 - mae: 2.1024 - mse: 8.2772 - val_loss: 7.3279 - val_mae: 1.9309 - val_mse: 7.3279\n",
      "Epoch 113/500\n",
      "10/10 [==============================] - 0s 5ms/step - loss: 8.2908 - mae: 2.1315 - mse: 8.2908 - val_loss: 7.2280 - val_mae: 1.9355 - val_mse: 7.2280\n",
      "Epoch 114/500\n",
      "10/10 [==============================] - 0s 5ms/step - loss: 8.1663 - mae: 2.0935 - mse: 8.1663 - val_loss: 7.2385 - val_mae: 1.9259 - val_mse: 7.2385\n",
      "Epoch 115/500\n",
      "10/10 [==============================] - 0s 4ms/step - loss: 8.1401 - mae: 2.0836 - mse: 8.1401 - val_loss: 7.1397 - val_mae: 1.9139 - val_mse: 7.1397\n",
      "Epoch 116/500\n",
      "10/10 [==============================] - 0s 4ms/step - loss: 8.1117 - mae: 2.0768 - mse: 8.1117 - val_loss: 7.1697 - val_mae: 1.9214 - val_mse: 7.1697\n",
      "Epoch 117/500\n",
      "10/10 [==============================] - 0s 4ms/step - loss: 8.1164 - mae: 2.0849 - mse: 8.1164 - val_loss: 7.1881 - val_mae: 1.9283 - val_mse: 7.1881\n",
      "Epoch 118/500\n",
      "10/10 [==============================] - 0s 4ms/step - loss: 8.0805 - mae: 2.0834 - mse: 8.0805 - val_loss: 7.1371 - val_mae: 1.9178 - val_mse: 7.1371\n",
      "Epoch 119/500\n",
      "10/10 [==============================] - 0s 4ms/step - loss: 8.0387 - mae: 2.0707 - mse: 8.0387 - val_loss: 7.1402 - val_mae: 1.9159 - val_mse: 7.1402\n",
      "Epoch 120/500\n",
      "10/10 [==============================] - 0s 4ms/step - loss: 8.0214 - mae: 2.0674 - mse: 8.0214 - val_loss: 7.1074 - val_mae: 1.9104 - val_mse: 7.1074\n",
      "Epoch 121/500\n",
      "10/10 [==============================] - 0s 4ms/step - loss: 8.0007 - mae: 2.0675 - mse: 8.0007 - val_loss: 7.0946 - val_mae: 1.9103 - val_mse: 7.0946\n",
      "Epoch 122/500\n",
      "10/10 [==============================] - 0s 5ms/step - loss: 7.9969 - mae: 2.0681 - mse: 7.9969 - val_loss: 7.0516 - val_mae: 1.9035 - val_mse: 7.0516\n",
      "Epoch 123/500\n",
      "10/10 [==============================] - 0s 4ms/step - loss: 7.9857 - mae: 2.0622 - mse: 7.9857 - val_loss: 7.0567 - val_mae: 1.9019 - val_mse: 7.0567\n",
      "Epoch 124/500\n",
      "10/10 [==============================] - 0s 4ms/step - loss: 7.9444 - mae: 2.0565 - mse: 7.9444 - val_loss: 7.0338 - val_mae: 1.8966 - val_mse: 7.0338\n",
      "Epoch 125/500\n",
      "10/10 [==============================] - 0s 4ms/step - loss: 7.9739 - mae: 2.0588 - mse: 7.9739 - val_loss: 7.0316 - val_mae: 1.8971 - val_mse: 7.0316\n",
      "Epoch 126/500\n",
      "10/10 [==============================] - 0s 4ms/step - loss: 7.9817 - mae: 2.0713 - mse: 7.9817 - val_loss: 7.0587 - val_mae: 1.9052 - val_mse: 7.0587\n",
      "Epoch 127/500\n",
      "10/10 [==============================] - 0s 4ms/step - loss: 7.9386 - mae: 2.0495 - mse: 7.9386 - val_loss: 7.0514 - val_mae: 1.8988 - val_mse: 7.0514\n",
      "Epoch 128/500\n",
      "10/10 [==============================] - 0s 4ms/step - loss: 7.8758 - mae: 2.0457 - mse: 7.8758 - val_loss: 7.0225 - val_mae: 1.8974 - val_mse: 7.0225\n",
      "Epoch 129/500\n",
      "10/10 [==============================] - 0s 5ms/step - loss: 7.8987 - mae: 2.0538 - mse: 7.8987 - val_loss: 7.0087 - val_mae: 1.8951 - val_mse: 7.0087\n",
      "Epoch 130/500\n",
      "10/10 [==============================] - 0s 4ms/step - loss: 7.8478 - mae: 2.0416 - mse: 7.8478 - val_loss: 7.0098 - val_mae: 1.8933 - val_mse: 7.0098\n",
      "Epoch 131/500\n",
      "10/10 [==============================] - 0s 4ms/step - loss: 7.9112 - mae: 2.0496 - mse: 7.9112 - val_loss: 7.0848 - val_mae: 1.9039 - val_mse: 7.0848\n",
      "Epoch 132/500\n",
      "10/10 [==============================] - 0s 4ms/step - loss: 7.8584 - mae: 2.0467 - mse: 7.8584 - val_loss: 7.0194 - val_mae: 1.8972 - val_mse: 7.0194\n",
      "Epoch 133/500\n",
      "10/10 [==============================] - 0s 4ms/step - loss: 7.8265 - mae: 2.0441 - mse: 7.8265 - val_loss: 7.0103 - val_mae: 1.8942 - val_mse: 7.0103\n",
      "Epoch 134/500\n",
      "10/10 [==============================] - 0s 4ms/step - loss: 7.8399 - mae: 2.0467 - mse: 7.8399 - val_loss: 6.9827 - val_mae: 1.8882 - val_mse: 6.9827\n",
      "Epoch 135/500\n",
      "10/10 [==============================] - 0s 4ms/step - loss: 7.8151 - mae: 2.0382 - mse: 7.8151 - val_loss: 7.0558 - val_mae: 1.8960 - val_mse: 7.0558\n",
      "Epoch 136/500\n",
      "10/10 [==============================] - 0s 5ms/step - loss: 7.9327 - mae: 2.0582 - mse: 7.9327 - val_loss: 7.0188 - val_mae: 1.9009 - val_mse: 7.0188\n",
      "Epoch 137/500\n",
      "10/10 [==============================] - 0s 4ms/step - loss: 7.8936 - mae: 2.0576 - mse: 7.8936 - val_loss: 7.0035 - val_mae: 1.8925 - val_mse: 7.0035\n",
      "Epoch 138/500\n",
      "10/10 [==============================] - 0s 4ms/step - loss: 7.9378 - mae: 2.0592 - mse: 7.9378 - val_loss: 6.9991 - val_mae: 1.8967 - val_mse: 6.9991\n",
      "Epoch 139/500\n",
      "10/10 [==============================] - 0s 4ms/step - loss: 7.8202 - mae: 2.0361 - mse: 7.8202 - val_loss: 7.0453 - val_mae: 1.8944 - val_mse: 7.0453\n",
      "Epoch 140/500\n",
      "10/10 [==============================] - 0s 4ms/step - loss: 7.7919 - mae: 2.0374 - mse: 7.7919 - val_loss: 7.0062 - val_mae: 1.8927 - val_mse: 7.0062\n",
      "Epoch 141/500\n",
      "10/10 [==============================] - 0s 4ms/step - loss: 7.7348 - mae: 2.0264 - mse: 7.7348 - val_loss: 6.9976 - val_mae: 1.8921 - val_mse: 6.9976\n",
      "Epoch 142/500\n",
      "10/10 [==============================] - 0s 4ms/step - loss: 7.7621 - mae: 2.0315 - mse: 7.7621 - val_loss: 6.9789 - val_mae: 1.8888 - val_mse: 6.9789\n",
      "Epoch 143/500\n",
      "10/10 [==============================] - 0s 4ms/step - loss: 7.7106 - mae: 2.0234 - mse: 7.7106 - val_loss: 6.9915 - val_mae: 1.8896 - val_mse: 6.9915\n",
      "Epoch 144/500\n",
      "10/10 [==============================] - 0s 4ms/step - loss: 7.8162 - mae: 2.0374 - mse: 7.8162 - val_loss: 7.0039 - val_mae: 1.8842 - val_mse: 7.0039\n",
      "Epoch 145/500\n",
      "10/10 [==============================] - 0s 4ms/step - loss: 7.6917 - mae: 2.0263 - mse: 7.6917 - val_loss: 6.9600 - val_mae: 1.8870 - val_mse: 6.9600\n",
      "Epoch 146/500\n",
      "10/10 [==============================] - 0s 4ms/step - loss: 7.7950 - mae: 2.0420 - mse: 7.7950 - val_loss: 6.9730 - val_mae: 1.8853 - val_mse: 6.9730\n",
      "Epoch 147/500\n",
      "10/10 [==============================] - 0s 4ms/step - loss: 7.6979 - mae: 2.0183 - mse: 7.6979 - val_loss: 6.9309 - val_mae: 1.8801 - val_mse: 6.9309\n",
      "Epoch 148/500\n",
      "10/10 [==============================] - 0s 4ms/step - loss: 7.6626 - mae: 2.0151 - mse: 7.6626 - val_loss: 6.9520 - val_mae: 1.8881 - val_mse: 6.9520\n",
      "Epoch 149/500\n",
      "10/10 [==============================] - 0s 4ms/step - loss: 7.6865 - mae: 2.0176 - mse: 7.6865 - val_loss: 6.9130 - val_mae: 1.8747 - val_mse: 6.9130\n",
      "Epoch 150/500\n",
      "10/10 [==============================] - 0s 4ms/step - loss: 7.7046 - mae: 2.0209 - mse: 7.7046 - val_loss: 6.9462 - val_mae: 1.8829 - val_mse: 6.9462\n",
      "Epoch 151/500\n",
      "10/10 [==============================] - 0s 4ms/step - loss: 7.6559 - mae: 2.0145 - mse: 7.6559 - val_loss: 6.9701 - val_mae: 1.8849 - val_mse: 6.9701\n",
      "Epoch 152/500\n",
      "10/10 [==============================] - 0s 4ms/step - loss: 7.6607 - mae: 2.0193 - mse: 7.6607 - val_loss: 6.9448 - val_mae: 1.8876 - val_mse: 6.9448\n",
      "Epoch 153/500\n",
      "10/10 [==============================] - 0s 4ms/step - loss: 7.6225 - mae: 2.0037 - mse: 7.6225 - val_loss: 6.9238 - val_mae: 1.8779 - val_mse: 6.9238\n",
      "Epoch 154/500\n",
      "10/10 [==============================] - 0s 4ms/step - loss: 7.6548 - mae: 2.0138 - mse: 7.6548 - val_loss: 6.9338 - val_mae: 1.8802 - val_mse: 6.9338\n",
      "Epoch 155/500\n",
      "10/10 [==============================] - 0s 4ms/step - loss: 7.6496 - mae: 2.0121 - mse: 7.6496 - val_loss: 6.9156 - val_mae: 1.8770 - val_mse: 6.9156\n",
      "Epoch 156/500\n",
      "10/10 [==============================] - 0s 4ms/step - loss: 7.6931 - mae: 2.0144 - mse: 7.6931 - val_loss: 6.8908 - val_mae: 1.8708 - val_mse: 6.8908\n",
      "Epoch 157/500\n",
      "10/10 [==============================] - 0s 4ms/step - loss: 7.6154 - mae: 2.0079 - mse: 7.6154 - val_loss: 6.9261 - val_mae: 1.8761 - val_mse: 6.9261\n",
      "Epoch 158/500\n",
      "10/10 [==============================] - 0s 4ms/step - loss: 7.6215 - mae: 2.0077 - mse: 7.6215 - val_loss: 6.9502 - val_mae: 1.8822 - val_mse: 6.9502\n",
      "Epoch 159/500\n",
      "10/10 [==============================] - 0s 4ms/step - loss: 7.5997 - mae: 2.0094 - mse: 7.5997 - val_loss: 6.9385 - val_mae: 1.8856 - val_mse: 6.9385\n",
      "Epoch 160/500\n",
      "10/10 [==============================] - 0s 5ms/step - loss: 7.7304 - mae: 2.0297 - mse: 7.7304 - val_loss: 6.8894 - val_mae: 1.8742 - val_mse: 6.8894\n",
      "Epoch 161/500\n",
      "10/10 [==============================] - 0s 4ms/step - loss: 7.5944 - mae: 2.0058 - mse: 7.5944 - val_loss: 6.8873 - val_mae: 1.8765 - val_mse: 6.8873\n",
      "Epoch 162/500\n",
      "10/10 [==============================] - 0s 4ms/step - loss: 7.5773 - mae: 2.0015 - mse: 7.5773 - val_loss: 6.9067 - val_mae: 1.8741 - val_mse: 6.9067\n",
      "Epoch 163/500\n",
      "10/10 [==============================] - 0s 4ms/step - loss: 7.5914 - mae: 2.0062 - mse: 7.5914 - val_loss: 6.8880 - val_mae: 1.8697 - val_mse: 6.8880\n",
      "Epoch 164/500\n",
      "10/10 [==============================] - 0s 4ms/step - loss: 7.5716 - mae: 1.9988 - mse: 7.5716 - val_loss: 6.9216 - val_mae: 1.8742 - val_mse: 6.9216\n",
      "Epoch 165/500\n",
      "10/10 [==============================] - 0s 4ms/step - loss: 7.5818 - mae: 2.0022 - mse: 7.5818 - val_loss: 6.8681 - val_mae: 1.8666 - val_mse: 6.8681\n",
      "Epoch 166/500\n",
      "10/10 [==============================] - 0s 5ms/step - loss: 7.5435 - mae: 1.9978 - mse: 7.5435 - val_loss: 6.8854 - val_mae: 1.8727 - val_mse: 6.8854\n",
      "Epoch 167/500\n",
      "10/10 [==============================] - 0s 4ms/step - loss: 7.5871 - mae: 2.0067 - mse: 7.5871 - val_loss: 6.8328 - val_mae: 1.8611 - val_mse: 6.8328\n",
      "Epoch 168/500\n",
      "10/10 [==============================] - 0s 4ms/step - loss: 7.5500 - mae: 1.9985 - mse: 7.5500 - val_loss: 6.8893 - val_mae: 1.8695 - val_mse: 6.8893\n",
      "Epoch 169/500\n",
      "10/10 [==============================] - 0s 4ms/step - loss: 7.5583 - mae: 1.9916 - mse: 7.5583 - val_loss: 6.8875 - val_mae: 1.8719 - val_mse: 6.8875\n",
      "Epoch 170/500\n",
      "10/10 [==============================] - 0s 5ms/step - loss: 7.5561 - mae: 2.0015 - mse: 7.5561 - val_loss: 6.8757 - val_mae: 1.8725 - val_mse: 6.8757\n",
      "Epoch 171/500\n",
      "10/10 [==============================] - 0s 4ms/step - loss: 7.5656 - mae: 2.0031 - mse: 7.5656 - val_loss: 6.8844 - val_mae: 1.8721 - val_mse: 6.8844\n",
      "Epoch 172/500\n",
      "10/10 [==============================] - 0s 4ms/step - loss: 7.5341 - mae: 2.0011 - mse: 7.5341 - val_loss: 6.8955 - val_mae: 1.8790 - val_mse: 6.8955\n",
      "Epoch 173/500\n",
      "10/10 [==============================] - 0s 4ms/step - loss: 7.5460 - mae: 2.0087 - mse: 7.5460 - val_loss: 6.8544 - val_mae: 1.8642 - val_mse: 6.8544\n",
      "Epoch 174/500\n",
      "10/10 [==============================] - 0s 4ms/step - loss: 7.5236 - mae: 2.0031 - mse: 7.5236 - val_loss: 6.8862 - val_mae: 1.8696 - val_mse: 6.8862\n",
      "Epoch 175/500\n",
      "10/10 [==============================] - 0s 4ms/step - loss: 7.6496 - mae: 2.0281 - mse: 7.6496 - val_loss: 6.8515 - val_mae: 1.8729 - val_mse: 6.8515\n",
      "Epoch 176/500\n",
      "10/10 [==============================] - 0s 4ms/step - loss: 7.6860 - mae: 2.0411 - mse: 7.6860 - val_loss: 6.8668 - val_mae: 1.8666 - val_mse: 6.8668\n",
      "Epoch 177/500\n",
      "10/10 [==============================] - 0s 4ms/step - loss: 7.4361 - mae: 1.9779 - mse: 7.4361 - val_loss: 6.9596 - val_mae: 1.8991 - val_mse: 6.9596\n"
     ]
    }
   ],
   "source": [
    "EPOCHS = 500\n",
    "\n",
    "# patience 매개변수는 성능 향상을 체크할 에포크 횟수입니다\n",
    "early_stop = tf.keras.callbacks.EarlyStopping(monitor='val_loss', patience=10)\n",
    "\n",
    "history = model.fit(X_train, y_train, epochs=EPOCHS,\n",
    "                     validation_data=(X_test, y_test), callbacks=[early_stop])"
   ]
  },
  {
   "cell_type": "markdown",
   "metadata": {
    "id": "tQm3pc0FYPQB"
   },
   "source": [
    "`history` 객체에 저장된 통계치를 사용해 모델의 훈련 과정을 시각화"
   ]
  },
  {
   "cell_type": "code",
   "execution_count": 35,
   "metadata": {
    "colab": {
     "base_uri": "https://localhost:8080/",
     "height": 279
    },
    "id": "B6XriGbVPh2t",
    "outputId": "3eee2266-9ae9-4f8d-960e-04ef894443f0"
   },
   "outputs": [
    {
     "data": {
      "image/png": "[encoded data removed]",
      "text/plain": [
       "<Figure size 600x400 with 1 Axes>"
      ]
     },
     "metadata": {},
     "output_type": "display_data"
    }
   ],
   "source": [
    "plt.figure(figsize=(6, 4))\n",
    "\n",
    "plt.plot(history.history['mse'], label='Train Error')\n",
    "plt.plot(history.history['val_mse'], label = 'Val Error')\n",
    "plt.legend()\n",
    "plt.xlabel('Epoch')\n",
    "plt.ylabel('Mean Square Error [$MPG^2$]')\n",
    "plt.show()"
   ]
  },
  {
   "cell_type": "code",
   "execution_count": 38,
   "metadata": {
    "colab": {
     "base_uri": "https://localhost:8080/"
    },
    "id": "jl_yNr5n1kms",
    "outputId": "d690c40b-2b42-4983-aebc-b83ac8e27c4f"
   },
   "outputs": [
    {
     "name": "stdout",
     "output_type": "stream",
     "text": [
      "테스트 세트의 평균 절대 오차:  1.90 MPG\n"
     ]
    }
   ],
   "source": [
    "loss, mae, mse = model.evaluate(X_test, y_test, verbose=0)\n",
    "\n",
    "print(\"테스트 세트의 평균 절대 오차: {:5.2f} MPG\".format(mae))"
   ]
  },
  {
   "cell_type": "markdown",
   "metadata": {
    "id": "ft603OzXuEZC"
   },
   "source": [
    "## 예측 시각화\n",
    "\n",
    "마지막으로 예측값과 실제값의 차이를 시각화 해 보겠습니다."
   ]
  },
  {
   "cell_type": "code",
   "execution_count": 41,
   "metadata": {
    "colab": {
     "base_uri": "https://localhost:8080/",
     "height": 298
    },
    "id": "Xe7RXH3N3CWU",
    "outputId": "8a3a4329-195e-4709-84e8-b7b61be36c2e"
   },
   "outputs": [
    {
     "name": "stdout",
     "output_type": "stream",
     "text": [
      "3/3 [==============================] - 0s 2ms/step\n"
     ]
    },
    {
     "data": {
      "image/png": "[encoded data removed]",
      "text/plain": [
       "<Figure size 640x480 with 1 Axes>"
      ]
     },
     "metadata": {},
     "output_type": "display_data"
    }
   ],
   "source": [
    "y_pred = model.predict(X_test)\n",
    "\n",
    "plt.scatter(y_test, y_pred)\n",
    "plt.plot(y_test, y_test, c='r')\n",
    "plt.xlabel('True Values [MPG]')\n",
    "plt.ylabel('Predictions [MPG]')\n",
    "plt.axis('equal')\n",
    "plt.axis('square')\n",
    "plt.show()"
   ]
  },
  {
   "cell_type": "code",
   "execution_count": null,
   "metadata": {
    "id": "_fQ3Ne9tsTCD"
   },
   "outputs": [],
   "source": []
  }
 ],
 "metadata": {
  "accelerator": "GPU",
  "colab": {
   "collapsed_sections": [],
   "name": "101_car_mpg_regression.ipynb",
   "provenance": []
  },
  "gpuClass": "standard",
  "kernelspec": {
   "display_name": "Python 3 (ipykernel)",
   "language": "python",
   "name": "python3"
  },
  "language_info": {
   "codemirror_mode": {
    "name": "ipython",
    "version": 3
   },
   "file_extension": ".py",
   "mimetype": "text/x-python",
   "name": "python",
   "nbconvert_exporter": "python",
   "pygments_lexer": "ipython3",
   "version": "3.9.16"
  }
 },
 "nbformat": 4,
 "nbformat_minor": 4
}
