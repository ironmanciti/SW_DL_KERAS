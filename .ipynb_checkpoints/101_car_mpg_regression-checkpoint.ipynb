{
 "cells": [
  {
   "cell_type": "markdown",
   "metadata": {
    "id": "EIdT9iu_Z4Rb"
   },
   "source": [
    "# 자동차 연비 예측하기: 회귀\n",
    "\n",
    "### Colab 에서 작성"
   ]
  },
  {
   "cell_type": "markdown",
   "metadata": {
    "id": "AHp3M9ZmrIxj"
   },
   "source": [
    "*회귀*(regression)는 가격이나 확률 같이 연속된 출력 값을 예측하는 것입니다. \n",
    "\n",
    "이 노트북은 [Auto MPG](https://archive.ics.uci.edu/ml/datasets/auto+mpg) 데이터셋을 사용하여 1970년대 후반과 1980년대 초반에 생산된 자동차 연비를 예측하는 모델을 만듭니다. 이 기간에 출시된 자동차 정보를 모델에 제공합니다. 이 정보에는 실린더 수, 배기량, 마력(horsepower), 공차 중량 같은 속성이 포함됩니다."
   ]
  },
  {
   "cell_type": "code",
   "execution_count": 1,
   "metadata": {
    "id": "1rRo8oNqZ-Rj"
   },
   "outputs": [],
   "source": [
    "import matplotlib.pyplot as plt\n",
    "import pandas as pd\n",
    "import numpy as np\n",
    "import seaborn as sns\n",
    "from sklearn.model_selection import train_test_split\n",
    "from sklearn.preprocessing import StandardScaler\n",
    "\n",
    "import tensorflow as tf\n",
    "from tensorflow.keras.layers import Dense"
   ]
  },
  {
   "cell_type": "markdown",
   "metadata": {
    "id": "F_72b0LCNbjx"
   },
   "source": [
    "## Auto MPG 데이터셋\n",
    "\n",
    "- 이 데이터셋은 [UCI 머신 러닝 저장소](https://archive.ics.uci.edu/ml/)에서 다운로드할 수 있습니다.  \n",
    "\n",
    "\n",
    "- Attribute Information:  \n",
    "    1. mpg: 연비, 연속형 변수  \n",
    "    2. cylinders: 이산형  \n",
    "    3. displacement: 연속형  \n",
    "    4. horsepower: 연속형  \n",
    "    5. weight: 연속형  \n",
    "    6. acceleration: 연속형  \n",
    "    7. model year: 이산형  \n",
    "    8. origin: 이산형 (1: USA, 2: Europe, 3: Japan)"
   ]
  },
  {
   "cell_type": "markdown",
   "metadata": {
    "id": "gFh9ne3FZ-On"
   },
   "source": [
    "### 데이터 download"
   ]
  },
  {
   "cell_type": "code",
   "execution_count": 2,
   "metadata": {
    "colab": {
     "base_uri": "https://localhost:8080/",
     "height": 93
    },
    "id": "p9kxxgzvzlyz",
    "outputId": "7321dacb-7970-4686-8e32-a4e767ac0088"
   },
   "outputs": [
    {
     "name": "stdout",
     "output_type": "stream",
     "text": [
      "Downloading data from http://archive.ics.uci.edu/ml/machine-learning-databases/auto-mpg/auto-mpg.data\n"
     ]
    },
    {
     "ename": "FileNotFoundError",
     "evalue": "[Errno 2] No such file or directory: 'C:/content/auto-mpg.data'",
     "output_type": "error",
     "traceback": [
      "\u001b[1;31m---------------------------------------------------------------------------\u001b[0m",
      "\u001b[1;31mFileNotFoundError\u001b[0m                         Traceback (most recent call last)",
      "Input \u001b[1;32mIn [2]\u001b[0m, in \u001b[0;36m<cell line: 1>\u001b[1;34m()\u001b[0m\n\u001b[1;32m----> 1\u001b[0m dataset_path \u001b[38;5;241m=\u001b[39m \u001b[43mtf\u001b[49m\u001b[38;5;241;43m.\u001b[39;49m\u001b[43mkeras\u001b[49m\u001b[38;5;241;43m.\u001b[39;49m\u001b[43mutils\u001b[49m\u001b[38;5;241;43m.\u001b[39;49m\u001b[43mget_file\u001b[49m\u001b[43m(\u001b[49m\u001b[38;5;124;43m\"\u001b[39;49m\u001b[38;5;124;43m/content/auto-mpg.data\u001b[39;49m\u001b[38;5;124;43m\"\u001b[39;49m\u001b[43m,\u001b[49m\u001b[43m \u001b[49m\u001b[38;5;124;43m\"\u001b[39;49m\u001b[38;5;124;43mhttp://archive.ics.uci.edu/ml/machine-learning-databases/auto-mpg/auto-mpg.data\u001b[39;49m\u001b[38;5;124;43m\"\u001b[39;49m\u001b[43m)\u001b[49m\n\u001b[0;32m      2\u001b[0m dataset_path\n",
      "File \u001b[1;32m~\\anaconda3\\envs\\tf20\\lib\\site-packages\\keras\\utils\\data_utils.py:283\u001b[0m, in \u001b[0;36mget_file\u001b[1;34m(fname, origin, untar, md5_hash, file_hash, cache_subdir, hash_algorithm, extract, archive_format, cache_dir)\u001b[0m\n\u001b[0;32m    281\u001b[0m \u001b[38;5;28;01mtry\u001b[39;00m:\n\u001b[0;32m    282\u001b[0m   \u001b[38;5;28;01mtry\u001b[39;00m:\n\u001b[1;32m--> 283\u001b[0m     \u001b[43murlretrieve\u001b[49m\u001b[43m(\u001b[49m\u001b[43morigin\u001b[49m\u001b[43m,\u001b[49m\u001b[43m \u001b[49m\u001b[43mfpath\u001b[49m\u001b[43m,\u001b[49m\u001b[43m \u001b[49m\u001b[43mDLProgbar\u001b[49m\u001b[43m(\u001b[49m\u001b[43m)\u001b[49m\u001b[43m)\u001b[49m\n\u001b[0;32m    284\u001b[0m   \u001b[38;5;28;01mexcept\u001b[39;00m urllib\u001b[38;5;241m.\u001b[39merror\u001b[38;5;241m.\u001b[39mHTTPError \u001b[38;5;28;01mas\u001b[39;00m e:\n\u001b[0;32m    285\u001b[0m     \u001b[38;5;28;01mraise\u001b[39;00m \u001b[38;5;167;01mException\u001b[39;00m(error_msg\u001b[38;5;241m.\u001b[39mformat(origin, e\u001b[38;5;241m.\u001b[39mcode, e\u001b[38;5;241m.\u001b[39mmsg))\n",
      "File \u001b[1;32m~\\anaconda3\\envs\\tf20\\lib\\site-packages\\keras\\utils\\data_utils.py:83\u001b[0m, in \u001b[0;36murlretrieve\u001b[1;34m(url, filename, reporthook, data)\u001b[0m\n\u001b[0;32m     80\u001b[0m       \u001b[38;5;28;01mbreak\u001b[39;00m\n\u001b[0;32m     82\u001b[0m response \u001b[38;5;241m=\u001b[39m urlopen(url, data)\n\u001b[1;32m---> 83\u001b[0m \u001b[38;5;28;01mwith\u001b[39;00m \u001b[38;5;28;43mopen\u001b[39;49m\u001b[43m(\u001b[49m\u001b[43mfilename\u001b[49m\u001b[43m,\u001b[49m\u001b[43m \u001b[49m\u001b[38;5;124;43m'\u001b[39;49m\u001b[38;5;124;43mwb\u001b[39;49m\u001b[38;5;124;43m'\u001b[39;49m\u001b[43m)\u001b[49m \u001b[38;5;28;01mas\u001b[39;00m fd:\n\u001b[0;32m     84\u001b[0m   \u001b[38;5;28;01mfor\u001b[39;00m chunk \u001b[38;5;129;01min\u001b[39;00m chunk_read(response, reporthook\u001b[38;5;241m=\u001b[39mreporthook):\n\u001b[0;32m     85\u001b[0m     fd\u001b[38;5;241m.\u001b[39mwrite(chunk)\n",
      "\u001b[1;31mFileNotFoundError\u001b[0m: [Errno 2] No such file or directory: 'C:/content/auto-mpg.data'"
     ]
    }
   ],
   "source": [
    "dataset_path = tf.keras.utils.get_file(\"/content/auto-mpg.data\", \"http://archive.ics.uci.edu/ml/machine-learning-databases/auto-mpg/auto-mpg.data\")\n",
    "dataset_path"
   ]
  },
  {
   "cell_type": "markdown",
   "metadata": {
    "id": "nslsRLh7Zss4"
   },
   "source": [
    "data를 읽어 DataFrame으로 만듭니다."
   ]
  },
  {
   "cell_type": "code",
   "execution_count": 3,
   "metadata": {
    "colab": {
     "base_uri": "https://localhost:8080/",
     "height": 206
    },
    "id": "CiX2FI4gZtTt",
    "outputId": "c014bbd4-6980-4315-a658-2661ea697521"
   },
   "outputs": [
    {
     "data": {
      "text/html": [
       "\n",
       "  <div id=\"df-d7b4c12c-b868-453d-9a66-64031def0433\">\n",
       "    <div class=\"colab-df-container\">\n",
       "      <div>\n",
       "<style scoped>\n",
       "    .dataframe tbody tr th:only-of-type {\n",
       "        vertical-align: middle;\n",
       "    }\n",
       "\n",
       "    .dataframe tbody tr th {\n",
       "        vertical-align: top;\n",
       "    }\n",
       "\n",
       "    .dataframe thead th {\n",
       "        text-align: right;\n",
       "    }\n",
       "</style>\n",
       "<table border=\"1\" class=\"dataframe\">\n",
       "  <thead>\n",
       "    <tr style=\"text-align: right;\">\n",
       "      <th></th>\n",
       "      <th>MPG</th>\n",
       "      <th>Cylinders</th>\n",
       "      <th>Displacement</th>\n",
       "      <th>Horsepower</th>\n",
       "      <th>Weight</th>\n",
       "      <th>Acceleration</th>\n",
       "      <th>Model Year</th>\n",
       "      <th>Origin</th>\n",
       "    </tr>\n",
       "  </thead>\n",
       "  <tbody>\n",
       "    <tr>\n",
       "      <th>393</th>\n",
       "      <td>27.0</td>\n",
       "      <td>4</td>\n",
       "      <td>140.0</td>\n",
       "      <td>86.0</td>\n",
       "      <td>2790.0</td>\n",
       "      <td>15.6</td>\n",
       "      <td>82</td>\n",
       "      <td>1</td>\n",
       "    </tr>\n",
       "    <tr>\n",
       "      <th>394</th>\n",
       "      <td>44.0</td>\n",
       "      <td>4</td>\n",
       "      <td>97.0</td>\n",
       "      <td>52.0</td>\n",
       "      <td>2130.0</td>\n",
       "      <td>24.6</td>\n",
       "      <td>82</td>\n",
       "      <td>2</td>\n",
       "    </tr>\n",
       "    <tr>\n",
       "      <th>395</th>\n",
       "      <td>32.0</td>\n",
       "      <td>4</td>\n",
       "      <td>135.0</td>\n",
       "      <td>84.0</td>\n",
       "      <td>2295.0</td>\n",
       "      <td>11.6</td>\n",
       "      <td>82</td>\n",
       "      <td>1</td>\n",
       "    </tr>\n",
       "    <tr>\n",
       "      <th>396</th>\n",
       "      <td>28.0</td>\n",
       "      <td>4</td>\n",
       "      <td>120.0</td>\n",
       "      <td>79.0</td>\n",
       "      <td>2625.0</td>\n",
       "      <td>18.6</td>\n",
       "      <td>82</td>\n",
       "      <td>1</td>\n",
       "    </tr>\n",
       "    <tr>\n",
       "      <th>397</th>\n",
       "      <td>31.0</td>\n",
       "      <td>4</td>\n",
       "      <td>119.0</td>\n",
       "      <td>82.0</td>\n",
       "      <td>2720.0</td>\n",
       "      <td>19.4</td>\n",
       "      <td>82</td>\n",
       "      <td>1</td>\n",
       "    </tr>\n",
       "  </tbody>\n",
       "</table>\n",
       "</div>\n",
       "      <button class=\"colab-df-convert\" onclick=\"convertToInteractive('df-d7b4c12c-b868-453d-9a66-64031def0433')\"\n",
       "              title=\"Convert this dataframe to an interactive table.\"\n",
       "              style=\"display:none;\">\n",
       "        \n",
       "  <svg xmlns=\"http://www.w3.org/2000/svg\" height=\"24px\"viewBox=\"0 0 24 24\"\n",
       "       width=\"24px\">\n",
       "    <path d=\"M0 0h24v24H0V0z\" fill=\"none\"/>\n",
       "    <path d=\"M18.56 5.44l.94 2.06.94-2.06 2.06-.94-2.06-.94-.94-2.06-.94 2.06-2.06.94zm-11 1L8.5 8.5l.94-2.06 2.06-.94-2.06-.94L8.5 2.5l-.94 2.06-2.06.94zm10 10l.94 2.06.94-2.06 2.06-.94-2.06-.94-.94-2.06-.94 2.06-2.06.94z\"/><path d=\"M17.41 7.96l-1.37-1.37c-.4-.4-.92-.59-1.43-.59-.52 0-1.04.2-1.43.59L10.3 9.45l-7.72 7.72c-.78.78-.78 2.05 0 2.83L4 21.41c.39.39.9.59 1.41.59.51 0 1.02-.2 1.41-.59l7.78-7.78 2.81-2.81c.8-.78.8-2.07 0-2.86zM5.41 20L4 18.59l7.72-7.72 1.47 1.35L5.41 20z\"/>\n",
       "  </svg>\n",
       "      </button>\n",
       "      \n",
       "  <style>\n",
       "    .colab-df-container {\n",
       "      display:flex;\n",
       "      flex-wrap:wrap;\n",
       "      gap: 12px;\n",
       "    }\n",
       "\n",
       "    .colab-df-convert {\n",
       "      background-color: #E8F0FE;\n",
       "      border: none;\n",
       "      border-radius: 50%;\n",
       "      cursor: pointer;\n",
       "      display: none;\n",
       "      fill: #1967D2;\n",
       "      height: 32px;\n",
       "      padding: 0 0 0 0;\n",
       "      width: 32px;\n",
       "    }\n",
       "\n",
       "    .colab-df-convert:hover {\n",
       "      background-color: #E2EBFA;\n",
       "      box-shadow: 0px 1px 2px rgba(60, 64, 67, 0.3), 0px 1px 3px 1px rgba(60, 64, 67, 0.15);\n",
       "      fill: #174EA6;\n",
       "    }\n",
       "\n",
       "    [theme=dark] .colab-df-convert {\n",
       "      background-color: #3B4455;\n",
       "      fill: #D2E3FC;\n",
       "    }\n",
       "\n",
       "    [theme=dark] .colab-df-convert:hover {\n",
       "      background-color: #434B5C;\n",
       "      box-shadow: 0px 1px 3px 1px rgba(0, 0, 0, 0.15);\n",
       "      filter: drop-shadow(0px 1px 2px rgba(0, 0, 0, 0.3));\n",
       "      fill: #FFFFFF;\n",
       "    }\n",
       "  </style>\n",
       "\n",
       "      <script>\n",
       "        const buttonEl =\n",
       "          document.querySelector('#df-d7b4c12c-b868-453d-9a66-64031def0433 button.colab-df-convert');\n",
       "        buttonEl.style.display =\n",
       "          google.colab.kernel.accessAllowed ? 'block' : 'none';\n",
       "\n",
       "        async function convertToInteractive(key) {\n",
       "          const element = document.querySelector('#df-d7b4c12c-b868-453d-9a66-64031def0433');\n",
       "          const dataTable =\n",
       "            await google.colab.kernel.invokeFunction('convertToInteractive',\n",
       "                                                     [key], {});\n",
       "          if (!dataTable) return;\n",
       "\n",
       "          const docLinkHtml = 'Like what you see? Visit the ' +\n",
       "            '<a target=\"_blank\" href=https://colab.research.google.com/notebooks/data_table.ipynb>data table notebook</a>'\n",
       "            + ' to learn more about interactive tables.';\n",
       "          element.innerHTML = '';\n",
       "          dataTable['output_type'] = 'display_data';\n",
       "          await google.colab.output.renderOutput(dataTable, element);\n",
       "          const docLink = document.createElement('div');\n",
       "          docLink.innerHTML = docLinkHtml;\n",
       "          element.appendChild(docLink);\n",
       "        }\n",
       "      </script>\n",
       "    </div>\n",
       "  </div>\n",
       "  "
      ],
      "text/plain": [
       "      MPG  Cylinders  Displacement  Horsepower  Weight  Acceleration  \\\n",
       "393  27.0          4         140.0        86.0  2790.0          15.6   \n",
       "394  44.0          4          97.0        52.0  2130.0          24.6   \n",
       "395  32.0          4         135.0        84.0  2295.0          11.6   \n",
       "396  28.0          4         120.0        79.0  2625.0          18.6   \n",
       "397  31.0          4         119.0        82.0  2720.0          19.4   \n",
       "\n",
       "     Model Year  Origin  \n",
       "393          82       1  \n",
       "394          82       2  \n",
       "395          82       1  \n",
       "396          82       1  \n",
       "397          82       1  "
      ]
     },
     "execution_count": 3,
     "metadata": {},
     "output_type": "execute_result"
    }
   ],
   "source": [
    "column_names = ['MPG', 'Cylinders', 'Displacement', 'Horsepower', 'Weight',\n",
    "                             'Acceleration', 'Model Year', 'Origin']\n",
    "raw_dataset = pd.read_csv(dataset_path, names=column_names,\n",
    "                         na_values = \"?\", comment='\\t',\n",
    "                        sep=\" \", skipinitialspace=True)\n",
    "\n",
    "dataset = raw_dataset.copy()\n",
    "dataset.tail()"
   ]
  },
  {
   "cell_type": "markdown",
   "metadata": {
    "id": "3MWuJTKEDM-f"
   },
   "source": [
    "### 데이터 정제\n",
    "\n",
    "이 데이터셋은 일부 데이터가 누락되어 있습니다."
   ]
  },
  {
   "cell_type": "code",
   "execution_count": 4,
   "metadata": {
    "colab": {
     "base_uri": "https://localhost:8080/"
    },
    "id": "JEJHhN65a2VV",
    "outputId": "1ea42c91-f470-4af4-c701-11e3e3815736"
   },
   "outputs": [
    {
     "data": {
      "text/plain": [
       "MPG             0\n",
       "Cylinders       0\n",
       "Displacement    0\n",
       "Horsepower      6\n",
       "Weight          0\n",
       "Acceleration    0\n",
       "Model Year      0\n",
       "Origin          0\n",
       "dtype: int64"
      ]
     },
     "execution_count": 4,
     "metadata": {},
     "output_type": "execute_result"
    }
   ],
   "source": [
    "dataset.isna().sum()"
   ]
  },
  {
   "cell_type": "markdown",
   "metadata": {
    "id": "9UPN0KBHa_WI"
   },
   "source": [
    "문제를 간단하게 만들기 위해서 누락된 행을 삭제합니다."
   ]
  },
  {
   "cell_type": "code",
   "execution_count": 5,
   "metadata": {
    "id": "4ZUDosChC1UN"
   },
   "outputs": [],
   "source": [
    "dataset = dataset.dropna()"
   ]
  },
  {
   "cell_type": "markdown",
   "metadata": {
    "id": "8XKitwaH4v8h"
   },
   "source": [
    "`\"Origin\"` 열은 수치형이 아니고 범주형이므로 원-핫 인코딩(one-hot encoding)으로 변환하겠습니다:  \n",
    "1 - `USA`  \n",
    "2 - `Europe`  \n",
    "3 - `Japan`"
   ]
  },
  {
   "cell_type": "code",
   "execution_count": 6,
   "metadata": {
    "id": "gWNTD2QjBWFJ"
   },
   "outputs": [],
   "source": [
    "origin = dataset.pop('Origin')"
   ]
  },
  {
   "cell_type": "code",
   "execution_count": 16,
   "metadata": {
    "colab": {
     "base_uri": "https://localhost:8080/"
    },
    "id": "NlHVE428Ax7n",
    "outputId": "2f79b787-9d5c-478f-d3f8-56aeb2484ee8"
   },
   "outputs": [
    {
     "data": {
      "text/plain": [
       "array([1, 3, 2])"
      ]
     },
     "execution_count": 16,
     "metadata": {},
     "output_type": "execute_result"
    }
   ],
   "source": [
    "origin.unique()"
   ]
  },
  {
   "cell_type": "code",
   "execution_count": 17,
   "metadata": {
    "colab": {
     "base_uri": "https://localhost:8080/",
     "height": 206
    },
    "id": "ulXz4J7PAUzk",
    "outputId": "01bdea2f-d3d9-40d2-d9f5-d61f04d127ed"
   },
   "outputs": [
    {
     "data": {
      "text/html": [
       "\n",
       "  <div id=\"df-cb3e8316-4a7e-423e-9d91-147fe36becd8\">\n",
       "    <div class=\"colab-df-container\">\n",
       "      <div>\n",
       "<style scoped>\n",
       "    .dataframe tbody tr th:only-of-type {\n",
       "        vertical-align: middle;\n",
       "    }\n",
       "\n",
       "    .dataframe tbody tr th {\n",
       "        vertical-align: top;\n",
       "    }\n",
       "\n",
       "    .dataframe thead th {\n",
       "        text-align: right;\n",
       "    }\n",
       "</style>\n",
       "<table border=\"1\" class=\"dataframe\">\n",
       "  <thead>\n",
       "    <tr style=\"text-align: right;\">\n",
       "      <th></th>\n",
       "      <th>MPG</th>\n",
       "      <th>Cylinders</th>\n",
       "      <th>Displacement</th>\n",
       "      <th>Horsepower</th>\n",
       "      <th>Weight</th>\n",
       "      <th>Acceleration</th>\n",
       "      <th>Model Year</th>\n",
       "      <th>USA</th>\n",
       "      <th>Europe</th>\n",
       "      <th>Japan</th>\n",
       "    </tr>\n",
       "  </thead>\n",
       "  <tbody>\n",
       "    <tr>\n",
       "      <th>393</th>\n",
       "      <td>27.0</td>\n",
       "      <td>4</td>\n",
       "      <td>140.0</td>\n",
       "      <td>86.0</td>\n",
       "      <td>2790.0</td>\n",
       "      <td>15.6</td>\n",
       "      <td>82</td>\n",
       "      <td>1.0</td>\n",
       "      <td>0.0</td>\n",
       "      <td>0.0</td>\n",
       "    </tr>\n",
       "    <tr>\n",
       "      <th>394</th>\n",
       "      <td>44.0</td>\n",
       "      <td>4</td>\n",
       "      <td>97.0</td>\n",
       "      <td>52.0</td>\n",
       "      <td>2130.0</td>\n",
       "      <td>24.6</td>\n",
       "      <td>82</td>\n",
       "      <td>0.0</td>\n",
       "      <td>1.0</td>\n",
       "      <td>0.0</td>\n",
       "    </tr>\n",
       "    <tr>\n",
       "      <th>395</th>\n",
       "      <td>32.0</td>\n",
       "      <td>4</td>\n",
       "      <td>135.0</td>\n",
       "      <td>84.0</td>\n",
       "      <td>2295.0</td>\n",
       "      <td>11.6</td>\n",
       "      <td>82</td>\n",
       "      <td>1.0</td>\n",
       "      <td>0.0</td>\n",
       "      <td>0.0</td>\n",
       "    </tr>\n",
       "    <tr>\n",
       "      <th>396</th>\n",
       "      <td>28.0</td>\n",
       "      <td>4</td>\n",
       "      <td>120.0</td>\n",
       "      <td>79.0</td>\n",
       "      <td>2625.0</td>\n",
       "      <td>18.6</td>\n",
       "      <td>82</td>\n",
       "      <td>1.0</td>\n",
       "      <td>0.0</td>\n",
       "      <td>0.0</td>\n",
       "    </tr>\n",
       "    <tr>\n",
       "      <th>397</th>\n",
       "      <td>31.0</td>\n",
       "      <td>4</td>\n",
       "      <td>119.0</td>\n",
       "      <td>82.0</td>\n",
       "      <td>2720.0</td>\n",
       "      <td>19.4</td>\n",
       "      <td>82</td>\n",
       "      <td>1.0</td>\n",
       "      <td>0.0</td>\n",
       "      <td>0.0</td>\n",
       "    </tr>\n",
       "  </tbody>\n",
       "</table>\n",
       "</div>\n",
       "      <button class=\"colab-df-convert\" onclick=\"convertToInteractive('df-cb3e8316-4a7e-423e-9d91-147fe36becd8')\"\n",
       "              title=\"Convert this dataframe to an interactive table.\"\n",
       "              style=\"display:none;\">\n",
       "        \n",
       "  <svg xmlns=\"http://www.w3.org/2000/svg\" height=\"24px\"viewBox=\"0 0 24 24\"\n",
       "       width=\"24px\">\n",
       "    <path d=\"M0 0h24v24H0V0z\" fill=\"none\"/>\n",
       "    <path d=\"M18.56 5.44l.94 2.06.94-2.06 2.06-.94-2.06-.94-.94-2.06-.94 2.06-2.06.94zm-11 1L8.5 8.5l.94-2.06 2.06-.94-2.06-.94L8.5 2.5l-.94 2.06-2.06.94zm10 10l.94 2.06.94-2.06 2.06-.94-2.06-.94-.94-2.06-.94 2.06-2.06.94z\"/><path d=\"M17.41 7.96l-1.37-1.37c-.4-.4-.92-.59-1.43-.59-.52 0-1.04.2-1.43.59L10.3 9.45l-7.72 7.72c-.78.78-.78 2.05 0 2.83L4 21.41c.39.39.9.59 1.41.59.51 0 1.02-.2 1.41-.59l7.78-7.78 2.81-2.81c.8-.78.8-2.07 0-2.86zM5.41 20L4 18.59l7.72-7.72 1.47 1.35L5.41 20z\"/>\n",
       "  </svg>\n",
       "      </button>\n",
       "      \n",
       "  <style>\n",
       "    .colab-df-container {\n",
       "      display:flex;\n",
       "      flex-wrap:wrap;\n",
       "      gap: 12px;\n",
       "    }\n",
       "\n",
       "    .colab-df-convert {\n",
       "      background-color: #E8F0FE;\n",
       "      border: none;\n",
       "      border-radius: 50%;\n",
       "      cursor: pointer;\n",
       "      display: none;\n",
       "      fill: #1967D2;\n",
       "      height: 32px;\n",
       "      padding: 0 0 0 0;\n",
       "      width: 32px;\n",
       "    }\n",
       "\n",
       "    .colab-df-convert:hover {\n",
       "      background-color: #E2EBFA;\n",
       "      box-shadow: 0px 1px 2px rgba(60, 64, 67, 0.3), 0px 1px 3px 1px rgba(60, 64, 67, 0.15);\n",
       "      fill: #174EA6;\n",
       "    }\n",
       "\n",
       "    [theme=dark] .colab-df-convert {\n",
       "      background-color: #3B4455;\n",
       "      fill: #D2E3FC;\n",
       "    }\n",
       "\n",
       "    [theme=dark] .colab-df-convert:hover {\n",
       "      background-color: #434B5C;\n",
       "      box-shadow: 0px 1px 3px 1px rgba(0, 0, 0, 0.15);\n",
       "      filter: drop-shadow(0px 1px 2px rgba(0, 0, 0, 0.3));\n",
       "      fill: #FFFFFF;\n",
       "    }\n",
       "  </style>\n",
       "\n",
       "      <script>\n",
       "        const buttonEl =\n",
       "          document.querySelector('#df-cb3e8316-4a7e-423e-9d91-147fe36becd8 button.colab-df-convert');\n",
       "        buttonEl.style.display =\n",
       "          google.colab.kernel.accessAllowed ? 'block' : 'none';\n",
       "\n",
       "        async function convertToInteractive(key) {\n",
       "          const element = document.querySelector('#df-cb3e8316-4a7e-423e-9d91-147fe36becd8');\n",
       "          const dataTable =\n",
       "            await google.colab.kernel.invokeFunction('convertToInteractive',\n",
       "                                                     [key], {});\n",
       "          if (!dataTable) return;\n",
       "\n",
       "          const docLinkHtml = 'Like what you see? Visit the ' +\n",
       "            '<a target=\"_blank\" href=https://colab.research.google.com/notebooks/data_table.ipynb>data table notebook</a>'\n",
       "            + ' to learn more about interactive tables.';\n",
       "          element.innerHTML = '';\n",
       "          dataTable['output_type'] = 'display_data';\n",
       "          await google.colab.output.renderOutput(dataTable, element);\n",
       "          const docLink = document.createElement('div');\n",
       "          docLink.innerHTML = docLinkHtml;\n",
       "          element.appendChild(docLink);\n",
       "        }\n",
       "      </script>\n",
       "    </div>\n",
       "  </div>\n",
       "  "
      ],
      "text/plain": [
       "      MPG  Cylinders  Displacement  Horsepower  Weight  Acceleration  \\\n",
       "393  27.0          4         140.0        86.0  2790.0          15.6   \n",
       "394  44.0          4          97.0        52.0  2130.0          24.6   \n",
       "395  32.0          4         135.0        84.0  2295.0          11.6   \n",
       "396  28.0          4         120.0        79.0  2625.0          18.6   \n",
       "397  31.0          4         119.0        82.0  2720.0          19.4   \n",
       "\n",
       "     Model Year  USA  Europe  Japan  \n",
       "393          82  1.0     0.0    0.0  \n",
       "394          82  0.0     1.0    0.0  \n",
       "395          82  1.0     0.0    0.0  \n",
       "396          82  1.0     0.0    0.0  \n",
       "397          82  1.0     0.0    0.0  "
      ]
     },
     "execution_count": 17,
     "metadata": {},
     "output_type": "execute_result"
    }
   ],
   "source": [
    "dataset['USA']     = (origin == 1) * 1.0\n",
    "dataset['Europe'] = (origin == 2) * 1.0\n",
    "dataset['Japan']   = (origin == 3) * 1.0\n",
    "dataset.tail()"
   ]
  },
  {
   "cell_type": "code",
   "execution_count": 22,
   "metadata": {
    "colab": {
     "base_uri": "https://localhost:8080/",
     "height": 300
    },
    "id": "NdUcykp_Cugf",
    "outputId": "0b0471d0-9928-4f4a-b329-b909d2a98f01"
   },
   "outputs": [
    {
     "data": {
      "text/html": [
       "\n",
       "  <div id=\"df-82ec1771-c2bf-40eb-804c-e78eaeacd302\">\n",
       "    <div class=\"colab-df-container\">\n",
       "      <div>\n",
       "<style scoped>\n",
       "    .dataframe tbody tr th:only-of-type {\n",
       "        vertical-align: middle;\n",
       "    }\n",
       "\n",
       "    .dataframe tbody tr th {\n",
       "        vertical-align: top;\n",
       "    }\n",
       "\n",
       "    .dataframe thead th {\n",
       "        text-align: right;\n",
       "    }\n",
       "</style>\n",
       "<table border=\"1\" class=\"dataframe\">\n",
       "  <thead>\n",
       "    <tr style=\"text-align: right;\">\n",
       "      <th></th>\n",
       "      <th>MPG</th>\n",
       "      <th>Cylinders</th>\n",
       "      <th>Displacement</th>\n",
       "      <th>Horsepower</th>\n",
       "      <th>Weight</th>\n",
       "      <th>Acceleration</th>\n",
       "      <th>Model Year</th>\n",
       "      <th>USA</th>\n",
       "      <th>Europe</th>\n",
       "      <th>Japan</th>\n",
       "    </tr>\n",
       "  </thead>\n",
       "  <tbody>\n",
       "    <tr>\n",
       "      <th>count</th>\n",
       "      <td>392.000000</td>\n",
       "      <td>392.000000</td>\n",
       "      <td>392.000000</td>\n",
       "      <td>392.000000</td>\n",
       "      <td>392.000000</td>\n",
       "      <td>392.000000</td>\n",
       "      <td>392.000000</td>\n",
       "      <td>392.000000</td>\n",
       "      <td>392.000000</td>\n",
       "      <td>392.000000</td>\n",
       "    </tr>\n",
       "    <tr>\n",
       "      <th>mean</th>\n",
       "      <td>23.445918</td>\n",
       "      <td>5.471939</td>\n",
       "      <td>194.411990</td>\n",
       "      <td>104.469388</td>\n",
       "      <td>2977.584184</td>\n",
       "      <td>15.541327</td>\n",
       "      <td>75.979592</td>\n",
       "      <td>0.625000</td>\n",
       "      <td>0.173469</td>\n",
       "      <td>0.201531</td>\n",
       "    </tr>\n",
       "    <tr>\n",
       "      <th>std</th>\n",
       "      <td>7.805007</td>\n",
       "      <td>1.705783</td>\n",
       "      <td>104.644004</td>\n",
       "      <td>38.491160</td>\n",
       "      <td>849.402560</td>\n",
       "      <td>2.758864</td>\n",
       "      <td>3.683737</td>\n",
       "      <td>0.484742</td>\n",
       "      <td>0.379136</td>\n",
       "      <td>0.401656</td>\n",
       "    </tr>\n",
       "    <tr>\n",
       "      <th>min</th>\n",
       "      <td>9.000000</td>\n",
       "      <td>3.000000</td>\n",
       "      <td>68.000000</td>\n",
       "      <td>46.000000</td>\n",
       "      <td>1613.000000</td>\n",
       "      <td>8.000000</td>\n",
       "      <td>70.000000</td>\n",
       "      <td>0.000000</td>\n",
       "      <td>0.000000</td>\n",
       "      <td>0.000000</td>\n",
       "    </tr>\n",
       "    <tr>\n",
       "      <th>25%</th>\n",
       "      <td>17.000000</td>\n",
       "      <td>4.000000</td>\n",
       "      <td>105.000000</td>\n",
       "      <td>75.000000</td>\n",
       "      <td>2225.250000</td>\n",
       "      <td>13.775000</td>\n",
       "      <td>73.000000</td>\n",
       "      <td>0.000000</td>\n",
       "      <td>0.000000</td>\n",
       "      <td>0.000000</td>\n",
       "    </tr>\n",
       "    <tr>\n",
       "      <th>50%</th>\n",
       "      <td>22.750000</td>\n",
       "      <td>4.000000</td>\n",
       "      <td>151.000000</td>\n",
       "      <td>93.500000</td>\n",
       "      <td>2803.500000</td>\n",
       "      <td>15.500000</td>\n",
       "      <td>76.000000</td>\n",
       "      <td>1.000000</td>\n",
       "      <td>0.000000</td>\n",
       "      <td>0.000000</td>\n",
       "    </tr>\n",
       "    <tr>\n",
       "      <th>75%</th>\n",
       "      <td>29.000000</td>\n",
       "      <td>8.000000</td>\n",
       "      <td>275.750000</td>\n",
       "      <td>126.000000</td>\n",
       "      <td>3614.750000</td>\n",
       "      <td>17.025000</td>\n",
       "      <td>79.000000</td>\n",
       "      <td>1.000000</td>\n",
       "      <td>0.000000</td>\n",
       "      <td>0.000000</td>\n",
       "    </tr>\n",
       "    <tr>\n",
       "      <th>max</th>\n",
       "      <td>46.600000</td>\n",
       "      <td>8.000000</td>\n",
       "      <td>455.000000</td>\n",
       "      <td>230.000000</td>\n",
       "      <td>5140.000000</td>\n",
       "      <td>24.800000</td>\n",
       "      <td>82.000000</td>\n",
       "      <td>1.000000</td>\n",
       "      <td>1.000000</td>\n",
       "      <td>1.000000</td>\n",
       "    </tr>\n",
       "  </tbody>\n",
       "</table>\n",
       "</div>\n",
       "      <button class=\"colab-df-convert\" onclick=\"convertToInteractive('df-82ec1771-c2bf-40eb-804c-e78eaeacd302')\"\n",
       "              title=\"Convert this dataframe to an interactive table.\"\n",
       "              style=\"display:none;\">\n",
       "        \n",
       "  <svg xmlns=\"http://www.w3.org/2000/svg\" height=\"24px\"viewBox=\"0 0 24 24\"\n",
       "       width=\"24px\">\n",
       "    <path d=\"M0 0h24v24H0V0z\" fill=\"none\"/>\n",
       "    <path d=\"M18.56 5.44l.94 2.06.94-2.06 2.06-.94-2.06-.94-.94-2.06-.94 2.06-2.06.94zm-11 1L8.5 8.5l.94-2.06 2.06-.94-2.06-.94L8.5 2.5l-.94 2.06-2.06.94zm10 10l.94 2.06.94-2.06 2.06-.94-2.06-.94-.94-2.06-.94 2.06-2.06.94z\"/><path d=\"M17.41 7.96l-1.37-1.37c-.4-.4-.92-.59-1.43-.59-.52 0-1.04.2-1.43.59L10.3 9.45l-7.72 7.72c-.78.78-.78 2.05 0 2.83L4 21.41c.39.39.9.59 1.41.59.51 0 1.02-.2 1.41-.59l7.78-7.78 2.81-2.81c.8-.78.8-2.07 0-2.86zM5.41 20L4 18.59l7.72-7.72 1.47 1.35L5.41 20z\"/>\n",
       "  </svg>\n",
       "      </button>\n",
       "      \n",
       "  <style>\n",
       "    .colab-df-container {\n",
       "      display:flex;\n",
       "      flex-wrap:wrap;\n",
       "      gap: 12px;\n",
       "    }\n",
       "\n",
       "    .colab-df-convert {\n",
       "      background-color: #E8F0FE;\n",
       "      border: none;\n",
       "      border-radius: 50%;\n",
       "      cursor: pointer;\n",
       "      display: none;\n",
       "      fill: #1967D2;\n",
       "      height: 32px;\n",
       "      padding: 0 0 0 0;\n",
       "      width: 32px;\n",
       "    }\n",
       "\n",
       "    .colab-df-convert:hover {\n",
       "      background-color: #E2EBFA;\n",
       "      box-shadow: 0px 1px 2px rgba(60, 64, 67, 0.3), 0px 1px 3px 1px rgba(60, 64, 67, 0.15);\n",
       "      fill: #174EA6;\n",
       "    }\n",
       "\n",
       "    [theme=dark] .colab-df-convert {\n",
       "      background-color: #3B4455;\n",
       "      fill: #D2E3FC;\n",
       "    }\n",
       "\n",
       "    [theme=dark] .colab-df-convert:hover {\n",
       "      background-color: #434B5C;\n",
       "      box-shadow: 0px 1px 3px 1px rgba(0, 0, 0, 0.15);\n",
       "      filter: drop-shadow(0px 1px 2px rgba(0, 0, 0, 0.3));\n",
       "      fill: #FFFFFF;\n",
       "    }\n",
       "  </style>\n",
       "\n",
       "      <script>\n",
       "        const buttonEl =\n",
       "          document.querySelector('#df-82ec1771-c2bf-40eb-804c-e78eaeacd302 button.colab-df-convert');\n",
       "        buttonEl.style.display =\n",
       "          google.colab.kernel.accessAllowed ? 'block' : 'none';\n",
       "\n",
       "        async function convertToInteractive(key) {\n",
       "          const element = document.querySelector('#df-82ec1771-c2bf-40eb-804c-e78eaeacd302');\n",
       "          const dataTable =\n",
       "            await google.colab.kernel.invokeFunction('convertToInteractive',\n",
       "                                                     [key], {});\n",
       "          if (!dataTable) return;\n",
       "\n",
       "          const docLinkHtml = 'Like what you see? Visit the ' +\n",
       "            '<a target=\"_blank\" href=https://colab.research.google.com/notebooks/data_table.ipynb>data table notebook</a>'\n",
       "            + ' to learn more about interactive tables.';\n",
       "          element.innerHTML = '';\n",
       "          dataTable['output_type'] = 'display_data';\n",
       "          await google.colab.output.renderOutput(dataTable, element);\n",
       "          const docLink = document.createElement('div');\n",
       "          docLink.innerHTML = docLinkHtml;\n",
       "          element.appendChild(docLink);\n",
       "        }\n",
       "      </script>\n",
       "    </div>\n",
       "  </div>\n",
       "  "
      ],
      "text/plain": [
       "              MPG   Cylinders  Displacement  Horsepower       Weight  \\\n",
       "count  392.000000  392.000000    392.000000  392.000000   392.000000   \n",
       "mean    23.445918    5.471939    194.411990  104.469388  2977.584184   \n",
       "std      7.805007    1.705783    104.644004   38.491160   849.402560   \n",
       "min      9.000000    3.000000     68.000000   46.000000  1613.000000   \n",
       "25%     17.000000    4.000000    105.000000   75.000000  2225.250000   \n",
       "50%     22.750000    4.000000    151.000000   93.500000  2803.500000   \n",
       "75%     29.000000    8.000000    275.750000  126.000000  3614.750000   \n",
       "max     46.600000    8.000000    455.000000  230.000000  5140.000000   \n",
       "\n",
       "       Acceleration  Model Year         USA      Europe       Japan  \n",
       "count    392.000000  392.000000  392.000000  392.000000  392.000000  \n",
       "mean      15.541327   75.979592    0.625000    0.173469    0.201531  \n",
       "std        2.758864    3.683737    0.484742    0.379136    0.401656  \n",
       "min        8.000000   70.000000    0.000000    0.000000    0.000000  \n",
       "25%       13.775000   73.000000    0.000000    0.000000    0.000000  \n",
       "50%       15.500000   76.000000    1.000000    0.000000    0.000000  \n",
       "75%       17.025000   79.000000    1.000000    0.000000    0.000000  \n",
       "max       24.800000   82.000000    1.000000    1.000000    1.000000  "
      ]
     },
     "execution_count": 22,
     "metadata": {},
     "output_type": "execute_result"
    }
   ],
   "source": [
    "dataset.describe()"
   ]
  },
  {
   "cell_type": "markdown",
   "metadata": {
    "id": "Cuym4yvk76vU"
   },
   "source": [
    "### 데이터셋을 훈련 세트와 테스트 세트로 분할"
   ]
  },
  {
   "cell_type": "code",
   "execution_count": 18,
   "metadata": {
    "colab": {
     "base_uri": "https://localhost:8080/"
    },
    "id": "W78j_xwPCF30",
    "outputId": "aca654ce-5ca2-4a08-fbdd-fe382b85e2a2"
   },
   "outputs": [
    {
     "data": {
      "text/plain": [
       "((392, 9), (392,))"
      ]
     },
     "execution_count": 18,
     "metadata": {},
     "output_type": "execute_result"
    }
   ],
   "source": [
    "X = dataset.drop('MPG', axis=1).values\n",
    "y = dataset['MPG'].values\n",
    "X.shape, y.shape"
   ]
  },
  {
   "cell_type": "code",
   "execution_count": 21,
   "metadata": {
    "colab": {
     "base_uri": "https://localhost:8080/"
    },
    "id": "qn-IGhUE7_1H",
    "outputId": "7384a5ab-afc7-49aa-d59c-22f076b4b313"
   },
   "outputs": [
    {
     "data": {
      "text/plain": [
       "((313, 9), (79, 9), (313,), (79,))"
      ]
     },
     "execution_count": 21,
     "metadata": {},
     "output_type": "execute_result"
    }
   ],
   "source": [
    "X_train, X_test, y_train, y_test = train_test_split(X, y, test_size=0.2, random_state=0)\n",
    "X_train.shape, X_test.shape, y_train.shape, y_test.shape"
   ]
  },
  {
   "cell_type": "markdown",
   "metadata": {
    "id": "mRklxK5s388r"
   },
   "source": [
    "### 데이터 정규화\n",
    "Standard Scaing : (X - mu) / sigma"
   ]
  },
  {
   "cell_type": "code",
   "execution_count": 24,
   "metadata": {
    "id": "QIEEw3nODAae"
   },
   "outputs": [],
   "source": [
    "sc = StandardScaler()\n",
    "X_train = sc.fit_transform(X_train)\n",
    "X_test  = sc.transform(X_test)"
   ]
  },
  {
   "cell_type": "markdown",
   "metadata": {
    "id": "SmjdzxKzEu1-"
   },
   "source": [
    "## 모델"
   ]
  },
  {
   "cell_type": "code",
   "execution_count": 25,
   "metadata": {
    "id": "c26juK7ZG8j-"
   },
   "outputs": [],
   "source": [
    "model = tf.keras.Sequential([\n",
    "    Dense(64, activation='relu', input_shape=[X_train.shape[1]]),\n",
    "    Dense(32, activation='relu'),\n",
    "    Dense(1)\n",
    "])\n",
    "\n",
    "optimizer = tf.keras.optimizers.RMSprop(0.001)\n",
    "\n",
    "model.compile(loss='mse', optimizer=optimizer, metrics=['mae', 'mse'])"
   ]
  },
  {
   "cell_type": "code",
   "execution_count": 27,
   "metadata": {
    "colab": {
     "base_uri": "https://localhost:8080/"
    },
    "id": "ReAD0n6MsFK-",
    "outputId": "6b885677-dea4-4880-b017-54e8042622a2"
   },
   "outputs": [
    {
     "name": "stdout",
     "output_type": "stream",
     "text": [
      "Model: \"sequential\"\n",
      "_________________________________________________________________\n",
      " Layer (type)                Output Shape              Param #   \n",
      "=================================================================\n",
      " dense (Dense)               (None, 64)                640       \n",
      "                                                                 \n",
      " dense_1 (Dense)             (None, 32)                2080      \n",
      "                                                                 \n",
      " dense_2 (Dense)             (None, 1)                 33        \n",
      "                                                                 \n",
      "=================================================================\n",
      "Total params: 2,753\n",
      "Trainable params: 2,753\n",
      "Non-trainable params: 0\n",
      "_________________________________________________________________\n"
     ]
    }
   ],
   "source": [
    "model.summary()"
   ]
  },
  {
   "cell_type": "markdown",
   "metadata": {
    "id": "Vt6W50qGsJAL"
   },
   "source": [
    "모델을 한번 실행해 봅니다. 훈련 세트에서 `10` 샘플을 하나의 배치로 만들어 `model.predict` 메서드를 호출하여 결과값이 예상대로 작성하는지 사전  check 합니다."
   ]
  },
  {
   "cell_type": "code",
   "execution_count": 28,
   "metadata": {
    "colab": {
     "base_uri": "https://localhost:8080/"
    },
    "id": "-d-gBaVtGTSC",
    "outputId": "b7746ec5-e90a-4e08-976e-0a1cacaf1b81"
   },
   "outputs": [
    {
     "data": {
      "text/plain": [
       "array([[-0.6789237 ],\n",
       "       [ 0.19867581],\n",
       "       [ 0.01806207],\n",
       "       [ 0.160184  ],\n",
       "       [-0.50817424],\n",
       "       [-0.2752999 ],\n",
       "       [ 0.5409737 ],\n",
       "       [-0.47436854],\n",
       "       [-0.52162737],\n",
       "       [-0.6855151 ]], dtype=float32)"
      ]
     },
     "execution_count": 28,
     "metadata": {},
     "output_type": "execute_result"
    }
   ],
   "source": [
    "example_batch = X_train[:10]\n",
    "example_result = model.predict(example_batch)\n",
    "example_result"
   ]
  },
  {
   "cell_type": "markdown",
   "metadata": {
    "id": "0-qWCsh6DlyH"
   },
   "source": [
    "### 모델 훈련\n"
   ]
  },
  {
   "cell_type": "code",
   "execution_count": 29,
   "metadata": {
    "colab": {
     "base_uri": "https://localhost:8080/"
    },
    "id": "sD7qHCmNIOY0",
    "outputId": "f0b3d107-400c-4483-bc9e-ab443146b456"
   },
   "outputs": [
    {
     "name": "stdout",
     "output_type": "stream",
     "text": [
      "Epoch 1/1000\n",
      "8/8 [==============================] - 2s 35ms/step - loss: 592.9551 - mae: 23.0496 - mse: 592.9551 - val_loss: 606.7197 - val_mae: 23.0912 - val_mse: 606.7197\n",
      "Epoch 2/1000\n",
      "8/8 [==============================] - 0s 8ms/step - loss: 560.2944 - mae: 22.3207 - mse: 560.2944 - val_loss: 576.3918 - val_mae: 22.4267 - val_mse: 576.3918\n",
      "Epoch 3/1000\n",
      "8/8 [==============================] - 0s 8ms/step - loss: 531.7607 - mae: 21.6703 - mse: 531.7607 - val_loss: 545.3573 - val_mae: 21.7366 - val_mse: 545.3573\n",
      "Epoch 4/1000\n",
      "8/8 [==============================] - 0s 8ms/step - loss: 501.4165 - mae: 20.9743 - mse: 501.4165 - val_loss: 511.6921 - val_mae: 20.9771 - val_mse: 511.6921\n",
      "Epoch 5/1000\n",
      "8/8 [==============================] - 0s 8ms/step - loss: 468.6273 - mae: 20.1977 - mse: 468.6273 - val_loss: 475.0809 - val_mae: 20.1326 - val_mse: 475.0809\n",
      "Epoch 6/1000\n",
      "8/8 [==============================] - 0s 7ms/step - loss: 432.9209 - mae: 19.3340 - mse: 432.9209 - val_loss: 434.9213 - val_mae: 19.1753 - val_mse: 434.9213\n",
      "Epoch 7/1000\n",
      "8/8 [==============================] - 0s 9ms/step - loss: 394.1149 - mae: 18.3589 - mse: 394.1149 - val_loss: 391.3013 - val_mae: 18.0927 - val_mse: 391.3013\n",
      "Epoch 8/1000\n",
      "8/8 [==============================] - 0s 8ms/step - loss: 352.6420 - mae: 17.2571 - mse: 352.6420 - val_loss: 345.3401 - val_mae: 16.9014 - val_mse: 345.3401\n",
      "Epoch 9/1000\n",
      "8/8 [==============================] - 0s 8ms/step - loss: 309.6765 - mae: 16.0599 - mse: 309.6765 - val_loss: 298.2376 - val_mae: 15.6278 - val_mse: 298.2376\n",
      "Epoch 10/1000\n",
      "8/8 [==============================] - 0s 8ms/step - loss: 265.9646 - mae: 14.7723 - mse: 265.9646 - val_loss: 251.1850 - val_mae: 14.2730 - val_mse: 251.1850\n",
      "Epoch 11/1000\n",
      "8/8 [==============================] - 0s 8ms/step - loss: 222.6248 - mae: 13.3778 - mse: 222.6248 - val_loss: 204.3947 - val_mae: 12.8290 - val_mse: 204.3947\n",
      "Epoch 12/1000\n",
      "8/8 [==============================] - 0s 8ms/step - loss: 181.0183 - mae: 11.9113 - mse: 181.0183 - val_loss: 160.4057 - val_mae: 11.3132 - val_mse: 160.4057\n",
      "Epoch 13/1000\n",
      "8/8 [==============================] - 0s 7ms/step - loss: 141.7301 - mae: 10.4272 - mse: 141.7301 - val_loss: 119.0231 - val_mae: 9.6877 - val_mse: 119.0231\n",
      "Epoch 14/1000\n",
      "8/8 [==============================] - 0s 8ms/step - loss: 106.0916 - mae: 8.8386 - mse: 106.0916 - val_loss: 83.7201 - val_mae: 8.0369 - val_mse: 83.7201\n",
      "Epoch 15/1000\n",
      "8/8 [==============================] - 0s 10ms/step - loss: 76.3498 - mae: 7.3348 - mse: 76.3498 - val_loss: 55.6260 - val_mae: 6.3948 - val_mse: 55.6260\n",
      "Epoch 16/1000\n",
      "8/8 [==============================] - 0s 8ms/step - loss: 54.0382 - mae: 5.9675 - mse: 54.0382 - val_loss: 36.6211 - val_mae: 4.9813 - val_mse: 36.6211\n",
      "Epoch 17/1000\n",
      "8/8 [==============================] - 0s 7ms/step - loss: 39.1631 - mae: 4.9415 - mse: 39.1631 - val_loss: 25.4012 - val_mae: 4.0445 - val_mse: 25.4012\n",
      "Epoch 18/1000\n",
      "8/8 [==============================] - 0s 8ms/step - loss: 29.5728 - mae: 4.2722 - mse: 29.5728 - val_loss: 18.6750 - val_mae: 3.4728 - val_mse: 18.6750\n",
      "Epoch 19/1000\n",
      "8/8 [==============================] - 0s 9ms/step - loss: 23.4438 - mae: 3.7928 - mse: 23.4438 - val_loss: 15.1472 - val_mae: 3.1617 - val_mse: 15.1472\n",
      "Epoch 20/1000\n",
      "8/8 [==============================] - 0s 8ms/step - loss: 19.7270 - mae: 3.4734 - mse: 19.7270 - val_loss: 13.3013 - val_mae: 2.9463 - val_mse: 13.3013\n",
      "Epoch 21/1000\n",
      "8/8 [==============================] - 0s 8ms/step - loss: 17.2389 - mae: 3.2554 - mse: 17.2389 - val_loss: 12.1324 - val_mae: 2.8088 - val_mse: 12.1324\n",
      "Epoch 22/1000\n",
      "8/8 [==============================] - 0s 8ms/step - loss: 15.5200 - mae: 3.0738 - mse: 15.5200 - val_loss: 11.0647 - val_mae: 2.6454 - val_mse: 11.0647\n",
      "Epoch 23/1000\n",
      "8/8 [==============================] - 0s 9ms/step - loss: 14.3400 - mae: 2.9561 - mse: 14.3400 - val_loss: 10.2887 - val_mae: 2.5326 - val_mse: 10.2887\n",
      "Epoch 24/1000\n",
      "8/8 [==============================] - 0s 8ms/step - loss: 13.1319 - mae: 2.8346 - mse: 13.1319 - val_loss: 10.1866 - val_mae: 2.5057 - val_mse: 10.1866\n",
      "Epoch 25/1000\n",
      "8/8 [==============================] - 0s 7ms/step - loss: 12.6271 - mae: 2.7328 - mse: 12.6271 - val_loss: 9.5087 - val_mae: 2.4223 - val_mse: 9.5087\n",
      "Epoch 26/1000\n",
      "8/8 [==============================] - 0s 8ms/step - loss: 11.7332 - mae: 2.5953 - mse: 11.7332 - val_loss: 9.2826 - val_mae: 2.4027 - val_mse: 9.2826\n",
      "Epoch 27/1000\n",
      "8/8 [==============================] - 0s 8ms/step - loss: 11.2197 - mae: 2.5299 - mse: 11.2197 - val_loss: 9.0802 - val_mae: 2.3707 - val_mse: 9.0802\n",
      "Epoch 28/1000\n",
      "8/8 [==============================] - 0s 8ms/step - loss: 10.9404 - mae: 2.4921 - mse: 10.9404 - val_loss: 9.0322 - val_mae: 2.3325 - val_mse: 9.0322\n",
      "Epoch 29/1000\n",
      "8/8 [==============================] - 0s 11ms/step - loss: 10.4352 - mae: 2.3866 - mse: 10.4352 - val_loss: 8.7414 - val_mae: 2.2847 - val_mse: 8.7414\n",
      "Epoch 30/1000\n",
      "8/8 [==============================] - 0s 8ms/step - loss: 10.0567 - mae: 2.3229 - mse: 10.0567 - val_loss: 8.7368 - val_mae: 2.2696 - val_mse: 8.7368\n",
      "Epoch 31/1000\n",
      "8/8 [==============================] - 0s 8ms/step - loss: 9.7550 - mae: 2.2965 - mse: 9.7550 - val_loss: 8.4965 - val_mae: 2.2182 - val_mse: 8.4965\n",
      "Epoch 32/1000\n",
      "8/8 [==============================] - 0s 8ms/step - loss: 9.4725 - mae: 2.2222 - mse: 9.4725 - val_loss: 8.3888 - val_mae: 2.1938 - val_mse: 8.3888\n",
      "Epoch 33/1000\n",
      "8/8 [==============================] - 0s 8ms/step - loss: 9.4127 - mae: 2.2292 - mse: 9.4127 - val_loss: 8.1332 - val_mae: 2.1707 - val_mse: 8.1332\n",
      "Epoch 34/1000\n",
      "8/8 [==============================] - 0s 7ms/step - loss: 9.0065 - mae: 2.1545 - mse: 9.0065 - val_loss: 8.0921 - val_mae: 2.1545 - val_mse: 8.0921\n",
      "Epoch 35/1000\n",
      "8/8 [==============================] - 0s 8ms/step - loss: 8.8229 - mae: 2.1424 - mse: 8.8229 - val_loss: 7.9295 - val_mae: 2.1349 - val_mse: 7.9295\n",
      "Epoch 36/1000\n",
      "8/8 [==============================] - 0s 8ms/step - loss: 8.8136 - mae: 2.1360 - mse: 8.8136 - val_loss: 7.8031 - val_mae: 2.1240 - val_mse: 7.8031\n",
      "Epoch 37/1000\n",
      "8/8 [==============================] - 0s 10ms/step - loss: 8.5894 - mae: 2.0965 - mse: 8.5894 - val_loss: 7.5915 - val_mae: 2.1195 - val_mse: 7.5915\n",
      "Epoch 38/1000\n",
      "8/8 [==============================] - 0s 7ms/step - loss: 8.4418 - mae: 2.0942 - mse: 8.4418 - val_loss: 7.8174 - val_mae: 2.1317 - val_mse: 7.8174\n",
      "Epoch 39/1000\n",
      "8/8 [==============================] - 0s 8ms/step - loss: 8.4499 - mae: 2.0942 - mse: 8.4499 - val_loss: 7.6031 - val_mae: 2.0964 - val_mse: 7.6031\n",
      "Epoch 40/1000\n",
      "8/8 [==============================] - 0s 7ms/step - loss: 8.3631 - mae: 2.0842 - mse: 8.3631 - val_loss: 7.5375 - val_mae: 2.1049 - val_mse: 7.5375\n",
      "Epoch 41/1000\n",
      "8/8 [==============================] - 0s 7ms/step - loss: 8.2041 - mae: 2.0517 - mse: 8.2041 - val_loss: 7.5055 - val_mae: 2.0977 - val_mse: 7.5055\n",
      "Epoch 42/1000\n",
      "8/8 [==============================] - 0s 9ms/step - loss: 8.0972 - mae: 2.0404 - mse: 8.0972 - val_loss: 7.4651 - val_mae: 2.0948 - val_mse: 7.4651\n",
      "Epoch 43/1000\n",
      "8/8 [==============================] - 0s 10ms/step - loss: 8.0514 - mae: 2.0418 - mse: 8.0514 - val_loss: 7.3338 - val_mae: 2.0633 - val_mse: 7.3338\n",
      "Epoch 44/1000\n",
      "8/8 [==============================] - 0s 8ms/step - loss: 7.8682 - mae: 2.0097 - mse: 7.8682 - val_loss: 7.2712 - val_mae: 2.0543 - val_mse: 7.2712\n",
      "Epoch 45/1000\n",
      "8/8 [==============================] - 0s 7ms/step - loss: 7.8611 - mae: 2.0375 - mse: 7.8611 - val_loss: 7.3759 - val_mae: 2.0517 - val_mse: 7.3759\n",
      "Epoch 46/1000\n",
      "8/8 [==============================] - 0s 8ms/step - loss: 7.6554 - mae: 2.0053 - mse: 7.6554 - val_loss: 7.3174 - val_mae: 2.0748 - val_mse: 7.3174\n",
      "Epoch 47/1000\n",
      "8/8 [==============================] - 0s 8ms/step - loss: 7.7048 - mae: 2.0011 - mse: 7.7048 - val_loss: 7.2550 - val_mae: 2.0786 - val_mse: 7.2550\n",
      "Epoch 48/1000\n",
      "8/8 [==============================] - 0s 8ms/step - loss: 7.8675 - mae: 1.9981 - mse: 7.8675 - val_loss: 7.0195 - val_mae: 2.0345 - val_mse: 7.0195\n",
      "Epoch 49/1000\n",
      "8/8 [==============================] - 0s 8ms/step - loss: 7.5034 - mae: 1.9680 - mse: 7.5034 - val_loss: 7.0553 - val_mae: 2.0214 - val_mse: 7.0553\n",
      "Epoch 50/1000\n",
      "8/8 [==============================] - 0s 8ms/step - loss: 7.5292 - mae: 1.9740 - mse: 7.5292 - val_loss: 7.2814 - val_mae: 2.0315 - val_mse: 7.2814\n",
      "Epoch 51/1000\n",
      "8/8 [==============================] - 0s 8ms/step - loss: 7.8185 - mae: 2.0301 - mse: 7.8185 - val_loss: 6.8775 - val_mae: 2.0460 - val_mse: 6.8775\n",
      "Epoch 52/1000\n",
      "8/8 [==============================] - 0s 8ms/step - loss: 7.4350 - mae: 1.9583 - mse: 7.4350 - val_loss: 6.9890 - val_mae: 2.0346 - val_mse: 6.9890\n",
      "Epoch 53/1000\n",
      "8/8 [==============================] - 0s 8ms/step - loss: 7.4737 - mae: 1.9481 - mse: 7.4737 - val_loss: 6.7558 - val_mae: 2.0243 - val_mse: 6.7558\n",
      "Epoch 54/1000\n",
      "8/8 [==============================] - 0s 8ms/step - loss: 7.3906 - mae: 1.9757 - mse: 7.3906 - val_loss: 6.8269 - val_mae: 2.0226 - val_mse: 6.8269\n",
      "Epoch 55/1000\n",
      "8/8 [==============================] - 0s 8ms/step - loss: 7.3703 - mae: 1.9432 - mse: 7.3703 - val_loss: 6.7416 - val_mae: 2.0319 - val_mse: 6.7416\n",
      "Epoch 56/1000\n",
      "8/8 [==============================] - 0s 8ms/step - loss: 7.3839 - mae: 1.9442 - mse: 7.3839 - val_loss: 6.7343 - val_mae: 1.9975 - val_mse: 6.7343\n",
      "Epoch 57/1000\n",
      "8/8 [==============================] - 0s 8ms/step - loss: 7.1803 - mae: 1.9314 - mse: 7.1803 - val_loss: 6.5652 - val_mae: 2.0235 - val_mse: 6.5652\n",
      "Epoch 58/1000\n",
      "8/8 [==============================] - 0s 8ms/step - loss: 7.2152 - mae: 1.9477 - mse: 7.2152 - val_loss: 6.6976 - val_mae: 2.0227 - val_mse: 6.6976\n",
      "Epoch 59/1000\n",
      "8/8 [==============================] - 0s 8ms/step - loss: 7.0029 - mae: 1.9194 - mse: 7.0029 - val_loss: 7.0061 - val_mae: 2.0841 - val_mse: 7.0061\n",
      "Epoch 60/1000\n",
      "8/8 [==============================] - 0s 8ms/step - loss: 7.3344 - mae: 1.9647 - mse: 7.3344 - val_loss: 6.7115 - val_mae: 2.0046 - val_mse: 6.7115\n",
      "Epoch 61/1000\n",
      "8/8 [==============================] - 0s 8ms/step - loss: 7.1037 - mae: 1.9185 - mse: 7.1037 - val_loss: 6.6113 - val_mae: 1.9825 - val_mse: 6.6113\n",
      "Epoch 62/1000\n",
      "8/8 [==============================] - 0s 8ms/step - loss: 7.0529 - mae: 1.9097 - mse: 7.0529 - val_loss: 6.5680 - val_mae: 1.9990 - val_mse: 6.5680\n",
      "Epoch 63/1000\n",
      "8/8 [==============================] - 0s 8ms/step - loss: 7.1025 - mae: 1.9170 - mse: 7.1025 - val_loss: 6.4993 - val_mae: 2.0123 - val_mse: 6.4993\n",
      "Epoch 64/1000\n",
      "8/8 [==============================] - 0s 8ms/step - loss: 6.9923 - mae: 1.8958 - mse: 6.9923 - val_loss: 6.5358 - val_mae: 1.9935 - val_mse: 6.5358\n",
      "Epoch 65/1000\n",
      "8/8 [==============================] - 0s 8ms/step - loss: 6.9072 - mae: 1.8709 - mse: 6.9072 - val_loss: 6.5693 - val_mae: 1.9796 - val_mse: 6.5693\n",
      "Epoch 66/1000\n",
      "8/8 [==============================] - 0s 8ms/step - loss: 7.0610 - mae: 1.9319 - mse: 7.0610 - val_loss: 6.6842 - val_mae: 2.0395 - val_mse: 6.6842\n",
      "Epoch 67/1000\n",
      "8/8 [==============================] - 0s 7ms/step - loss: 6.9080 - mae: 1.8899 - mse: 6.9080 - val_loss: 6.4981 - val_mae: 1.9937 - val_mse: 6.4981\n",
      "Epoch 68/1000\n",
      "8/8 [==============================] - 0s 7ms/step - loss: 6.8685 - mae: 1.8830 - mse: 6.8685 - val_loss: 6.3771 - val_mae: 1.9897 - val_mse: 6.3771\n",
      "Epoch 69/1000\n",
      "8/8 [==============================] - 0s 10ms/step - loss: 6.8396 - mae: 1.8797 - mse: 6.8396 - val_loss: 6.6856 - val_mae: 2.0651 - val_mse: 6.6856\n",
      "Epoch 70/1000\n",
      "8/8 [==============================] - 0s 9ms/step - loss: 6.7141 - mae: 1.8492 - mse: 6.7141 - val_loss: 6.5436 - val_mae: 1.9652 - val_mse: 6.5436\n",
      "Epoch 71/1000\n",
      "8/8 [==============================] - 0s 8ms/step - loss: 6.8091 - mae: 1.8671 - mse: 6.8091 - val_loss: 6.4057 - val_mae: 1.9977 - val_mse: 6.4057\n",
      "Epoch 72/1000\n",
      "8/8 [==============================] - 0s 8ms/step - loss: 6.8580 - mae: 1.8942 - mse: 6.8580 - val_loss: 6.3917 - val_mae: 1.9601 - val_mse: 6.3917\n",
      "Epoch 73/1000\n",
      "8/8 [==============================] - 0s 8ms/step - loss: 6.6433 - mae: 1.8525 - mse: 6.6433 - val_loss: 6.3528 - val_mae: 1.9734 - val_mse: 6.3528\n",
      "Epoch 74/1000\n",
      "8/8 [==============================] - 0s 8ms/step - loss: 6.7276 - mae: 1.8712 - mse: 6.7276 - val_loss: 6.3216 - val_mae: 1.9613 - val_mse: 6.3216\n",
      "Epoch 75/1000\n",
      "8/8 [==============================] - 0s 8ms/step - loss: 6.6809 - mae: 1.8688 - mse: 6.6809 - val_loss: 6.3944 - val_mae: 1.9644 - val_mse: 6.3944\n",
      "Epoch 76/1000\n",
      "8/8 [==============================] - 0s 9ms/step - loss: 6.6706 - mae: 1.8507 - mse: 6.6706 - val_loss: 6.4599 - val_mae: 2.0225 - val_mse: 6.4599\n",
      "Epoch 77/1000\n",
      "8/8 [==============================] - 0s 8ms/step - loss: 6.6074 - mae: 1.8413 - mse: 6.6074 - val_loss: 6.2626 - val_mae: 1.9615 - val_mse: 6.2626\n",
      "Epoch 78/1000\n",
      "8/8 [==============================] - 0s 7ms/step - loss: 6.7072 - mae: 1.8673 - mse: 6.7072 - val_loss: 6.2856 - val_mae: 1.9948 - val_mse: 6.2856\n",
      "Epoch 79/1000\n",
      "8/8 [==============================] - 0s 8ms/step - loss: 6.5684 - mae: 1.8704 - mse: 6.5684 - val_loss: 6.1670 - val_mae: 1.9620 - val_mse: 6.1670\n",
      "Epoch 80/1000\n",
      "8/8 [==============================] - 0s 8ms/step - loss: 6.5922 - mae: 1.8561 - mse: 6.5922 - val_loss: 6.3327 - val_mae: 1.9838 - val_mse: 6.3327\n",
      "Epoch 81/1000\n",
      "8/8 [==============================] - 0s 8ms/step - loss: 6.5597 - mae: 1.8372 - mse: 6.5597 - val_loss: 6.2150 - val_mae: 1.9617 - val_mse: 6.2150\n",
      "Epoch 82/1000\n",
      "8/8 [==============================] - 0s 10ms/step - loss: 6.5616 - mae: 1.8327 - mse: 6.5616 - val_loss: 6.2783 - val_mae: 1.9777 - val_mse: 6.2783\n",
      "Epoch 83/1000\n",
      "8/8 [==============================] - 0s 8ms/step - loss: 6.3249 - mae: 1.8095 - mse: 6.3249 - val_loss: 6.8214 - val_mae: 2.0960 - val_mse: 6.8214\n",
      "Epoch 84/1000\n",
      "8/8 [==============================] - 0s 9ms/step - loss: 6.4428 - mae: 1.8306 - mse: 6.4428 - val_loss: 6.0899 - val_mae: 1.9714 - val_mse: 6.0899\n",
      "Epoch 85/1000\n",
      "8/8 [==============================] - 0s 7ms/step - loss: 6.5964 - mae: 1.8521 - mse: 6.5964 - val_loss: 6.2071 - val_mae: 1.9994 - val_mse: 6.2071\n",
      "Epoch 86/1000\n",
      "8/8 [==============================] - 0s 8ms/step - loss: 6.3977 - mae: 1.8066 - mse: 6.3977 - val_loss: 6.3050 - val_mae: 1.9523 - val_mse: 6.3050\n",
      "Epoch 87/1000\n",
      "8/8 [==============================] - 0s 8ms/step - loss: 6.5462 - mae: 1.8333 - mse: 6.5462 - val_loss: 6.1214 - val_mae: 1.9502 - val_mse: 6.1214\n",
      "Epoch 88/1000\n",
      "8/8 [==============================] - 0s 8ms/step - loss: 6.3923 - mae: 1.8163 - mse: 6.3923 - val_loss: 6.0910 - val_mae: 1.9542 - val_mse: 6.0910\n",
      "Epoch 89/1000\n",
      "8/8 [==============================] - 0s 8ms/step - loss: 6.3767 - mae: 1.8355 - mse: 6.3767 - val_loss: 6.2678 - val_mae: 1.9453 - val_mse: 6.2678\n",
      "Epoch 90/1000\n",
      "8/8 [==============================] - 0s 9ms/step - loss: 6.5005 - mae: 1.8439 - mse: 6.5005 - val_loss: 6.1864 - val_mae: 1.9456 - val_mse: 6.1864\n",
      "Epoch 91/1000\n",
      "8/8 [==============================] - 0s 8ms/step - loss: 6.2826 - mae: 1.8057 - mse: 6.2826 - val_loss: 6.1048 - val_mae: 1.9466 - val_mse: 6.1048\n",
      "Epoch 92/1000\n",
      "8/8 [==============================] - 0s 8ms/step - loss: 6.2580 - mae: 1.8050 - mse: 6.2580 - val_loss: 6.1569 - val_mae: 1.9494 - val_mse: 6.1569\n",
      "Epoch 93/1000\n",
      "8/8 [==============================] - 0s 8ms/step - loss: 6.3985 - mae: 1.7961 - mse: 6.3985 - val_loss: 6.1830 - val_mae: 1.9416 - val_mse: 6.1830\n",
      "Epoch 94/1000\n",
      "8/8 [==============================] - 0s 8ms/step - loss: 6.3282 - mae: 1.8139 - mse: 6.3282 - val_loss: 6.0350 - val_mae: 1.9374 - val_mse: 6.0350\n",
      "Epoch 95/1000\n",
      "8/8 [==============================] - 0s 8ms/step - loss: 6.3006 - mae: 1.8086 - mse: 6.3006 - val_loss: 6.1442 - val_mae: 1.9314 - val_mse: 6.1442\n",
      "Epoch 96/1000\n",
      "8/8 [==============================] - 0s 7ms/step - loss: 6.2876 - mae: 1.8121 - mse: 6.2876 - val_loss: 6.0472 - val_mae: 1.9325 - val_mse: 6.0472\n",
      "Epoch 97/1000\n",
      "8/8 [==============================] - 0s 8ms/step - loss: 6.1630 - mae: 1.7891 - mse: 6.1630 - val_loss: 6.3368 - val_mae: 2.0010 - val_mse: 6.3368\n",
      "Epoch 98/1000\n",
      "8/8 [==============================] - 0s 9ms/step - loss: 6.3002 - mae: 1.7965 - mse: 6.3002 - val_loss: 6.0987 - val_mae: 1.9655 - val_mse: 6.0987\n",
      "Epoch 99/1000\n",
      "8/8 [==============================] - 0s 7ms/step - loss: 6.2117 - mae: 1.7889 - mse: 6.2117 - val_loss: 6.0806 - val_mae: 1.9223 - val_mse: 6.0806\n",
      "Epoch 100/1000\n",
      "8/8 [==============================] - 0s 8ms/step - loss: 6.3569 - mae: 1.8047 - mse: 6.3569 - val_loss: 6.0069 - val_mae: 1.9380 - val_mse: 6.0069\n",
      "Epoch 101/1000\n",
      "8/8 [==============================] - 0s 8ms/step - loss: 6.0872 - mae: 1.7585 - mse: 6.0872 - val_loss: 6.1282 - val_mae: 1.9784 - val_mse: 6.1282\n",
      "Epoch 102/1000\n",
      "8/8 [==============================] - 0s 8ms/step - loss: 6.1176 - mae: 1.7687 - mse: 6.1176 - val_loss: 6.0484 - val_mae: 1.9665 - val_mse: 6.0484\n",
      "Epoch 103/1000\n",
      "8/8 [==============================] - 0s 8ms/step - loss: 6.3023 - mae: 1.7927 - mse: 6.3023 - val_loss: 6.0284 - val_mae: 1.9502 - val_mse: 6.0284\n",
      "Epoch 104/1000\n",
      "8/8 [==============================] - 0s 7ms/step - loss: 5.9988 - mae: 1.7404 - mse: 5.9988 - val_loss: 6.4187 - val_mae: 2.0316 - val_mse: 6.4187\n",
      "Epoch 105/1000\n",
      "8/8 [==============================] - 0s 8ms/step - loss: 6.2597 - mae: 1.7945 - mse: 6.2597 - val_loss: 6.1504 - val_mae: 1.9827 - val_mse: 6.1504\n",
      "Epoch 106/1000\n",
      "8/8 [==============================] - 0s 7ms/step - loss: 6.0971 - mae: 1.7571 - mse: 6.0971 - val_loss: 6.1062 - val_mae: 1.9436 - val_mse: 6.1062\n",
      "Epoch 107/1000\n",
      "8/8 [==============================] - 0s 8ms/step - loss: 6.1191 - mae: 1.7835 - mse: 6.1191 - val_loss: 5.9653 - val_mae: 1.9467 - val_mse: 5.9653\n",
      "Epoch 108/1000\n",
      "8/8 [==============================] - 0s 7ms/step - loss: 6.1537 - mae: 1.7865 - mse: 6.1537 - val_loss: 6.0546 - val_mae: 1.9388 - val_mse: 6.0546\n",
      "Epoch 109/1000\n",
      "8/8 [==============================] - 0s 8ms/step - loss: 6.3095 - mae: 1.7829 - mse: 6.3095 - val_loss: 5.9187 - val_mae: 1.9377 - val_mse: 5.9187\n",
      "Epoch 110/1000\n",
      "8/8 [==============================] - 0s 8ms/step - loss: 6.0953 - mae: 1.7478 - mse: 6.0953 - val_loss: 6.2982 - val_mae: 2.0068 - val_mse: 6.2982\n",
      "Epoch 111/1000\n",
      "8/8 [==============================] - 0s 8ms/step - loss: 5.9977 - mae: 1.7554 - mse: 5.9977 - val_loss: 5.9431 - val_mae: 1.9329 - val_mse: 5.9431\n",
      "Epoch 112/1000\n",
      "8/8 [==============================] - 0s 10ms/step - loss: 6.1063 - mae: 1.7768 - mse: 6.1063 - val_loss: 6.0319 - val_mae: 1.9332 - val_mse: 6.0319\n",
      "Epoch 113/1000\n",
      "8/8 [==============================] - 0s 8ms/step - loss: 6.1178 - mae: 1.7708 - mse: 6.1178 - val_loss: 5.9974 - val_mae: 1.9312 - val_mse: 5.9974\n",
      "Epoch 114/1000\n",
      "8/8 [==============================] - 0s 10ms/step - loss: 5.9925 - mae: 1.7568 - mse: 5.9925 - val_loss: 5.9959 - val_mae: 1.9352 - val_mse: 5.9959\n",
      "Epoch 115/1000\n",
      "8/8 [==============================] - 0s 8ms/step - loss: 6.0351 - mae: 1.7602 - mse: 6.0351 - val_loss: 6.0675 - val_mae: 1.9456 - val_mse: 6.0675\n",
      "Epoch 116/1000\n",
      "8/8 [==============================] - 0s 8ms/step - loss: 5.9283 - mae: 1.7391 - mse: 5.9283 - val_loss: 5.9486 - val_mae: 1.9286 - val_mse: 5.9486\n",
      "Epoch 117/1000\n",
      "8/8 [==============================] - 0s 10ms/step - loss: 5.9882 - mae: 1.7543 - mse: 5.9882 - val_loss: 5.9791 - val_mae: 1.9114 - val_mse: 5.9791\n",
      "Epoch 118/1000\n",
      "8/8 [==============================] - 0s 8ms/step - loss: 6.0757 - mae: 1.7584 - mse: 6.0757 - val_loss: 6.0266 - val_mae: 1.9329 - val_mse: 6.0266\n",
      "Epoch 119/1000\n",
      "8/8 [==============================] - 0s 8ms/step - loss: 5.9376 - mae: 1.7442 - mse: 5.9376 - val_loss: 6.1593 - val_mae: 1.9707 - val_mse: 6.1593\n"
     ]
    }
   ],
   "source": [
    "EPOCHS = 1000\n",
    "\n",
    "# patience 매개변수는 성능 향상을 체크할 에포크 횟수입니다\n",
    "early_stop = tf.keras.callbacks.EarlyStopping(monitor='val_loss', patience=10)\n",
    "\n",
    "history = model.fit(X_train, y_train, epochs=EPOCHS,\n",
    "                     validation_split = 0.2, verbose=1, callbacks=[early_stop])"
   ]
  },
  {
   "cell_type": "markdown",
   "metadata": {
    "id": "tQm3pc0FYPQB"
   },
   "source": [
    "`history` 객체에 저장된 통계치를 사용해 모델의 훈련 과정을 시각화"
   ]
  },
  {
   "cell_type": "code",
   "execution_count": 30,
   "metadata": {
    "colab": {
     "base_uri": "https://localhost:8080/",
     "height": 279
    },
    "id": "B6XriGbVPh2t",
    "outputId": "abf86cd2-d328-4ec8-b558-852a32d4f5f5"
   },
   "outputs": [
    {
     "data": {
      "image/png": "[encoded data removed]",
      "text/plain": [
       "<Figure size 864x288 with 2 Axes>"
      ]
     },
     "metadata": {
      "needs_background": "light"
     },
     "output_type": "display_data"
    }
   ],
   "source": [
    "plt.figure(figsize=(12, 4))\n",
    "\n",
    "plt.subplot(1,2,1)\n",
    "plt.plot(history.history['mae'], label='Train Error')\n",
    "plt.plot(history.history['val_mae'], label = 'Val Error')\n",
    "plt.legend()\n",
    "plt.xlabel('Epoch')\n",
    "plt.ylabel('Mean Abs Error [MPG]')\n",
    "\n",
    "plt.subplot(1,2,2)\n",
    "plt.plot(history.history['mse'], label='Train Error')\n",
    "plt.plot(history.history['val_mse'], label = 'Val Error')\n",
    "plt.legend()\n",
    "plt.xlabel('Epoch')\n",
    "plt.ylabel('Mean Square Error [$MPG^2$]')\n",
    "plt.show()"
   ]
  },
  {
   "cell_type": "code",
   "execution_count": 33,
   "metadata": {
    "colab": {
     "base_uri": "https://localhost:8080/"
    },
    "id": "jl_yNr5n1kms",
    "outputId": "646f6007-0038-4b50-8939-1a6f7af57eb1"
   },
   "outputs": [
    {
     "name": "stdout",
     "output_type": "stream",
     "text": [
      "3/3 - 0s - loss: 5.9577 - mae: 1.7641 - mse: 5.9577 - 45ms/epoch - 15ms/step\n",
      "테스트 세트의 평균 절대 오차:  1.76 MPG\n"
     ]
    }
   ],
   "source": [
    "loss, mae, mse = model.evaluate(X_test, y_test, verbose=2)\n",
    "\n",
    "print(\"테스트 세트의 평균 절대 오차: {:5.2f} MPG\".format(mae))"
   ]
  },
  {
   "cell_type": "markdown",
   "metadata": {
    "id": "ft603OzXuEZC"
   },
   "source": [
    "## 예측\n",
    "\n",
    "마지막으로 테스트 세트에 있는 샘플을 사용해 MPG 값을 예측해 보겠습니다:"
   ]
  },
  {
   "cell_type": "code",
   "execution_count": 34,
   "metadata": {
    "colab": {
     "base_uri": "https://localhost:8080/",
     "height": 298
    },
    "id": "Xe7RXH3N3CWU",
    "outputId": "013c1f79-432b-4ef2-862e-82e236e79a83"
   },
   "outputs": [
    {
     "data": {
      "text/plain": [
       "(8.27, 46.33, 8.27, 46.33)"
      ]
     },
     "execution_count": 34,
     "metadata": {},
     "output_type": "execute_result"
    },
    {
     "data": {
      "image/png": "[encoded data removed]",
      "text/plain": [
       "<Figure size 432x288 with 1 Axes>"
      ]
     },
     "metadata": {
      "needs_background": "light"
     },
     "output_type": "display_data"
    }
   ],
   "source": [
    "y_pred = model.predict(X_test).flatten()\n",
    "\n",
    "plt.scatter(y_test, y_pred)\n",
    "plt.plot(y_test, y_test, c='r')\n",
    "plt.xlabel('True Values [MPG]')\n",
    "plt.ylabel('Predictions [MPG]')\n",
    "plt.axis('equal')\n",
    "plt.axis('square')\n"
   ]
  },
  {
   "cell_type": "code",
   "execution_count": null,
   "metadata": {
    "id": "_fQ3Ne9tsTCD"
   },
   "outputs": [],
   "source": []
  }
 ],
 "metadata": {
  "accelerator": "GPU",
  "colab": {
   "collapsed_sections": [],
   "name": "101_car_mpg_regression.ipynb",
   "provenance": []
  },
  "gpuClass": "standard",
  "kernelspec": {
   "display_name": "Python 3 (ipykernel)",
   "language": "python",
   "name": "python3"
  },
  "language_info": {
   "codemirror_mode": {
    "name": "ipython",
    "version": 3
   },
   "file_extension": ".py",
   "mimetype": "text/x-python",
   "name": "python",
   "nbconvert_exporter": "python",
   "pygments_lexer": "ipython3",
   "version": "3.8.13"
  }
 },
 "nbformat": 4,
 "nbformat_minor": 1
}
