{
 "cells": [
  {
   "cell_type": "markdown",
   "metadata": {
    "id": "JnKRe0p9h35K"
   },
   "source": [
    "# Keras에 내장된 사전 훈련 모델을 이용한 Image 분류\n",
    "\n",
    "- ResNet50 pre-trained model 사용\n",
    "\n",
    "- 1000 개의 class 분류 모델인 ResNet50 을 binary classifier (cat, dog) 으로 변형\n",
    "\n",
    "- google colab 사용  \n",
    "\n",
    "- My Drive 에 training data upload"
   ]
  },
  {
   "cell_type": "markdown",
   "metadata": {
    "id": "fr6pOOh0hHaj"
   },
   "source": [
    "## STEP #1: IMPORT LIBRARIES"
   ]
  },
  {
   "cell_type": "code",
   "execution_count": 1,
   "metadata": {
    "id": "QqPjanlXkVzi"
   },
   "outputs": [],
   "source": [
    "import tensorflow as tf\n",
    "import pandas as pd\n",
    "import numpy as np\n",
    "import matplotlib.pyplot as plt\n",
    "\n",
    "from tensorflow.keras.preprocessing.image import load_img, img_to_array"
   ]
  },
  {
   "cell_type": "markdown",
   "metadata": {
    "id": "qqOSkGp9R55q"
   },
   "source": [
    "## STEP #2: 사전 훈련된 가중치가 있는 모델 가져 오기"
   ]
  },
  {
   "cell_type": "code",
   "execution_count": 2,
   "metadata": {
    "id": "Bo7rP5ZIb7pv"
   },
   "outputs": [
    {
     "name": "stdout",
     "output_type": "stream",
     "text": [
      "Downloading data from https://storage.googleapis.com/tensorflow/keras-applications/resnet/resnet50_weights_tf_dim_ordering_tf_kernels.h5\n",
      "102967424/102967424 [==============================] - 5s 0us/step\n"
     ]
    }
   ],
   "source": [
    "model = tf.keras.applications.ResNet50(weights = 'imagenet')"
   ]
  },
  {
   "cell_type": "markdown",
   "metadata": {
    "id": "jWb45OshSDsr"
   },
   "source": [
    "## STEP #3: 사전 훈련된 모델 평가"
   ]
  },
  {
   "cell_type": "markdown",
   "metadata": {
    "id": "AVEinq4IfuZ5"
   },
   "source": [
    "지정한 URL 에서 data 를 가져와 압축해제"
   ]
  },
  {
   "cell_type": "code",
   "execution_count": 3,
   "metadata": {
    "id": "vX5uJvqNiwT1"
   },
   "outputs": [
    {
     "name": "stdout",
     "output_type": "stream",
     "text": [
      "Downloading data from https://storage.googleapis.com/mledu-datasets/cats_and_dogs_filtered.zip\n",
      "68606236/68606236 [==============================] - 2s 0us/step\n"
     ]
    }
   ],
   "source": [
    "_URL = 'https://storage.googleapis.com/mledu-datasets/cats_and_dogs_filtered.zip'\n",
    "path_to_zip = tf.keras.utils.get_file('cats_and_dogs_filtered.zip', origin=_URL, \n",
    "                                      extract=True, cache_dir='/content/sample_data')"
   ]
  },
  {
   "cell_type": "markdown",
   "metadata": {
    "id": "kmM92S_O6ROF"
   },
   "source": [
    "**tf.keras.preprocessing.image.load_img** - image 를 PIL (Python Image Library) format 으로 load  \n",
    "\n",
    "**tf.keras.preprocessing.image.img_to_array** - PIL image 를 numpy array 로 변경"
   ]
  },
  {
   "cell_type": "code",
   "execution_count": 4,
   "metadata": {
    "id": "t7CVLTfNjINt"
   },
   "outputs": [
    {
     "ename": "FileNotFoundError",
     "evalue": "[Errno 2] No such file or directory: '/content/sample_data/datasets/cats_and_dogs_filtered/train/dogs/dog.1.jpg'",
     "output_type": "error",
     "traceback": [
      "\u001b[1;31m---------------------------------------------------------------------------\u001b[0m",
      "\u001b[1;31mFileNotFoundError\u001b[0m                         Traceback (most recent call last)",
      "Input \u001b[1;32mIn [4]\u001b[0m, in \u001b[0;36m<cell line: 1>\u001b[1;34m()\u001b[0m\n\u001b[1;32m----> 1\u001b[0m sample_img\u001b[38;5;241m=\u001b[39m \u001b[43mload_img\u001b[49m\u001b[43m(\u001b[49m\n\u001b[0;32m      2\u001b[0m \u001b[43m    \u001b[49m\u001b[38;5;124;43m'\u001b[39;49m\u001b[38;5;124;43m/content/sample_data/datasets/cats_and_dogs_filtered/train/dogs/dog.1.jpg\u001b[39;49m\u001b[38;5;124;43m'\u001b[39;49m\u001b[43m,\u001b[49m\u001b[43m \u001b[49m\u001b[43mtarget_size\u001b[49m\u001b[38;5;241;43m=\u001b[39;49m\u001b[43m(\u001b[49m\u001b[38;5;241;43m224\u001b[39;49m\u001b[43m,\u001b[49m\u001b[43m \u001b[49m\u001b[38;5;241;43m224\u001b[39;49m\u001b[43m)\u001b[49m\u001b[43m)\u001b[49m\n",
      "File \u001b[1;32m~\\anaconda3\\envs\\tf20\\lib\\site-packages\\keras\\utils\\image_utils.py:393\u001b[0m, in \u001b[0;36mload_img\u001b[1;34m(path, grayscale, color_mode, target_size, interpolation, keep_aspect_ratio)\u001b[0m\n\u001b[0;32m    391\u001b[0m   \u001b[38;5;28;01mif\u001b[39;00m \u001b[38;5;28misinstance\u001b[39m(path, pathlib\u001b[38;5;241m.\u001b[39mPath):\n\u001b[0;32m    392\u001b[0m     path \u001b[38;5;241m=\u001b[39m \u001b[38;5;28mstr\u001b[39m(path\u001b[38;5;241m.\u001b[39mresolve())\n\u001b[1;32m--> 393\u001b[0m   \u001b[38;5;28;01mwith\u001b[39;00m \u001b[38;5;28;43mopen\u001b[39;49m\u001b[43m(\u001b[49m\u001b[43mpath\u001b[49m\u001b[43m,\u001b[49m\u001b[43m \u001b[49m\u001b[38;5;124;43m'\u001b[39;49m\u001b[38;5;124;43mrb\u001b[39;49m\u001b[38;5;124;43m'\u001b[39;49m\u001b[43m)\u001b[49m \u001b[38;5;28;01mas\u001b[39;00m f:\n\u001b[0;32m    394\u001b[0m     img \u001b[38;5;241m=\u001b[39m pil_image\u001b[38;5;241m.\u001b[39mopen(io\u001b[38;5;241m.\u001b[39mBytesIO(f\u001b[38;5;241m.\u001b[39mread()))\n\u001b[0;32m    395\u001b[0m \u001b[38;5;28;01melse\u001b[39;00m:\n",
      "\u001b[1;31mFileNotFoundError\u001b[0m: [Errno 2] No such file or directory: '/content/sample_data/datasets/cats_and_dogs_filtered/train/dogs/dog.1.jpg'"
     ]
    }
   ],
   "source": [
    "sample_img= load_img(\n",
    "    '/content/sample_data/datasets/cats_and_dogs_filtered/train/dogs/dog.1.jpg', target_size=(224, 224))"
   ]
  },
  {
   "cell_type": "code",
   "execution_count": null,
   "metadata": {
    "colab": {
     "base_uri": "https://localhost:8080/",
     "height": 288
    },
    "id": "Po32oDA3jjpt",
    "outputId": "ffb59959-2c1c-439b-bf80-573d293aa513"
   },
   "outputs": [],
   "source": [
    "plt.imshow(sample_img)"
   ]
  },
  {
   "cell_type": "code",
   "execution_count": null,
   "metadata": {
    "colab": {
     "base_uri": "https://localhost:8080/"
    },
    "id": "J1nxbnpgjpfn",
    "outputId": "c0714cca-fa32-468a-ffc5-79a4e05e035a"
   },
   "outputs": [],
   "source": [
    "sample_img = img_to_array(sample_img)\n",
    "sample_img = np.expand_dims(sample_img, axis = 0)\n",
    "\n",
    "sample_img.shape"
   ]
  },
  {
   "cell_type": "markdown",
   "metadata": {
    "id": "4aLthYPzorJa"
   },
   "source": [
    "### ResNet50 의 입력 spec 에 맞도록 Sample_Image preprocessing"
   ]
  },
  {
   "cell_type": "code",
   "execution_count": null,
   "metadata": {
    "id": "meG5R376j0Pf"
   },
   "outputs": [],
   "source": [
    "sample_img = tf.keras.applications.resnet50.preprocess_input(sample_img)"
   ]
  },
  {
   "cell_type": "code",
   "execution_count": null,
   "metadata": {
    "colab": {
     "base_uri": "https://localhost:8080/"
    },
    "id": "OTP6Hctuj4uA",
    "outputId": "3a9cbf8e-cc29-4872-942d-daa9850a73ee"
   },
   "outputs": [],
   "source": [
    "predictions = model.predict(sample_img)\n",
    "print(predictions.shape)\n",
    "print(predictions[0,:10])"
   ]
  },
  {
   "cell_type": "markdown",
   "metadata": {
    "id": "uztWKZ8LpQuB"
   },
   "source": [
    "### 확률 분포로 반환된 prediction 을 category name 으로 decode"
   ]
  },
  {
   "cell_type": "code",
   "execution_count": null,
   "metadata": {
    "colab": {
     "base_uri": "https://localhost:8080/"
    },
    "id": "tV5RHWiEj4rq",
    "outputId": "b1a4a32f-ea53-4ccb-89fc-c7fd094a46a9"
   },
   "outputs": [],
   "source": [
    "print('predictions:', tf.keras.applications.resnet50.decode_predictions(predictions, top = 5)[0])"
   ]
  },
  {
   "cell_type": "markdown",
   "metadata": {
    "id": "3AO4TXdhs4rU"
   },
   "source": [
    "### ImageDataGenerator 생성"
   ]
  },
  {
   "cell_type": "code",
   "execution_count": null,
   "metadata": {
    "colab": {
     "base_uri": "https://localhost:8080/"
    },
    "id": "FBN7-2dOs3gK",
    "outputId": "96436739-00c6-4554-f59b-55e6f4144b9f"
   },
   "outputs": [],
   "source": [
    "image_datagen = tf.keras.preprocessing.image.ImageDataGenerator(\n",
    "                    preprocessing_function= tf.keras.applications.resnet50.preprocess_input)\n",
    "\n",
    "train_ds = image_datagen.flow_from_directory('/content/sample_data/datasets/cats_and_dogs_filtered/train', \n",
    "                                                   color_mode = 'rgb',\n",
    "                                                   batch_size = 32,\n",
    "                                                   target_size=(224, 224),\n",
    "                                                   class_mode = 'categorical',\n",
    "                                                   shuffle = True)\n",
    "\n",
    "test_ds = image_datagen.flow_from_directory('/content/sample_data/datasets/cats_and_dogs_filtered/validation', \n",
    "                                                   color_mode = 'rgb',\n",
    "                                                   batch_size = 32,\n",
    "                                                   target_size=(224, 224),\n",
    "                                                   class_mode = 'categorical')"
   ]
  },
  {
   "cell_type": "markdown",
   "metadata": {
    "id": "H38yzWMAn7hu"
   },
   "source": [
    "## STEP #4: 전이학습 적용 및 model RETRAIN \n",
    "\n",
    "- ResNet50 의 top layer 제거 (include_top = False)\n",
    "- GlobalAaveragePooling2D + Dense() layer 5 개 추가\n",
    "    - global_average_layer = keras.layers.GlobalAveragePooling2D()(base_model.output)\n",
    "    - prediction_layer = keras.layers.Dense(units=2, activation='softmax')(global_average_layer)"
   ]
  },
  {
   "cell_type": "code",
   "execution_count": null,
   "metadata": {
    "id": "daq3TE6BnFjp"
   },
   "outputs": [],
   "source": [
    "base_model = tf.keras.applications.ResNet50(weights = 'imagenet', include_top = False)"
   ]
  },
  {
   "cell_type": "code",
   "execution_count": null,
   "metadata": {
    "colab": {
     "base_uri": "https://localhost:8080/"
    },
    "id": "2dwWVydWnFfk",
    "outputId": "b008cb83-6946-41a9-ce78-9141077419aa"
   },
   "outputs": [],
   "source": [
    "for layer in base_model.layers[-5:]:\n",
    "    print(layer.name)"
   ]
  },
  {
   "cell_type": "markdown",
   "metadata": {
    "id": "6mtXPmkA0V9W"
   },
   "source": [
    "### base model 의 top 에 5 개 layer 추가"
   ]
  },
  {
   "cell_type": "code",
   "execution_count": null,
   "metadata": {
    "id": "Bd2UgUtKpMnf"
   },
   "outputs": [],
   "source": [
    "x = base_model.output\n",
    "\n",
    "x = tf.keras.layers.GlobalAveragePooling2D()(x)\n",
    "x = tf.keras.layers.Dense(1024, activation = 'relu')(x)\n",
    "x = tf.keras.layers.Dense(512, activation = 'relu')(x)\n",
    "x = tf.keras.layers.Dense(256, activation = 'relu')(x)\n",
    "x = tf.keras.layers.Dense(64, activation = 'relu')(x)\n",
    "preds = tf.keras.layers.Dense(2, activation = 'softmax')(x)"
   ]
  },
  {
   "cell_type": "code",
   "execution_count": null,
   "metadata": {
    "id": "1YNlmSRupg5W"
   },
   "outputs": [],
   "source": [
    "model = tf.keras.models.Model(inputs = base_model.input, outputs = preds)"
   ]
  },
  {
   "cell_type": "code",
   "execution_count": null,
   "metadata": {
    "colab": {
     "base_uri": "https://localhost:8080/"
    },
    "id": "ivMg7Bu2priF",
    "outputId": "04380d9e-c8c9-4153-86fb-e7579c17f474"
   },
   "outputs": [],
   "source": [
    "for layer in model.layers[-10:]:\n",
    "    print(layer.name)"
   ]
  },
  {
   "cell_type": "markdown",
   "metadata": {
    "id": "3x6JUbE0sHPh"
   },
   "source": [
    "### Fine tuning 하기 전에 새로이 add 한 Top 5 layer 들을 1 차 training 하여 초기화"
   ]
  },
  {
   "cell_type": "code",
   "execution_count": null,
   "metadata": {
    "id": "GO7lhwMkxvqn"
   },
   "outputs": [],
   "source": [
    "for layer in model.layers[:-5]:\n",
    "    layer.trainable = False\n",
    "\n",
    "for layer in model.layers[-5:]:\n",
    "    layer.trainable = True"
   ]
  },
  {
   "cell_type": "code",
   "execution_count": null,
   "metadata": {
    "id": "4wzUTvzmsQge"
   },
   "outputs": [],
   "source": [
    "model.compile(optimizer = 'Adam', loss = 'categorical_crossentropy', metrics = ['accuracy'])"
   ]
  },
  {
   "cell_type": "code",
   "execution_count": null,
   "metadata": {
    "colab": {
     "base_uri": "https://localhost:8080/"
    },
    "id": "RTAGRmeutbNd",
    "outputId": "297332a3-7e00-4d88-b90f-62ecebcb9925"
   },
   "outputs": [],
   "source": [
    "model.fit(train_ds,  epochs = 5)"
   ]
  },
  {
   "cell_type": "code",
   "execution_count": null,
   "metadata": {
    "colab": {
     "base_uri": "https://localhost:8080/"
    },
    "id": "TauyYPWZsQMG",
    "outputId": "ec7626f3-997e-41d3-9784-dc425003bc79"
   },
   "outputs": [],
   "source": [
    "model.summary()"
   ]
  },
  {
   "cell_type": "markdown",
   "metadata": {
    "id": "JtaefF85r7DY"
   },
   "source": [
    "### Top 50 개 layer 를 fine tuning"
   ]
  },
  {
   "cell_type": "code",
   "execution_count": null,
   "metadata": {
    "id": "pw0D8fWrpvEL"
   },
   "outputs": [],
   "source": [
    "for layer in model.layers[:-50]:\n",
    "    layer.trainable = False\n",
    "\n",
    "for layer in model.layers[-50:]:\n",
    "    layer.trainable = True"
   ]
  },
  {
   "cell_type": "code",
   "execution_count": null,
   "metadata": {
    "id": "VqFpbiPNqWJ8"
   },
   "outputs": [],
   "source": [
    "model.compile(optimizer = 'adam', loss = 'categorical_crossentropy', metrics = ['accuracy'])"
   ]
  },
  {
   "cell_type": "code",
   "execution_count": null,
   "metadata": {
    "colab": {
     "base_uri": "https://localhost:8080/"
    },
    "id": "uL3VSVYPqXuV",
    "outputId": "0350c95b-2160-40d0-f488-e4a59d7da504"
   },
   "outputs": [],
   "source": [
    "history = model.fit(train_ds, epochs = 10, validation_data=test_ds, verbose=1)"
   ]
  },
  {
   "cell_type": "code",
   "execution_count": null,
   "metadata": {
    "colab": {
     "base_uri": "https://localhost:8080/"
    },
    "id": "gx4L4ykxpbZG",
    "outputId": "a41f2f21-04da-44fa-fcdf-e8d389cbccfe"
   },
   "outputs": [],
   "source": [
    "model.evaluate(test_ds, verbose=0)"
   ]
  },
  {
   "cell_type": "markdown",
   "metadata": {
    "id": "0wR3uKW8g5po"
   },
   "source": [
    "## STEP #5: MODEL 평가"
   ]
  },
  {
   "cell_type": "code",
   "execution_count": null,
   "metadata": {
    "colab": {
     "base_uri": "https://localhost:8080/",
     "height": 300
    },
    "id": "hW_BIEqpHXPk",
    "outputId": "76cc7353-58e4-4732-f616-201fa6645757"
   },
   "outputs": [],
   "source": [
    "fig, (ax1, ax2) = plt.subplots(1, 2, figsize=(12, 4))\n",
    "\n",
    "ax1.plot(history.history['accuracy'], label='train accuracy')\n",
    "ax1.plot(history.history['val_accuracy'], label='validation accuracy')\n",
    "ax1.set_title('Training and validation accuracy')\n",
    "ax1.legend()\n",
    "\n",
    "ax2.plot(history.history['loss'], label='train loss')\n",
    "ax2.plot(history.history['val_loss'], label='validation loss')\n",
    "ax2.set_title('Training and validation Loss')\n",
    "ax2.legend()"
   ]
  },
  {
   "cell_type": "code",
   "execution_count": null,
   "metadata": {
    "id": "tE5NglT_r_p_"
   },
   "outputs": [],
   "source": [
    "test_imgs, test_labels = next(test_ds)\n",
    "y_true = np.argmax(test_labels, axis=1)"
   ]
  },
  {
   "cell_type": "code",
   "execution_count": null,
   "metadata": {
    "colab": {
     "base_uri": "https://localhost:8080/"
    },
    "id": "M4SaPqwopA34",
    "outputId": "f6ab15cf-ca30-465a-9df7-738b3789f792"
   },
   "outputs": [],
   "source": [
    "y_pred = model.predict(test_imgs)\n",
    "predictions = np.argmax(y_pred, axis=1)\n",
    "\n",
    "print(y_true)\n",
    "print(predictions)"
   ]
  },
  {
   "cell_type": "code",
   "execution_count": null,
   "metadata": {
    "id": "jhPhngs9ed_F"
   },
   "outputs": [],
   "source": [
    "from PIL import Image\n",
    "from urllib import request\n",
    "from io import BytesIO\n",
    "\n",
    "url = \"https://i.pinimg.com/736x/b5/c6/38/b5c638e81c104937e4b79379a9544c70.jpg\"\n",
    "res = request.urlopen(url).read()\n",
    "img = Image.open(BytesIO(res)).resize((224,224))"
   ]
  },
  {
   "cell_type": "code",
   "execution_count": null,
   "metadata": {
    "colab": {
     "base_uri": "https://localhost:8080/",
     "height": 288
    },
    "id": "jG5aHqs7gOVu",
    "outputId": "18e24136-9f81-4bb4-ac11-a0694b345fce"
   },
   "outputs": [],
   "source": [
    "plt.imshow(img)"
   ]
  },
  {
   "cell_type": "code",
   "execution_count": null,
   "metadata": {
    "colab": {
     "base_uri": "https://localhost:8080/"
    },
    "id": "EFeqoExjqoME",
    "outputId": "f01a6e21-3b72-4325-fcbf-825e6e1bed44"
   },
   "outputs": [],
   "source": [
    "sample_img = tf.keras.preprocessing.image.img_to_array(img)\n",
    "sample_img = np.expand_dims(sample_img, axis = 0)\n",
    "sample_img.shape"
   ]
  },
  {
   "cell_type": "code",
   "execution_count": null,
   "metadata": {
    "colab": {
     "base_uri": "https://localhost:8080/"
    },
    "id": "ABspYt1yrumR",
    "outputId": "06953eb8-dd60-43b6-d98a-7cc046ecf411"
   },
   "outputs": [],
   "source": [
    "sample_img = tf.keras.applications.resnet50.preprocess_input(sample_img)\n",
    "\n",
    "prediction = model.predict(sample_img)\n",
    "print('Predictions:', ['cat', 'dog'][np.argmax(prediction)])"
   ]
  }
 ],
 "metadata": {
  "accelerator": "GPU",
  "colab": {
   "collapsed_sections": [],
   "name": "360_Transfer_Learning_ResNet50.ipynb",
   "provenance": []
  },
  "kernelspec": {
   "display_name": "Python 3 (ipykernel)",
   "language": "python",
   "name": "python3"
  },
  "language_info": {
   "codemirror_mode": {
    "name": "ipython",
    "version": 3
   },
   "file_extension": ".py",
   "mimetype": "text/x-python",
   "name": "python",
   "nbconvert_exporter": "python",
   "pygments_lexer": "ipython3",
   "version": "3.8.13"
  }
 },
 "nbformat": 4,
 "nbformat_minor": 1
}
